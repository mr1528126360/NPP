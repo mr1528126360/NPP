{
 "cells": [
  {
   "cell_type": "code",
   "execution_count": 1,
   "id": "41dbfbfc",
   "metadata": {},
   "outputs": [
    {
     "name": "stdout",
     "output_type": "stream",
     "text": [
      "1.10.0+cu113 True\n",
      "0.15.0\n",
      "11.3\n",
      "MSVC 192930137\n"
     ]
    }
   ],
   "source": [
    "# 检查torch的安装以及gpu的使用\n",
    "import torch, torchvision\n",
    "print(torch.__version__, torch.cuda.is_available())\n",
    "\n",
    "# 检查MMAction2的安装\n",
    "import mmaction\n",
    "print(mmaction.__version__)\n",
    "\n",
    "# 检查mmcv的安装\n",
    "from mmcv.ops import get_compiling_cuda_version, get_compiler_version\n",
    "print(get_compiling_cuda_version())\n",
    "print(get_compiler_version())"
   ]
  },
  {
   "cell_type": "code",
   "execution_count": 2,
   "id": "0c54217e",
   "metadata": {},
   "outputs": [
    {
     "name": "stdout",
     "output_type": "stream",
     "text": [
      "configs/recognition/swin/swin_base_patch244_window877_kinetics400_1k.py\n"
     ]
    },
    {
     "name": "stderr",
     "output_type": "stream",
     "text": [
      "C:\\Users\\15281\\anaconda3\\lib\\site-packages\\torch\\functional.py:445: UserWarning: torch.meshgrid: in an upcoming release, it will be required to pass the indexing argument. (Triggered internally at  ..\\aten\\src\\ATen\\native\\TensorShape.cpp:2157.)\n",
      "  return _VF.meshgrid(tensors, **kwargs)  # type: ignore[attr-defined]\n"
     ]
    },
    {
     "name": "stdout",
     "output_type": "stream",
     "text": [
      "load checkpoint from local path: checkpoints/swin_base_patch244_window877_kinetics400_1k.pth\n"
     ]
    }
   ],
   "source": [
    "from mmaction.apis import inference_recognizer, init_recognizer\n",
    "\n",
    "# 选择tsn对应的配置文件\n",
    "config = 'configs/recognition/swin/swin_base_patch244_window877_kinetics400_1k.py'\n",
    "# 加载上面下载的checkpoint文件\n",
    "checkpoint =  'checkpoints/swin_base_patch244_window877_kinetics400_1k.pth'\n",
    "# 初始化模型\n",
    "print(config)\n",
    "model = init_recognizer(config, checkpoint, device='cuda:1')"
   ]
  },
  {
   "cell_type": "code",
   "execution_count": 3,
   "id": "36bb4fbc",
   "metadata": {},
   "outputs": [],
   "source": [
    "import pandas as pd\n",
    "from sklearn.model_selection import train_test_split\n",
    "import random\n",
    "\n",
    "# Function to read and randomly split a txt file\n",
    "def read_and_split_txt(file_path, test_size=0.2):\n",
    "    # Read the txt file into a pandas DataFrame\n",
    "    data = pd.read_csv(file_path, delimiter=\",\", header=None)\n",
    "    \n",
    "    # Randomly shuffle the DataFrame\n",
    "    data = data.sample(frac=1).reset_index(drop=True)\n",
    "    \n",
    "    # Split the data into features and target variable\n",
    "    X = data  # Assuming the last column is the target variable\n",
    "    y = data.iloc[:, -1]\n",
    "    \n",
    "    # Split the data into training and testing sets\n",
    "    X_train, X_test, y_train, y_test = train_test_split(X, y, test_size=test_size)\n",
    "    \n",
    "    return X_train, X_test, y_train, y_test\n",
    "\n",
    "# Example usage\n",
    "file_path = './video_data2/all.csv'\n",
    "X_train, X_test, y_train, y_test = read_and_split_txt(file_path)\n",
    "X_train.to_csv('./video_data2/cu/train.txt', index=False, header=False, sep=' ')\n",
    "X_test.to_csv('./video_data2/cu/val_file.txt', index=False, header=False, sep=' ')"
   ]
  },
  {
   "cell_type": "code",
   "execution_count": 4,
   "id": "87122a4e",
   "metadata": {},
   "outputs": [
    {
     "name": "stdout",
     "output_type": "stream",
     "text": [
      "Config:\n",
      "model = dict(\n",
      "    type='Recognizer3D',\n",
      "    backbone=dict(\n",
      "        type='SwinTransformer3D',\n",
      "        patch_size=(2, 4, 4),\n",
      "        embed_dim=128,\n",
      "        depths=[2, 2, 18, 2],\n",
      "        num_heads=[4, 8, 16, 32],\n",
      "        window_size=(8, 7, 7),\n",
      "        mlp_ratio=4.0,\n",
      "        qkv_bias=True,\n",
      "        qk_scale=None,\n",
      "        drop_rate=0.0,\n",
      "        attn_drop_rate=0.0,\n",
      "        drop_path_rate=0.3,\n",
      "        patch_norm=True),\n",
      "    cls_head=dict(\n",
      "        type='I3DHead',\n",
      "        in_channels=1024,\n",
      "        num_classes=3,\n",
      "        spatial_type='avg',\n",
      "        dropout_ratio=0.5),\n",
      "    test_cfg=dict(average_clips='prob', max_testing_views=4))\n",
      "checkpoint_config = dict(interval=10)\n",
      "log_config = dict(interval=5, hooks=[dict(type='TextLoggerHook')])\n",
      "dist_params = dict(backend='nccl')\n",
      "log_level = 'INFO'\n",
      "load_from = 'checkpoints/swin_base_patch244_window877_kinetics400_1k.pth'\n",
      "resume_from = None\n",
      "workflow = [('train', 1)]\n",
      "dataset_type = 'VideoDataset'\n",
      "data_root = './video_data2/train_video/'\n",
      "data_root_val = './video_data2/val_video/'\n",
      "ann_file_train = './video_data2/train.txt'\n",
      "ann_file_val = './video_data2/val_file.txt'\n",
      "ann_file_test = './video_data2/val_file.txt'\n",
      "img_norm_cfg = dict(\n",
      "    mean=[123.675, 116.28, 103.53], std=[58.395, 57.12, 57.375], to_bgr=False)\n",
      "train_pipeline = [\n",
      "    dict(type='DecordInit'),\n",
      "    dict(type='SampleFrames', clip_len=16, frame_interval=2, num_clips=1),\n",
      "    dict(type='DecordDecode'),\n",
      "    dict(type='Resize', scale=(-1, 256)),\n",
      "    dict(type='RandomResizedCrop'),\n",
      "    dict(type='Resize', scale=(224, 224), keep_ratio=False),\n",
      "    dict(type='Flip', flip_ratio=0.5),\n",
      "    dict(\n",
      "        type='Normalize',\n",
      "        mean=[123.675, 116.28, 103.53],\n",
      "        std=[58.395, 57.12, 57.375],\n",
      "        to_bgr=False),\n",
      "    dict(type='FormatShape', input_format='NCTHW'),\n",
      "    dict(type='Collect', keys=['imgs', 'label'], meta_keys=[]),\n",
      "    dict(type='ToTensor', keys=['imgs', 'label'])\n",
      "]\n",
      "val_pipeline = [\n",
      "    dict(type='DecordInit'),\n",
      "    dict(\n",
      "        type='SampleFrames',\n",
      "        clip_len=16,\n",
      "        frame_interval=2,\n",
      "        num_clips=1,\n",
      "        test_mode=True),\n",
      "    dict(type='DecordDecode'),\n",
      "    dict(type='Resize', scale=(-1, 256)),\n",
      "    dict(type='CenterCrop', crop_size=224),\n",
      "    dict(type='Flip', flip_ratio=0),\n",
      "    dict(\n",
      "        type='Normalize',\n",
      "        mean=[123.675, 116.28, 103.53],\n",
      "        std=[58.395, 57.12, 57.375],\n",
      "        to_bgr=False),\n",
      "    dict(type='FormatShape', input_format='NCTHW'),\n",
      "    dict(type='Collect', keys=['imgs', 'label'], meta_keys=[]),\n",
      "    dict(type='ToTensor', keys=['imgs'])\n",
      "]\n",
      "test_pipeline = [\n",
      "    dict(type='DecordInit'),\n",
      "    dict(\n",
      "        type='SampleFrames',\n",
      "        clip_len=16,\n",
      "        frame_interval=2,\n",
      "        num_clips=4,\n",
      "        test_mode=True),\n",
      "    dict(type='DecordDecode'),\n",
      "    dict(type='Resize', scale=(-1, 224)),\n",
      "    dict(type='ThreeCrop', crop_size=224),\n",
      "    dict(type='Flip', flip_ratio=0),\n",
      "    dict(\n",
      "        type='Normalize',\n",
      "        mean=[123.675, 116.28, 103.53],\n",
      "        std=[58.395, 57.12, 57.375],\n",
      "        to_bgr=False),\n",
      "    dict(type='FormatShape', input_format='NCTHW'),\n",
      "    dict(type='Collect', keys=['imgs', 'label'], meta_keys=[]),\n",
      "    dict(type='ToTensor', keys=['imgs'])\n",
      "]\n",
      "data = dict(\n",
      "    videos_per_gpu=2,\n",
      "    workers_per_gpu=4,\n",
      "    val_dataloader=dict(videos_per_gpu=1, workers_per_gpu=1),\n",
      "    test_dataloader=dict(videos_per_gpu=1, workers_per_gpu=1),\n",
      "    train=dict(\n",
      "        type='VideoDataset',\n",
      "        ann_file='./video_data2/train.txt',\n",
      "        data_prefix='./video_data2/train_video/',\n",
      "        pipeline=[\n",
      "            dict(type='DecordInit'),\n",
      "            dict(\n",
      "                type='SampleFrames',\n",
      "                clip_len=16,\n",
      "                frame_interval=2,\n",
      "                num_clips=1),\n",
      "            dict(type='DecordDecode'),\n",
      "            dict(type='Resize', scale=(-1, 256)),\n",
      "            dict(type='RandomResizedCrop'),\n",
      "            dict(type='Resize', scale=(224, 224), keep_ratio=False),\n",
      "            dict(type='Flip', flip_ratio=0.5),\n",
      "            dict(\n",
      "                type='Normalize',\n",
      "                mean=[123.675, 116.28, 103.53],\n",
      "                std=[58.395, 57.12, 57.375],\n",
      "                to_bgr=False),\n",
      "            dict(type='FormatShape', input_format='NCTHW'),\n",
      "            dict(type='Collect', keys=['imgs', 'label'], meta_keys=[]),\n",
      "            dict(type='ToTensor', keys=['imgs', 'label'])\n",
      "        ]),\n",
      "    val=dict(\n",
      "        type='VideoDataset',\n",
      "        ann_file='./video_data2/val_file.txt',\n",
      "        data_prefix='./video_data2/val_video/',\n",
      "        pipeline=[\n",
      "            dict(type='DecordInit'),\n",
      "            dict(\n",
      "                type='SampleFrames',\n",
      "                clip_len=16,\n",
      "                frame_interval=2,\n",
      "                num_clips=1,\n",
      "                test_mode=True),\n",
      "            dict(type='DecordDecode'),\n",
      "            dict(type='Resize', scale=(-1, 256)),\n",
      "            dict(type='CenterCrop', crop_size=224),\n",
      "            dict(type='Flip', flip_ratio=0),\n",
      "            dict(\n",
      "                type='Normalize',\n",
      "                mean=[123.675, 116.28, 103.53],\n",
      "                std=[58.395, 57.12, 57.375],\n",
      "                to_bgr=False),\n",
      "            dict(type='FormatShape', input_format='NCTHW'),\n",
      "            dict(type='Collect', keys=['imgs', 'label'], meta_keys=[]),\n",
      "            dict(type='ToTensor', keys=['imgs'])\n",
      "        ]),\n",
      "    test=dict(\n",
      "        type='VideoDataset',\n",
      "        ann_file='./video_data2/val_file.txt',\n",
      "        data_prefix='./video_data2/val_video/',\n",
      "        pipeline=[\n",
      "            dict(type='DecordInit'),\n",
      "            dict(\n",
      "                type='SampleFrames',\n",
      "                clip_len=16,\n",
      "                frame_interval=2,\n",
      "                num_clips=4,\n",
      "                test_mode=True),\n",
      "            dict(type='DecordDecode'),\n",
      "            dict(type='Resize', scale=(-1, 224)),\n",
      "            dict(type='ThreeCrop', crop_size=224),\n",
      "            dict(type='Flip', flip_ratio=0),\n",
      "            dict(\n",
      "                type='Normalize',\n",
      "                mean=[123.675, 116.28, 103.53],\n",
      "                std=[58.395, 57.12, 57.375],\n",
      "                to_bgr=False),\n",
      "            dict(type='FormatShape', input_format='NCTHW'),\n",
      "            dict(type='Collect', keys=['imgs', 'label'], meta_keys=[]),\n",
      "            dict(type='ToTensor', keys=['imgs'])\n",
      "        ]))\n",
      "evaluation = dict(\n",
      "    interval=5, metrics=['top_k_accuracy', 'mean_class_accuracy'])\n",
      "optimizer = dict(\n",
      "    type='AdamW',\n",
      "    lr=7.8125e-06,\n",
      "    betas=(0.9, 0.999),\n",
      "    weight_decay=0.05,\n",
      "    paramwise_cfg=dict(\n",
      "        custom_keys=dict(\n",
      "            absolute_pos_embed=dict(decay_mult=0.0),\n",
      "            relative_position_bias_table=dict(decay_mult=0.0),\n",
      "            norm=dict(decay_mult=0.0),\n",
      "            backbone=dict(lr_mult=0.1))))\n",
      "lr_config = dict(\n",
      "    policy='CosineAnnealing',\n",
      "    min_lr=0,\n",
      "    warmup='linear',\n",
      "    warmup_by_epoch=True,\n",
      "    warmup_iters=2.5)\n",
      "total_epochs = 50\n",
      "work_dir = './tutorial_exps'\n",
      "find_unused_parameters = False\n",
      "fp16 = None\n",
      "optimizer_config = dict(\n",
      "    type='DistOptimizerHook',\n",
      "    update_interval=8,\n",
      "    grad_clip=None,\n",
      "    coalesce=True,\n",
      "    bucket_size_mb=-1,\n",
      "    use_fp16=True)\n",
      "omnisource = False\n",
      "seed = 40\n",
      "gpu_ids = range(1, 2)\n",
      "\n"
     ]
    }
   ],
   "source": [
    "from mmcv.runner import set_random_seed\n",
    "# 获得tsn对应的配置文件cfg\n",
    "from mmcv import Config\n",
    "cfg = Config.fromfile('./configs/recognition/swin/swin_base_patch244_window877_kinetics400_1k.py')\n",
    "# 修改数据集类型和各个文件路径\n",
    "cfg.dataset_type = 'VideoDataset'\n",
    "cfg.data_root = './video_data2/train_video/'\n",
    "cfg.data_root_val = './video_data2/val_video/'\n",
    "cfg.ann_file_train = './video_data2/train.txt'\n",
    "cfg.ann_file_val = './video_data2/val_file.txt'\n",
    "cfg.ann_file_test = './video_data2/val_file.txt'\n",
    "\n",
    "\n",
    "cfg.data.test.type = 'VideoDataset'\n",
    "cfg.data.test.ann_file = './video_data2/val_file.txt'\n",
    "cfg.data.test.data_prefix = './video_data2/val_video/'\n",
    "\n",
    "cfg.data.train.type = 'VideoDataset'\n",
    "cfg.data.train.ann_file = './video_data2/train.txt'\n",
    "cfg.data.train.data_prefix = './video_data2/train_video/'\n",
    "cfg.data.train.data_prefix = './video_data2/train_video/'\n",
    "\n",
    "cfg.data.val.type = 'VideoDataset'\n",
    "cfg.data.val.ann_file = './video_data2/val_file.txt'\n",
    "cfg.data.val.data_prefix = './video_data2/val_video/'\n",
    "\n",
    "# 这里用于确认是否使用到omnisource训练\n",
    "cfg.setdefault('omnisource', False)\n",
    "# 修改cls_head中类别数为3\n",
    "cfg.model.cls_head.num_classes = 3\n",
    "# 使用预训练好的tsn模型\n",
    "cfg.load_from = 'checkpoints/swin_base_patch244_window877_kinetics400_1k.pth'\n",
    "# 设置工作目录\n",
    "cfg.work_dir = './tutorial_exps'\n",
    "\n",
    "# 由于是单卡训练，修改对应的lr\n",
    "#cfg.data.videos_per_gpu = cfg.data.videos_per_gpu // 16\n",
    "cfg.data.videos_per_gpu = 2\n",
    "cfg.optimizer.lr = cfg.optimizer.lr / 8 / 16\n",
    "#设置epoches\n",
    "cfg.total_epochs = 50\n",
    "# 设置存档点间隔减少存储空间的消耗\n",
    "cfg.checkpoint_config.interval = 10\n",
    "# 设置日志打印间隔减少打印时间\n",
    "cfg.log_config.interval = 5\n",
    "\n",
    "# 固定随机种子使得结果可复现\n",
    "cfg.seed = 40\n",
    "set_random_seed(0, deterministic=False)\n",
    "cfg.gpu_ids = range(1,2)\n",
    "\n",
    "# 打印所有的配置参数\n",
    "print(f'Config:\\n{cfg.pretty_text}')"
   ]
  },
  {
   "cell_type": "code",
   "execution_count": 5,
   "id": "7243c757",
   "metadata": {
    "scrolled": true
   },
   "outputs": [
    {
     "name": "stderr",
     "output_type": "stream",
     "text": [
      "C:\\Users\\15281\\anaconda3\\lib\\site-packages\\apex-0.1-py3.8.egg\\apex\\__init__.py:68: DeprecatedFeatureWarning: apex.amp is deprecated and will be removed by the end of February 2023. Use [PyTorch AMP](https://pytorch.org/docs/stable/amp.html)\n"
     ]
    },
    {
     "name": "stdout",
     "output_type": "stream",
     "text": [
      "Selected optimization level O1:  Insert automatic casts around Pytorch functions and Tensor methods.\n",
      "\n",
      "Defaults for this optimization level are:\n",
      "enabled                : True\n",
      "opt_level              : O1\n",
      "cast_model_type        : None\n",
      "patch_torch_functions  : True\n",
      "keep_batchnorm_fp32    : None\n",
      "master_weights         : None\n",
      "loss_scale             : dynamic\n",
      "Processing user overrides (additional kwargs that are not None)...\n",
      "After processing overrides, optimization options are:\n",
      "enabled                : True\n",
      "opt_level              : O1\n",
      "cast_model_type        : None\n",
      "patch_torch_functions  : True\n",
      "keep_batchnorm_fp32    : None\n",
      "master_weights         : None\n",
      "loss_scale             : dynamic\n",
      "Warning:  multi_tensor_applier fused unscale kernel is unavailable, possibly because apex was installed without --cuda_ext --cpp_ext. Using Python fallback.  Original ImportError was: ModuleNotFoundError(\"No module named 'amp_C'\")\n"
     ]
    },
    {
     "name": "stderr",
     "output_type": "stream",
     "text": [
      "2024-03-21 20:31:41,396 - mmaction - INFO - load checkpoint from local path: checkpoints/swin_base_patch244_window877_kinetics400_1k.pth\n",
      "2024-03-21 20:31:41,568 - mmaction - WARNING - The model and loaded state dict do not match exactly\n",
      "\n",
      "size mismatch for cls_head.fc_cls.weight: copying a param with shape torch.Size([400, 1024]) from checkpoint, the shape in current model is torch.Size([3, 1024]).\n",
      "size mismatch for cls_head.fc_cls.bias: copying a param with shape torch.Size([400]) from checkpoint, the shape in current model is torch.Size([3]).\n",
      "2024-03-21 20:31:41,575 - mmaction - INFO - Start running, host: 15281@实验室, work_dir: H:\\code\\视频组代码\\Video_Swin_Transformer\\tutorial_exps\n",
      "2024-03-21 20:31:41,575 - mmaction - INFO - Hooks will be executed in the following order:\n",
      "before_run:\n",
      "(VERY_HIGH   ) CosineAnnealingLrUpdaterHook       \n",
      "(ABOVE_NORMAL) DistOptimizerHook                  \n",
      "(NORMAL      ) CheckpointHook                     \n",
      "(NORMAL      ) EvalHook                           \n",
      "(VERY_LOW    ) TextLoggerHook                     \n",
      " -------------------- \n",
      "before_train_epoch:\n",
      "(VERY_HIGH   ) CosineAnnealingLrUpdaterHook       \n",
      "(NORMAL      ) EvalHook                           \n",
      "(LOW         ) IterTimerHook                      \n",
      "(VERY_LOW    ) TextLoggerHook                     \n",
      " -------------------- \n",
      "before_train_iter:\n",
      "(VERY_HIGH   ) CosineAnnealingLrUpdaterHook       \n",
      "(NORMAL      ) EvalHook                           \n",
      "(LOW         ) IterTimerHook                      \n",
      " -------------------- \n",
      "after_train_iter:\n",
      "(ABOVE_NORMAL) DistOptimizerHook                  \n",
      "(NORMAL      ) CheckpointHook                     \n",
      "(NORMAL      ) EvalHook                           \n",
      "(LOW         ) IterTimerHook                      \n",
      "(VERY_LOW    ) TextLoggerHook                     \n",
      " -------------------- \n",
      "after_train_epoch:\n",
      "(NORMAL      ) CheckpointHook                     \n",
      "(NORMAL      ) EvalHook                           \n",
      "(VERY_LOW    ) TextLoggerHook                     \n",
      " -------------------- \n",
      "before_val_epoch:\n",
      "(LOW         ) IterTimerHook                      \n",
      "(VERY_LOW    ) TextLoggerHook                     \n",
      " -------------------- \n",
      "before_val_iter:\n",
      "(LOW         ) IterTimerHook                      \n",
      " -------------------- \n",
      "after_val_iter:\n",
      "(LOW         ) IterTimerHook                      \n",
      " -------------------- \n",
      "after_val_epoch:\n",
      "(VERY_LOW    ) TextLoggerHook                     \n",
      " -------------------- \n",
      "after_run:\n",
      "(VERY_LOW    ) TextLoggerHook                     \n",
      " -------------------- \n",
      "2024-03-21 20:31:41,575 - mmaction - INFO - workflow: [('train', 1)], max: 50 epochs\n",
      "2024-03-21 20:31:41,576 - mmaction - INFO - Checkpoints will be saved to H:\\code\\视频组代码\\Video_Swin_Transformer\\tutorial_exps by HardDiskBackend.\n",
      "C:\\Users\\15281\\anaconda3\\lib\\site-packages\\mmcv\\runner\\hooks\\evaluation.py:222: UserWarning: runner.meta is None. Creating an empty one.\n",
      "  warnings.warn('runner.meta is None. Creating an empty one.')\n"
     ]
    },
    {
     "name": "stdout",
     "output_type": "stream",
     "text": [
      "torch.Size([2, 3, 16, 224, 224])\n",
      "torch.Size([2, 3, 16, 224, 224])\n",
      "torch.Size([2, 3, 16, 224, 224])\n",
      "torch.Size([2, 3, 16, 224, 224])\n",
      "torch.Size([2, 3, 16, 224, 224])\n"
     ]
    },
    {
     "name": "stderr",
     "output_type": "stream",
     "text": [
      "2024-03-21 20:31:52,503 - mmaction - INFO - Epoch [1][5/43]\tlr: 1.043e-07, eta: 1:18:04, time: 2.184, data_time: 1.038, memory: 9125, top1_acc: 0.5000, top5_acc: 1.0000, loss_cls: 1.0731, loss: 1.0731\n"
     ]
    },
    {
     "name": "stdout",
     "output_type": "stream",
     "text": [
      "torch.Size([2, 3, 16, 224, 224])\n",
      "torch.Size([2, 3, 16, 224, 224])\n",
      "torch.Size([2, 3, 16, 224, 224])\n",
      "torch.Size([2, 3, 16, 224, 224])\n",
      "torch.Size([2, 3, 16, 224, 224])\n"
     ]
    },
    {
     "name": "stderr",
     "output_type": "stream",
     "text": [
      "2024-03-21 20:31:55,258 - mmaction - INFO - Epoch [1][10/43]\tlr: 1.370e-07, eta: 0:48:46, time: 0.551, data_time: 0.001, memory: 9801, top1_acc: 0.5000, top5_acc: 1.0000, loss_cls: 1.0610, loss: 1.0610\n"
     ]
    },
    {
     "name": "stdout",
     "output_type": "stream",
     "text": [
      "torch.Size([2, 3, 16, 224, 224])\n",
      "torch.Size([2, 3, 16, 224, 224])\n",
      "torch.Size([2, 3, 16, 224, 224])\n",
      "torch.Size([2, 3, 16, 224, 224])\n",
      "torch.Size([2, 3, 16, 224, 224])\n"
     ]
    },
    {
     "name": "stderr",
     "output_type": "stream",
     "text": [
      "2024-03-21 20:31:57,757 - mmaction - INFO - Epoch [1][15/43]\tlr: 1.697e-07, eta: 0:38:22, time: 0.500, data_time: 0.001, memory: 9813, top1_acc: 0.4000, top5_acc: 1.0000, loss_cls: 1.1326, loss: 1.1326\n"
     ]
    },
    {
     "name": "stdout",
     "output_type": "stream",
     "text": [
      "torch.Size([2, 3, 16, 224, 224])\n",
      "torch.Size([2, 3, 16, 224, 224])\n",
      "torch.Size([2, 3, 16, 224, 224])\n",
      "torch.Size([2, 3, 16, 224, 224])\n",
      "torch.Size([2, 3, 16, 224, 224])\n"
     ]
    },
    {
     "name": "stderr",
     "output_type": "stream",
     "text": [
      "2024-03-21 20:32:00,269 - mmaction - INFO - Epoch [1][20/43]\tlr: 2.024e-07, eta: 0:33:10, time: 0.502, data_time: 0.001, memory: 9814, top1_acc: 0.6000, top5_acc: 1.0000, loss_cls: 1.0405, loss: 1.0405\n"
     ]
    },
    {
     "name": "stdout",
     "output_type": "stream",
     "text": [
      "torch.Size([2, 3, 16, 224, 224])\n",
      "torch.Size([2, 3, 16, 224, 224])\n",
      "torch.Size([2, 3, 16, 224, 224])\n",
      "torch.Size([2, 3, 16, 224, 224])\n",
      "torch.Size([2, 3, 16, 224, 224])\n"
     ]
    },
    {
     "name": "stderr",
     "output_type": "stream",
     "text": [
      "2024-03-21 20:32:02,775 - mmaction - INFO - Epoch [1][25/43]\tlr: 2.351e-07, eta: 0:30:01, time: 0.501, data_time: 0.001, memory: 9814, top1_acc: 0.3000, top5_acc: 1.0000, loss_cls: 1.0736, loss: 1.0736\n"
     ]
    },
    {
     "name": "stdout",
     "output_type": "stream",
     "text": [
      "torch.Size([2, 3, 16, 224, 224])\n",
      "torch.Size([2, 3, 16, 224, 224])\n",
      "torch.Size([2, 3, 16, 224, 224])\n",
      "torch.Size([2, 3, 16, 224, 224])\n",
      "torch.Size([2, 3, 16, 224, 224])\n"
     ]
    },
    {
     "name": "stderr",
     "output_type": "stream",
     "text": [
      "2024-03-21 20:32:05,147 - mmaction - INFO - Epoch [1][30/43]\tlr: 2.678e-07, eta: 0:27:45, time: 0.474, data_time: 0.001, memory: 9815, top1_acc: 0.5000, top5_acc: 1.0000, loss_cls: 1.0736, loss: 1.0736\n"
     ]
    },
    {
     "name": "stdout",
     "output_type": "stream",
     "text": [
      "torch.Size([2, 3, 16, 224, 224])\n",
      "torch.Size([2, 3, 16, 224, 224])\n",
      "torch.Size([2, 3, 16, 224, 224])\n",
      "torch.Size([2, 3, 16, 224, 224])\n",
      "torch.Size([2, 3, 16, 224, 224])\n"
     ]
    },
    {
     "name": "stderr",
     "output_type": "stream",
     "text": [
      "2024-03-21 20:32:07,779 - mmaction - INFO - Epoch [1][35/43]\tlr: 3.005e-07, eta: 0:26:23, time: 0.526, data_time: 0.001, memory: 9821, top1_acc: 0.4000, top5_acc: 1.0000, loss_cls: 1.1265, loss: 1.1265\n"
     ]
    },
    {
     "name": "stdout",
     "output_type": "stream",
     "text": [
      "torch.Size([2, 3, 16, 224, 224])\n",
      "torch.Size([2, 3, 16, 224, 224])\n",
      "torch.Size([2, 3, 16, 224, 224])\n",
      "torch.Size([2, 3, 16, 224, 224])\n",
      "torch.Size([2, 3, 16, 224, 224])\n"
     ]
    },
    {
     "name": "stderr",
     "output_type": "stream",
     "text": [
      "2024-03-21 20:32:10,249 - mmaction - INFO - Epoch [1][40/43]\tlr: 3.332e-07, eta: 0:25:11, time: 0.492, data_time: 0.001, memory: 9821, top1_acc: 0.4000, top5_acc: 1.0000, loss_cls: 1.1164, loss: 1.1164\n"
     ]
    },
    {
     "name": "stdout",
     "output_type": "stream",
     "text": [
      "torch.Size([2, 3, 16, 224, 224])\n",
      "torch.Size([2, 3, 16, 224, 224])\n",
      "torch.Size([2, 3, 16, 224, 224])\n",
      "torch.Size([2, 3, 16, 224, 224])\n",
      "torch.Size([2, 3, 16, 224, 224])\n",
      "torch.Size([2, 3, 16, 224, 224])\n",
      "torch.Size([2, 3, 16, 224, 224])\n",
      "torch.Size([2, 3, 16, 224, 224])\n"
     ]
    },
    {
     "name": "stderr",
     "output_type": "stream",
     "text": [
      "2024-03-21 20:32:20,138 - mmaction - INFO - Epoch [2][5/43]\tlr: 3.852e-07, eta: 0:26:42, time: 1.587, data_time: 1.044, memory: 9821, top1_acc: 0.4000, top5_acc: 1.0000, loss_cls: 1.0817, loss: 1.0817\n"
     ]
    },
    {
     "name": "stdout",
     "output_type": "stream",
     "text": [
      "torch.Size([2, 3, 16, 224, 224])\n",
      "torch.Size([2, 3, 16, 224, 224])\n",
      "torch.Size([2, 3, 16, 224, 224])\n",
      "torch.Size([2, 3, 16, 224, 224])\n",
      "torch.Size([2, 3, 16, 224, 224])\n"
     ]
    },
    {
     "name": "stderr",
     "output_type": "stream",
     "text": [
      "2024-03-21 20:32:22,455 - mmaction - INFO - Epoch [2][10/43]\tlr: 4.178e-07, eta: 0:25:39, time: 0.464, data_time: 0.002, memory: 9822, top1_acc: 0.3000, top5_acc: 1.0000, loss_cls: 1.1089, loss: 1.1089\n"
     ]
    },
    {
     "name": "stdout",
     "output_type": "stream",
     "text": [
      "torch.Size([2, 3, 16, 224, 224])\n",
      "torch.Size([2, 3, 16, 224, 224])\n",
      "torch.Size([2, 3, 16, 224, 224])\n",
      "torch.Size([2, 3, 16, 224, 224])\n",
      "torch.Size([2, 3, 16, 224, 224])\n"
     ]
    },
    {
     "name": "stderr",
     "output_type": "stream",
     "text": [
      "2024-03-21 20:32:24,842 - mmaction - INFO - Epoch [2][15/43]\tlr: 4.505e-07, eta: 0:24:49, time: 0.477, data_time: 0.001, memory: 9828, top1_acc: 0.5000, top5_acc: 1.0000, loss_cls: 1.0360, loss: 1.0360\n"
     ]
    },
    {
     "name": "stdout",
     "output_type": "stream",
     "text": [
      "torch.Size([2, 3, 16, 224, 224])\n",
      "torch.Size([2, 3, 16, 224, 224])\n",
      "torch.Size([2, 3, 16, 224, 224])\n",
      "torch.Size([2, 3, 16, 224, 224])\n",
      "torch.Size([2, 3, 16, 224, 224])\n"
     ]
    },
    {
     "name": "stderr",
     "output_type": "stream",
     "text": [
      "2024-03-21 20:32:27,188 - mmaction - INFO - Epoch [2][20/43]\tlr: 4.832e-07, eta: 0:24:05, time: 0.469, data_time: 0.001, memory: 9828, top1_acc: 0.4000, top5_acc: 1.0000, loss_cls: 1.0701, loss: 1.0701\n"
     ]
    },
    {
     "name": "stdout",
     "output_type": "stream",
     "text": [
      "torch.Size([2, 3, 16, 224, 224])\n",
      "torch.Size([2, 3, 16, 224, 224])\n",
      "torch.Size([2, 3, 16, 224, 224])\n",
      "torch.Size([2, 3, 16, 224, 224])\n",
      "torch.Size([2, 3, 16, 224, 224])\n"
     ]
    },
    {
     "name": "stderr",
     "output_type": "stream",
     "text": [
      "2024-03-21 20:32:29,655 - mmaction - INFO - Epoch [2][25/43]\tlr: 5.158e-07, eta: 0:23:31, time: 0.493, data_time: 0.001, memory: 9828, top1_acc: 0.4000, top5_acc: 1.0000, loss_cls: 1.0990, loss: 1.0990\n"
     ]
    },
    {
     "name": "stdout",
     "output_type": "stream",
     "text": [
      "torch.Size([2, 3, 16, 224, 224])\n",
      "torch.Size([2, 3, 16, 224, 224])\n",
      "torch.Size([2, 3, 16, 224, 224])\n",
      "torch.Size([2, 3, 16, 224, 224])\n",
      "torch.Size([2, 3, 16, 224, 224])\n"
     ]
    },
    {
     "name": "stderr",
     "output_type": "stream",
     "text": [
      "2024-03-21 20:32:32,066 - mmaction - INFO - Epoch [2][30/43]\tlr: 5.485e-07, eta: 0:23:00, time: 0.482, data_time: 0.001, memory: 9828, top1_acc: 0.5000, top5_acc: 1.0000, loss_cls: 1.0527, loss: 1.0527\n"
     ]
    },
    {
     "name": "stdout",
     "output_type": "stream",
     "text": [
      "torch.Size([2, 3, 16, 224, 224])\n",
      "torch.Size([2, 3, 16, 224, 224])\n",
      "torch.Size([2, 3, 16, 224, 224])\n",
      "torch.Size([2, 3, 16, 224, 224])\n",
      "torch.Size([2, 3, 16, 224, 224])\n"
     ]
    },
    {
     "name": "stderr",
     "output_type": "stream",
     "text": [
      "2024-03-21 20:32:34,368 - mmaction - INFO - Epoch [2][35/43]\tlr: 5.812e-07, eta: 0:22:30, time: 0.460, data_time: 0.001, memory: 9828, top1_acc: 0.4000, top5_acc: 1.0000, loss_cls: 1.1075, loss: 1.1075\n"
     ]
    },
    {
     "name": "stdout",
     "output_type": "stream",
     "text": [
      "torch.Size([2, 3, 16, 224, 224])\n",
      "torch.Size([2, 3, 16, 224, 224])\n",
      "torch.Size([2, 3, 16, 224, 224])\n",
      "torch.Size([2, 3, 16, 224, 224])\n",
      "torch.Size([2, 3, 16, 224, 224])\n"
     ]
    },
    {
     "name": "stderr",
     "output_type": "stream",
     "text": [
      "2024-03-21 20:32:36,690 - mmaction - INFO - Epoch [2][40/43]\tlr: 6.139e-07, eta: 0:22:03, time: 0.464, data_time: 0.001, memory: 9828, top1_acc: 0.2000, top5_acc: 1.0000, loss_cls: 1.1771, loss: 1.1771\n"
     ]
    },
    {
     "name": "stdout",
     "output_type": "stream",
     "text": [
      "torch.Size([2, 3, 16, 224, 224])\n",
      "torch.Size([2, 3, 16, 224, 224])\n",
      "torch.Size([2, 3, 16, 224, 224])\n",
      "torch.Size([2, 3, 16, 224, 224])\n",
      "torch.Size([2, 3, 16, 224, 224])\n",
      "torch.Size([2, 3, 16, 224, 224])\n",
      "torch.Size([2, 3, 16, 224, 224])\n",
      "torch.Size([2, 3, 16, 224, 224])\n"
     ]
    },
    {
     "name": "stderr",
     "output_type": "stream",
     "text": [
      "2024-03-21 20:32:46,343 - mmaction - INFO - Epoch [3][5/43]\tlr: 6.642e-07, eta: 0:23:01, time: 1.580, data_time: 1.015, memory: 9828, top1_acc: 0.4000, top5_acc: 1.0000, loss_cls: 1.0209, loss: 1.0209\n"
     ]
    },
    {
     "name": "stdout",
     "output_type": "stream",
     "text": [
      "torch.Size([2, 3, 16, 224, 224])\n",
      "torch.Size([2, 3, 16, 224, 224])\n",
      "torch.Size([2, 3, 16, 224, 224])\n",
      "torch.Size([2, 3, 16, 224, 224])\n",
      "torch.Size([2, 3, 16, 224, 224])\n"
     ]
    },
    {
     "name": "stderr",
     "output_type": "stream",
     "text": [
      "2024-03-21 20:32:49,132 - mmaction - INFO - Epoch [3][10/43]\tlr: 6.967e-07, eta: 0:22:45, time: 0.558, data_time: 0.001, memory: 9828, top1_acc: 0.3000, top5_acc: 1.0000, loss_cls: 1.0686, loss: 1.0686\n"
     ]
    },
    {
     "name": "stdout",
     "output_type": "stream",
     "text": [
      "Gradient overflow.  Skipping step, loss scaler 0 reducing loss scale to 32768.0\n",
      "torch.Size([2, 3, 16, 224, 224])\n",
      "torch.Size([2, 3, 16, 224, 224])\n",
      "torch.Size([2, 3, 16, 224, 224])\n",
      "torch.Size([2, 3, 16, 224, 224])\n",
      "torch.Size([2, 3, 16, 224, 224])\n"
     ]
    },
    {
     "name": "stderr",
     "output_type": "stream",
     "text": [
      "2024-03-21 20:32:51,790 - mmaction - INFO - Epoch [3][15/43]\tlr: 7.293e-07, eta: 0:22:29, time: 0.532, data_time: 0.001, memory: 9828, top1_acc: 0.4000, top5_acc: 1.0000, loss_cls: 1.0514, loss: 1.0514\n"
     ]
    },
    {
     "name": "stdout",
     "output_type": "stream",
     "text": [
      "torch.Size([2, 3, 16, 224, 224])\n",
      "torch.Size([2, 3, 16, 224, 224])\n",
      "torch.Size([2, 3, 16, 224, 224])\n",
      "torch.Size([2, 3, 16, 224, 224])\n",
      "torch.Size([2, 3, 16, 224, 224])\n"
     ]
    },
    {
     "name": "stderr",
     "output_type": "stream",
     "text": [
      "2024-03-21 20:32:54,590 - mmaction - INFO - Epoch [3][20/43]\tlr: 7.619e-07, eta: 0:22:16, time: 0.560, data_time: 0.001, memory: 9828, top1_acc: 0.6000, top5_acc: 1.0000, loss_cls: 1.0118, loss: 1.0118\n"
     ]
    },
    {
     "name": "stdout",
     "output_type": "stream",
     "text": [
      "torch.Size([2, 3, 16, 224, 224])\n",
      "torch.Size([2, 3, 16, 224, 224])\n",
      "torch.Size([2, 3, 16, 224, 224])\n",
      "torch.Size([2, 3, 16, 224, 224])\n",
      "torch.Size([2, 3, 16, 224, 224])\n"
     ]
    },
    {
     "name": "stderr",
     "output_type": "stream",
     "text": [
      "2024-03-21 20:32:57,254 - mmaction - INFO - Epoch [3][25/43]\tlr: 7.749e-07, eta: 0:22:01, time: 0.533, data_time: 0.001, memory: 9828, top1_acc: 0.4000, top5_acc: 1.0000, loss_cls: 1.1031, loss: 1.1031\n"
     ]
    },
    {
     "name": "stdout",
     "output_type": "stream",
     "text": [
      "torch.Size([2, 3, 16, 224, 224])\n",
      "torch.Size([2, 3, 16, 224, 224])\n",
      "torch.Size([2, 3, 16, 224, 224])\n",
      "torch.Size([2, 3, 16, 224, 224])\n",
      "torch.Size([2, 3, 16, 224, 224])\n"
     ]
    },
    {
     "name": "stderr",
     "output_type": "stream",
     "text": [
      "2024-03-21 20:32:59,733 - mmaction - INFO - Epoch [3][30/43]\tlr: 7.749e-07, eta: 0:21:45, time: 0.496, data_time: 0.001, memory: 9828, top1_acc: 0.5000, top5_acc: 1.0000, loss_cls: 1.1064, loss: 1.1064\n"
     ]
    },
    {
     "name": "stdout",
     "output_type": "stream",
     "text": [
      "torch.Size([2, 3, 16, 224, 224])\n",
      "torch.Size([2, 3, 16, 224, 224])\n",
      "torch.Size([2, 3, 16, 224, 224])\n",
      "torch.Size([2, 3, 16, 224, 224])\n",
      "torch.Size([2, 3, 16, 224, 224])\n"
     ]
    },
    {
     "name": "stderr",
     "output_type": "stream",
     "text": [
      "2024-03-21 20:33:02,353 - mmaction - INFO - Epoch [3][35/43]\tlr: 7.749e-07, eta: 0:21:32, time: 0.524, data_time: 0.001, memory: 9828, top1_acc: 0.5000, top5_acc: 1.0000, loss_cls: 1.0690, loss: 1.0690\n"
     ]
    },
    {
     "name": "stdout",
     "output_type": "stream",
     "text": [
      "torch.Size([2, 3, 16, 224, 224])\n",
      "torch.Size([2, 3, 16, 224, 224])\n",
      "torch.Size([2, 3, 16, 224, 224])\n",
      "torch.Size([2, 3, 16, 224, 224])\n",
      "torch.Size([2, 3, 16, 224, 224])\n"
     ]
    },
    {
     "name": "stderr",
     "output_type": "stream",
     "text": [
      "2024-03-21 20:33:04,745 - mmaction - INFO - Epoch [3][40/43]\tlr: 7.749e-07, eta: 0:21:16, time: 0.479, data_time: 0.001, memory: 9828, top1_acc: 0.4000, top5_acc: 1.0000, loss_cls: 1.0235, loss: 1.0235\n"
     ]
    },
    {
     "name": "stdout",
     "output_type": "stream",
     "text": [
      "torch.Size([2, 3, 16, 224, 224])\n",
      "torch.Size([2, 3, 16, 224, 224])\n",
      "torch.Size([2, 3, 16, 224, 224])\n",
      "torch.Size([2, 3, 16, 224, 224])\n",
      "torch.Size([2, 3, 16, 224, 224])\n",
      "torch.Size([2, 3, 16, 224, 224])\n",
      "torch.Size([2, 3, 16, 224, 224])\n",
      "torch.Size([2, 3, 16, 224, 224])\n"
     ]
    },
    {
     "name": "stderr",
     "output_type": "stream",
     "text": [
      "2024-03-21 20:33:14,230 - mmaction - INFO - Epoch [4][5/43]\tlr: 7.743e-07, eta: 0:21:50, time: 1.534, data_time: 1.032, memory: 9828, top1_acc: 0.4000, top5_acc: 1.0000, loss_cls: 1.1063, loss: 1.1063\n"
     ]
    },
    {
     "name": "stdout",
     "output_type": "stream",
     "text": [
      "torch.Size([2, 3, 16, 224, 224])\n",
      "torch.Size([2, 3, 16, 224, 224])\n",
      "torch.Size([2, 3, 16, 224, 224])\n",
      "torch.Size([2, 3, 16, 224, 224])\n",
      "torch.Size([2, 3, 16, 224, 224])\n"
     ]
    },
    {
     "name": "stderr",
     "output_type": "stream",
     "text": [
      "2024-03-21 20:33:16,614 - mmaction - INFO - Epoch [4][10/43]\tlr: 7.743e-07, eta: 0:21:34, time: 0.477, data_time: 0.001, memory: 9829, top1_acc: 0.2000, top5_acc: 1.0000, loss_cls: 1.1252, loss: 1.1252\n"
     ]
    },
    {
     "name": "stdout",
     "output_type": "stream",
     "text": [
      "torch.Size([2, 3, 16, 224, 224])\n",
      "torch.Size([2, 3, 16, 224, 224])\n",
      "torch.Size([2, 3, 16, 224, 224])\n",
      "torch.Size([2, 3, 16, 224, 224])\n",
      "torch.Size([2, 3, 16, 224, 224])\n"
     ]
    },
    {
     "name": "stderr",
     "output_type": "stream",
     "text": [
      "2024-03-21 20:33:19,027 - mmaction - INFO - Epoch [4][15/43]\tlr: 7.743e-07, eta: 0:21:20, time: 0.482, data_time: 0.001, memory: 9829, top1_acc: 0.4000, top5_acc: 1.0000, loss_cls: 1.1326, loss: 1.1326\n"
     ]
    },
    {
     "name": "stdout",
     "output_type": "stream",
     "text": [
      "torch.Size([2, 3, 16, 224, 224])\n",
      "torch.Size([2, 3, 16, 224, 224])\n",
      "torch.Size([2, 3, 16, 224, 224])\n",
      "torch.Size([2, 3, 16, 224, 224])\n",
      "torch.Size([2, 3, 16, 224, 224])\n"
     ]
    },
    {
     "name": "stderr",
     "output_type": "stream",
     "text": [
      "2024-03-21 20:33:21,439 - mmaction - INFO - Epoch [4][20/43]\tlr: 7.743e-07, eta: 0:21:06, time: 0.483, data_time: 0.002, memory: 9829, top1_acc: 0.4000, top5_acc: 1.0000, loss_cls: 1.0522, loss: 1.0522\n"
     ]
    },
    {
     "name": "stdout",
     "output_type": "stream",
     "text": [
      "torch.Size([2, 3, 16, 224, 224])\n",
      "torch.Size([2, 3, 16, 224, 224])\n",
      "torch.Size([2, 3, 16, 224, 224])\n",
      "torch.Size([2, 3, 16, 224, 224])\n",
      "torch.Size([2, 3, 16, 224, 224])\n"
     ]
    },
    {
     "name": "stderr",
     "output_type": "stream",
     "text": [
      "2024-03-21 20:33:23,907 - mmaction - INFO - Epoch [4][25/43]\tlr: 7.743e-07, eta: 0:20:54, time: 0.494, data_time: 0.001, memory: 9829, top1_acc: 0.5000, top5_acc: 1.0000, loss_cls: 1.0414, loss: 1.0414\n"
     ]
    },
    {
     "name": "stdout",
     "output_type": "stream",
     "text": [
      "torch.Size([2, 3, 16, 224, 224])\n",
      "torch.Size([2, 3, 16, 224, 224])\n",
      "torch.Size([2, 3, 16, 224, 224])\n",
      "torch.Size([2, 3, 16, 224, 224])\n",
      "torch.Size([2, 3, 16, 224, 224])\n"
     ]
    },
    {
     "name": "stderr",
     "output_type": "stream",
     "text": [
      "2024-03-21 20:33:26,593 - mmaction - INFO - Epoch [4][30/43]\tlr: 7.743e-07, eta: 0:20:45, time: 0.537, data_time: 0.001, memory: 9829, top1_acc: 0.5000, top5_acc: 1.0000, loss_cls: 1.0834, loss: 1.0834\n"
     ]
    },
    {
     "name": "stdout",
     "output_type": "stream",
     "text": [
      "torch.Size([2, 3, 16, 224, 224])\n",
      "torch.Size([2, 3, 16, 224, 224])\n",
      "torch.Size([2, 3, 16, 224, 224])\n",
      "torch.Size([2, 3, 16, 224, 224])\n",
      "torch.Size([2, 3, 16, 224, 224])\n"
     ]
    },
    {
     "name": "stderr",
     "output_type": "stream",
     "text": [
      "2024-03-21 20:33:29,027 - mmaction - INFO - Epoch [4][35/43]\tlr: 7.743e-07, eta: 0:20:34, time: 0.487, data_time: 0.001, memory: 9829, top1_acc: 0.5000, top5_acc: 1.0000, loss_cls: 1.0531, loss: 1.0531\n"
     ]
    },
    {
     "name": "stdout",
     "output_type": "stream",
     "text": [
      "torch.Size([2, 3, 16, 224, 224])\n",
      "torch.Size([2, 3, 16, 224, 224])\n",
      "torch.Size([2, 3, 16, 224, 224])\n",
      "torch.Size([2, 3, 16, 224, 224])\n",
      "torch.Size([2, 3, 16, 224, 224])\n"
     ]
    },
    {
     "name": "stderr",
     "output_type": "stream",
     "text": [
      "2024-03-21 20:33:31,557 - mmaction - INFO - Epoch [4][40/43]\tlr: 7.743e-07, eta: 0:20:24, time: 0.506, data_time: 0.001, memory: 9829, top1_acc: 0.4000, top5_acc: 1.0000, loss_cls: 1.0978, loss: 1.0978\n"
     ]
    },
    {
     "name": "stdout",
     "output_type": "stream",
     "text": [
      "torch.Size([2, 3, 16, 224, 224])\n",
      "torch.Size([2, 3, 16, 224, 224])\n",
      "torch.Size([2, 3, 16, 224, 224])\n",
      "torch.Size([2, 3, 16, 224, 224])\n",
      "torch.Size([2, 3, 16, 224, 224])\n",
      "torch.Size([2, 3, 16, 224, 224])\n",
      "torch.Size([2, 3, 16, 224, 224])\n",
      "torch.Size([2, 3, 16, 224, 224])\n"
     ]
    },
    {
     "name": "stderr",
     "output_type": "stream",
     "text": [
      "2024-03-21 20:33:41,353 - mmaction - INFO - Epoch [5][5/43]\tlr: 7.690e-07, eta: 0:20:54, time: 1.613, data_time: 1.061, memory: 9829, top1_acc: 0.3000, top5_acc: 1.0000, loss_cls: 1.1087, loss: 1.1087\n"
     ]
    },
    {
     "name": "stdout",
     "output_type": "stream",
     "text": [
      "torch.Size([2, 3, 16, 224, 224])\n",
      "torch.Size([2, 3, 16, 224, 224])\n",
      "torch.Size([2, 3, 16, 224, 224])\n",
      "torch.Size([2, 3, 16, 224, 224])\n",
      "torch.Size([2, 3, 16, 224, 224])\n"
     ]
    },
    {
     "name": "stderr",
     "output_type": "stream",
     "text": [
      "2024-03-21 20:33:43,832 - mmaction - INFO - Epoch [5][10/43]\tlr: 7.690e-07, eta: 0:20:43, time: 0.496, data_time: 0.001, memory: 9829, top1_acc: 0.4000, top5_acc: 1.0000, loss_cls: 1.0956, loss: 1.0956\n"
     ]
    },
    {
     "name": "stdout",
     "output_type": "stream",
     "text": [
      "torch.Size([2, 3, 16, 224, 224])\n",
      "torch.Size([2, 3, 16, 224, 224])\n",
      "torch.Size([2, 3, 16, 224, 224])\n",
      "torch.Size([2, 3, 16, 224, 224])\n",
      "torch.Size([2, 3, 16, 224, 224])\n"
     ]
    },
    {
     "name": "stderr",
     "output_type": "stream",
     "text": [
      "2024-03-21 20:33:46,228 - mmaction - INFO - Epoch [5][15/43]\tlr: 7.690e-07, eta: 0:20:32, time: 0.479, data_time: 0.001, memory: 9829, top1_acc: 0.4000, top5_acc: 1.0000, loss_cls: 1.0920, loss: 1.0920\n"
     ]
    },
    {
     "name": "stdout",
     "output_type": "stream",
     "text": [
      "torch.Size([2, 3, 16, 224, 224])\n",
      "torch.Size([2, 3, 16, 224, 224])\n",
      "torch.Size([2, 3, 16, 224, 224])\n",
      "torch.Size([2, 3, 16, 224, 224])\n",
      "torch.Size([2, 3, 16, 224, 224])\n"
     ]
    },
    {
     "name": "stderr",
     "output_type": "stream",
     "text": [
      "2024-03-21 20:33:48,683 - mmaction - INFO - Epoch [5][20/43]\tlr: 7.690e-07, eta: 0:20:22, time: 0.488, data_time: 0.001, memory: 9829, top1_acc: 0.4000, top5_acc: 1.0000, loss_cls: 1.1306, loss: 1.1306\n"
     ]
    },
    {
     "name": "stdout",
     "output_type": "stream",
     "text": [
      "torch.Size([2, 3, 16, 224, 224])\n",
      "torch.Size([2, 3, 16, 224, 224])\n",
      "torch.Size([2, 3, 16, 224, 224])\n",
      "torch.Size([2, 3, 16, 224, 224])\n",
      "torch.Size([2, 3, 16, 224, 224])\n"
     ]
    },
    {
     "name": "stderr",
     "output_type": "stream",
     "text": [
      "2024-03-21 20:33:51,174 - mmaction - INFO - Epoch [5][25/43]\tlr: 7.690e-07, eta: 0:20:12, time: 0.501, data_time: 0.003, memory: 9829, top1_acc: 0.4000, top5_acc: 1.0000, loss_cls: 1.0975, loss: 1.0975\n"
     ]
    },
    {
     "name": "stdout",
     "output_type": "stream",
     "text": [
      "torch.Size([2, 3, 16, 224, 224])\n",
      "torch.Size([2, 3, 16, 224, 224])\n",
      "torch.Size([2, 3, 16, 224, 224])\n",
      "torch.Size([2, 3, 16, 224, 224])\n",
      "torch.Size([2, 3, 16, 224, 224])\n"
     ]
    },
    {
     "name": "stderr",
     "output_type": "stream",
     "text": [
      "2024-03-21 20:33:53,590 - mmaction - INFO - Epoch [5][30/43]\tlr: 7.690e-07, eta: 0:20:03, time: 0.483, data_time: 0.001, memory: 9829, top1_acc: 0.8000, top5_acc: 1.0000, loss_cls: 0.9560, loss: 0.9560\n"
     ]
    },
    {
     "name": "stdout",
     "output_type": "stream",
     "text": [
      "torch.Size([2, 3, 16, 224, 224])\n",
      "torch.Size([2, 3, 16, 224, 224])\n",
      "torch.Size([2, 3, 16, 224, 224])\n",
      "torch.Size([2, 3, 16, 224, 224])\n",
      "torch.Size([2, 3, 16, 224, 224])\n"
     ]
    },
    {
     "name": "stderr",
     "output_type": "stream",
     "text": [
      "2024-03-21 20:33:56,063 - mmaction - INFO - Epoch [5][35/43]\tlr: 7.690e-07, eta: 0:19:54, time: 0.495, data_time: 0.001, memory: 9829, top1_acc: 0.3000, top5_acc: 1.0000, loss_cls: 1.0797, loss: 1.0797\n"
     ]
    },
    {
     "name": "stdout",
     "output_type": "stream",
     "text": [
      "torch.Size([2, 3, 16, 224, 224])\n",
      "torch.Size([2, 3, 16, 224, 224])\n",
      "torch.Size([2, 3, 16, 224, 224])\n",
      "torch.Size([2, 3, 16, 224, 224])\n",
      "torch.Size([2, 3, 16, 224, 224])\n"
     ]
    },
    {
     "name": "stderr",
     "output_type": "stream",
     "text": [
      "2024-03-21 20:33:58,634 - mmaction - INFO - Epoch [5][40/43]\tlr: 7.690e-07, eta: 0:19:46, time: 0.514, data_time: 0.001, memory: 9829, top1_acc: 0.3000, top5_acc: 1.0000, loss_cls: 1.0867, loss: 1.0867\n"
     ]
    },
    {
     "name": "stdout",
     "output_type": "stream",
     "text": [
      "torch.Size([2, 3, 16, 224, 224])\n",
      "torch.Size([2, 3, 16, 224, 224])\n",
      "torch.Size([2, 3, 16, 224, 224])\n",
      "[>>>>>>>>>>>>>>>>>>>>>>>>>>>>>>>>>>>>>>>>>>>>>>>>>>] 23/23, 3.1 task/s, elapsed: 7s, ETA:     0s"
     ]
    },
    {
     "name": "stderr",
     "output_type": "stream",
     "text": [
      "2024-03-21 20:34:07,966 - mmaction - INFO - Evaluating top_k_accuracy ...\n",
      "2024-03-21 20:34:07,966 - mmaction - INFO - \n",
      "top1_acc\t0.5217\n",
      "top5_acc\t1.0000\n",
      "2024-03-21 20:34:07,967 - mmaction - INFO - Evaluating mean_class_accuracy ...\n",
      "2024-03-21 20:34:07,967 - mmaction - INFO - \n",
      "mean_acc\t0.4205\n"
     ]
    },
    {
     "name": "stdout",
     "output_type": "stream",
     "text": [
      "mean_class_accuracy\n",
      "[1 1 0 1 1 1 0 1 1 0 0 0 1 1 0 0 1 0 0 0 0 1 0]\n",
      "[0, 1, 1, 0, 0, 2, 1, 1, 1, 0, 0, 0, 0, 1, 0, 0, 1, 0, 0, 2, 1, 2, 2]\n"
     ]
    },
    {
     "name": "stderr",
     "output_type": "stream",
     "text": [
      "2024-03-21 20:34:09,002 - mmaction - INFO - Now best checkpoint is saved as best_top1_acc_epoch_5.pth.\n",
      "2024-03-21 20:34:09,003 - mmaction - INFO - Best top1_acc is 0.5217 at 5 epoch.\n",
      "2024-03-21 20:34:09,003 - mmaction - INFO - Epoch(val) [5][23]\ttop1_acc: 0.5217, top5_acc: 1.0000, mean_class_accuracy: 0.4205\n"
     ]
    },
    {
     "name": "stdout",
     "output_type": "stream",
     "text": [
      "torch.Size([2, 3, 16, 224, 224])\n",
      "torch.Size([2, 3, 16, 224, 224])\n",
      "torch.Size([2, 3, 16, 224, 224])\n",
      "torch.Size([2, 3, 16, 224, 224])\n",
      "torch.Size([2, 3, 16, 224, 224])\n"
     ]
    },
    {
     "name": "stderr",
     "output_type": "stream",
     "text": [
      "2024-03-21 20:34:16,828 - mmaction - INFO - Epoch [6][5/43]\tlr: 7.621e-07, eta: 0:20:07, time: 1.564, data_time: 1.054, memory: 9829, top1_acc: 0.6000, top5_acc: 1.0000, loss_cls: 1.0082, loss: 1.0082\n"
     ]
    },
    {
     "name": "stdout",
     "output_type": "stream",
     "text": [
      "torch.Size([2, 3, 16, 224, 224])\n",
      "torch.Size([2, 3, 16, 224, 224])\n",
      "torch.Size([2, 3, 16, 224, 224])\n",
      "torch.Size([2, 3, 16, 224, 224])\n",
      "torch.Size([2, 3, 16, 224, 224])\n"
     ]
    },
    {
     "name": "stderr",
     "output_type": "stream",
     "text": [
      "2024-03-21 20:34:19,264 - mmaction - INFO - Epoch [6][10/43]\tlr: 7.621e-07, eta: 0:19:58, time: 0.487, data_time: 0.001, memory: 9829, top1_acc: 0.4000, top5_acc: 1.0000, loss_cls: 1.0757, loss: 1.0757\n"
     ]
    },
    {
     "name": "stdout",
     "output_type": "stream",
     "text": [
      "torch.Size([2, 3, 16, 224, 224])\n",
      "torch.Size([2, 3, 16, 224, 224])\n",
      "torch.Size([2, 3, 16, 224, 224])\n",
      "torch.Size([2, 3, 16, 224, 224])\n",
      "torch.Size([2, 3, 16, 224, 224])\n"
     ]
    },
    {
     "name": "stderr",
     "output_type": "stream",
     "text": [
      "2024-03-21 20:34:21,647 - mmaction - INFO - Epoch [6][15/43]\tlr: 7.621e-07, eta: 0:19:48, time: 0.476, data_time: 0.001, memory: 9829, top1_acc: 0.5000, top5_acc: 1.0000, loss_cls: 1.0794, loss: 1.0794\n"
     ]
    },
    {
     "name": "stdout",
     "output_type": "stream",
     "text": [
      "torch.Size([2, 3, 16, 224, 224])\n",
      "torch.Size([2, 3, 16, 224, 224])\n",
      "torch.Size([2, 3, 16, 224, 224])\n",
      "torch.Size([2, 3, 16, 224, 224])\n",
      "torch.Size([2, 3, 16, 224, 224])\n"
     ]
    },
    {
     "name": "stderr",
     "output_type": "stream",
     "text": [
      "2024-03-21 20:34:24,043 - mmaction - INFO - Epoch [6][20/43]\tlr: 7.621e-07, eta: 0:19:40, time: 0.479, data_time: 0.001, memory: 9829, top1_acc: 0.3000, top5_acc: 1.0000, loss_cls: 1.0872, loss: 1.0872\n"
     ]
    },
    {
     "name": "stdout",
     "output_type": "stream",
     "text": [
      "torch.Size([2, 3, 16, 224, 224])\n",
      "torch.Size([2, 3, 16, 224, 224])\n",
      "torch.Size([2, 3, 16, 224, 224])\n",
      "torch.Size([2, 3, 16, 224, 224])\n",
      "torch.Size([2, 3, 16, 224, 224])\n"
     ]
    },
    {
     "name": "stderr",
     "output_type": "stream",
     "text": [
      "2024-03-21 20:34:26,448 - mmaction - INFO - Epoch [6][25/43]\tlr: 7.621e-07, eta: 0:19:31, time: 0.480, data_time: 0.001, memory: 9829, top1_acc: 0.6000, top5_acc: 1.0000, loss_cls: 1.0005, loss: 1.0005\n"
     ]
    },
    {
     "name": "stdout",
     "output_type": "stream",
     "text": [
      "torch.Size([2, 3, 16, 224, 224])\n",
      "torch.Size([2, 3, 16, 224, 224])\n",
      "torch.Size([2, 3, 16, 224, 224])\n",
      "torch.Size([2, 3, 16, 224, 224])\n",
      "torch.Size([2, 3, 16, 224, 224])\n"
     ]
    },
    {
     "name": "stderr",
     "output_type": "stream",
     "text": [
      "2024-03-21 20:34:28,811 - mmaction - INFO - Epoch [6][30/43]\tlr: 7.621e-07, eta: 0:19:23, time: 0.474, data_time: 0.002, memory: 9829, top1_acc: 0.6000, top5_acc: 1.0000, loss_cls: 0.9989, loss: 0.9989\n"
     ]
    },
    {
     "name": "stdout",
     "output_type": "stream",
     "text": [
      "torch.Size([2, 3, 16, 224, 224])\n",
      "torch.Size([2, 3, 16, 224, 224])\n",
      "torch.Size([2, 3, 16, 224, 224])\n",
      "torch.Size([2, 3, 16, 224, 224])\n",
      "torch.Size([2, 3, 16, 224, 224])\n"
     ]
    },
    {
     "name": "stderr",
     "output_type": "stream",
     "text": [
      "2024-03-21 20:34:31,224 - mmaction - INFO - Epoch [6][35/43]\tlr: 7.621e-07, eta: 0:19:15, time: 0.482, data_time: 0.001, memory: 9829, top1_acc: 0.4000, top5_acc: 1.0000, loss_cls: 1.1055, loss: 1.1055\n"
     ]
    },
    {
     "name": "stdout",
     "output_type": "stream",
     "text": [
      "torch.Size([2, 3, 16, 224, 224])\n",
      "torch.Size([2, 3, 16, 224, 224])\n",
      "torch.Size([2, 3, 16, 224, 224])\n",
      "torch.Size([2, 3, 16, 224, 224])\n",
      "torch.Size([2, 3, 16, 224, 224])\n"
     ]
    },
    {
     "name": "stderr",
     "output_type": "stream",
     "text": [
      "2024-03-21 20:34:33,583 - mmaction - INFO - Epoch [6][40/43]\tlr: 7.621e-07, eta: 0:19:07, time: 0.472, data_time: 0.002, memory: 9829, top1_acc: 0.3000, top5_acc: 1.0000, loss_cls: 1.1279, loss: 1.1279\n"
     ]
    },
    {
     "name": "stdout",
     "output_type": "stream",
     "text": [
      "torch.Size([2, 3, 16, 224, 224])\n",
      "torch.Size([2, 3, 16, 224, 224])\n",
      "torch.Size([2, 3, 16, 224, 224])\n",
      "torch.Size([2, 3, 16, 224, 224])\n",
      "torch.Size([2, 3, 16, 224, 224])\n",
      "torch.Size([2, 3, 16, 224, 224])\n",
      "torch.Size([2, 3, 16, 224, 224])\n",
      "torch.Size([2, 3, 16, 224, 224])\n"
     ]
    },
    {
     "name": "stderr",
     "output_type": "stream",
     "text": [
      "2024-03-21 20:34:43,209 - mmaction - INFO - Epoch [7][5/43]\tlr: 7.538e-07, eta: 0:19:23, time: 1.563, data_time: 1.041, memory: 9829, top1_acc: 0.5000, top5_acc: 1.0000, loss_cls: 1.0882, loss: 1.0882\n"
     ]
    },
    {
     "name": "stdout",
     "output_type": "stream",
     "text": [
      "torch.Size([2, 3, 16, 224, 224])\n",
      "torch.Size([2, 3, 16, 224, 224])\n",
      "torch.Size([2, 3, 16, 224, 224])\n",
      "torch.Size([2, 3, 16, 224, 224])\n",
      "torch.Size([2, 3, 16, 224, 224])\n"
     ]
    },
    {
     "name": "stderr",
     "output_type": "stream",
     "text": [
      "2024-03-21 20:34:45,676 - mmaction - INFO - Epoch [7][10/43]\tlr: 7.538e-07, eta: 0:19:16, time: 0.493, data_time: 0.001, memory: 9829, top1_acc: 0.7000, top5_acc: 1.0000, loss_cls: 1.0093, loss: 1.0093\n"
     ]
    },
    {
     "name": "stdout",
     "output_type": "stream",
     "text": [
      "torch.Size([2, 3, 16, 224, 224])\n",
      "torch.Size([2, 3, 16, 224, 224])\n",
      "torch.Size([2, 3, 16, 224, 224])\n",
      "torch.Size([2, 3, 16, 224, 224])\n",
      "torch.Size([2, 3, 16, 224, 224])\n"
     ]
    },
    {
     "name": "stderr",
     "output_type": "stream",
     "text": [
      "2024-03-21 20:34:48,128 - mmaction - INFO - Epoch [7][15/43]\tlr: 7.538e-07, eta: 0:19:08, time: 0.490, data_time: 0.001, memory: 9829, top1_acc: 0.4000, top5_acc: 1.0000, loss_cls: 1.0683, loss: 1.0683\n"
     ]
    },
    {
     "name": "stdout",
     "output_type": "stream",
     "text": [
      "torch.Size([2, 3, 16, 224, 224])\n",
      "torch.Size([2, 3, 16, 224, 224])\n",
      "torch.Size([2, 3, 16, 224, 224])\n",
      "torch.Size([2, 3, 16, 224, 224])\n",
      "torch.Size([2, 3, 16, 224, 224])\n"
     ]
    },
    {
     "name": "stderr",
     "output_type": "stream",
     "text": [
      "2024-03-21 20:34:50,565 - mmaction - INFO - Epoch [7][20/43]\tlr: 7.538e-07, eta: 0:19:01, time: 0.487, data_time: 0.001, memory: 9829, top1_acc: 0.6000, top5_acc: 1.0000, loss_cls: 1.0142, loss: 1.0142\n"
     ]
    },
    {
     "name": "stdout",
     "output_type": "stream",
     "text": [
      "torch.Size([2, 3, 16, 224, 224])\n",
      "torch.Size([2, 3, 16, 224, 224])\n",
      "torch.Size([2, 3, 16, 224, 224])\n",
      "torch.Size([2, 3, 16, 224, 224])\n",
      "torch.Size([2, 3, 16, 224, 224])\n"
     ]
    },
    {
     "name": "stderr",
     "output_type": "stream",
     "text": [
      "2024-03-21 20:34:53,101 - mmaction - INFO - Epoch [7][25/43]\tlr: 7.538e-07, eta: 0:18:55, time: 0.507, data_time: 0.001, memory: 9829, top1_acc: 0.6000, top5_acc: 1.0000, loss_cls: 0.9800, loss: 0.9800\n"
     ]
    },
    {
     "name": "stdout",
     "output_type": "stream",
     "text": [
      "torch.Size([2, 3, 16, 224, 224])\n",
      "torch.Size([2, 3, 16, 224, 224])\n",
      "torch.Size([2, 3, 16, 224, 224])\n",
      "torch.Size([2, 3, 16, 224, 224])\n",
      "torch.Size([2, 3, 16, 224, 224])\n"
     ]
    },
    {
     "name": "stderr",
     "output_type": "stream",
     "text": [
      "2024-03-21 20:34:55,593 - mmaction - INFO - Epoch [7][30/43]\tlr: 7.538e-07, eta: 0:18:48, time: 0.497, data_time: 0.001, memory: 9829, top1_acc: 0.4000, top5_acc: 1.0000, loss_cls: 1.0842, loss: 1.0842\n"
     ]
    },
    {
     "name": "stdout",
     "output_type": "stream",
     "text": [
      "torch.Size([2, 3, 16, 224, 224])\n",
      "torch.Size([2, 3, 16, 224, 224])\n",
      "torch.Size([2, 3, 16, 224, 224])\n",
      "torch.Size([2, 3, 16, 224, 224])\n",
      "torch.Size([2, 3, 16, 224, 224])\n"
     ]
    },
    {
     "name": "stderr",
     "output_type": "stream",
     "text": [
      "2024-03-21 20:34:58,052 - mmaction - INFO - Epoch [7][35/43]\tlr: 7.538e-07, eta: 0:18:41, time: 0.493, data_time: 0.002, memory: 9829, top1_acc: 0.4000, top5_acc: 1.0000, loss_cls: 1.1125, loss: 1.1125\n"
     ]
    },
    {
     "name": "stdout",
     "output_type": "stream",
     "text": [
      "torch.Size([2, 3, 16, 224, 224])\n",
      "torch.Size([2, 3, 16, 224, 224])\n",
      "torch.Size([2, 3, 16, 224, 224])\n",
      "torch.Size([2, 3, 16, 224, 224])\n",
      "torch.Size([2, 3, 16, 224, 224])\n"
     ]
    },
    {
     "name": "stderr",
     "output_type": "stream",
     "text": [
      "2024-03-21 20:35:00,382 - mmaction - INFO - Epoch [7][40/43]\tlr: 7.538e-07, eta: 0:18:34, time: 0.466, data_time: 0.001, memory: 9829, top1_acc: 0.3000, top5_acc: 1.0000, loss_cls: 1.0845, loss: 1.0845\n"
     ]
    },
    {
     "name": "stdout",
     "output_type": "stream",
     "text": [
      "torch.Size([2, 3, 16, 224, 224])\n",
      "torch.Size([2, 3, 16, 224, 224])\n",
      "torch.Size([2, 3, 16, 224, 224])\n",
      "torch.Size([2, 3, 16, 224, 224])\n",
      "torch.Size([2, 3, 16, 224, 224])\n",
      "torch.Size([2, 3, 16, 224, 224])\n",
      "torch.Size([2, 3, 16, 224, 224])\n",
      "torch.Size([2, 3, 16, 224, 224])\n"
     ]
    },
    {
     "name": "stderr",
     "output_type": "stream",
     "text": [
      "2024-03-21 20:35:10,177 - mmaction - INFO - Epoch [8][5/43]\tlr: 7.441e-07, eta: 0:18:49, time: 1.604, data_time: 1.069, memory: 9829, top1_acc: 0.2000, top5_acc: 1.0000, loss_cls: 1.0911, loss: 1.0911\n"
     ]
    },
    {
     "name": "stdout",
     "output_type": "stream",
     "text": [
      "torch.Size([2, 3, 16, 224, 224])\n",
      "torch.Size([2, 3, 16, 224, 224])\n",
      "torch.Size([2, 3, 16, 224, 224])\n",
      "torch.Size([2, 3, 16, 224, 224])\n",
      "torch.Size([2, 3, 16, 224, 224])\n"
     ]
    },
    {
     "name": "stderr",
     "output_type": "stream",
     "text": [
      "2024-03-21 20:35:12,821 - mmaction - INFO - Epoch [8][10/43]\tlr: 7.441e-07, eta: 0:18:43, time: 0.529, data_time: 0.001, memory: 9829, top1_acc: 0.6000, top5_acc: 1.0000, loss_cls: 1.1120, loss: 1.1120\n"
     ]
    },
    {
     "name": "stdout",
     "output_type": "stream",
     "text": [
      "torch.Size([2, 3, 16, 224, 224])\n",
      "torch.Size([2, 3, 16, 224, 224])\n",
      "torch.Size([2, 3, 16, 224, 224])\n",
      "torch.Size([2, 3, 16, 224, 224])\n",
      "torch.Size([2, 3, 16, 224, 224])\n"
     ]
    },
    {
     "name": "stderr",
     "output_type": "stream",
     "text": [
      "2024-03-21 20:35:15,271 - mmaction - INFO - Epoch [8][15/43]\tlr: 7.441e-07, eta: 0:18:37, time: 0.490, data_time: 0.001, memory: 9829, top1_acc: 0.6000, top5_acc: 1.0000, loss_cls: 1.0754, loss: 1.0754\n"
     ]
    },
    {
     "name": "stdout",
     "output_type": "stream",
     "text": [
      "torch.Size([2, 3, 16, 224, 224])\n",
      "torch.Size([2, 3, 16, 224, 224])\n",
      "torch.Size([2, 3, 16, 224, 224])\n",
      "torch.Size([2, 3, 16, 224, 224])\n",
      "Gradient overflow.  Skipping step, loss scaler 0 reducing loss scale to 16384.0\n",
      "torch.Size([2, 3, 16, 224, 224])\n"
     ]
    },
    {
     "name": "stderr",
     "output_type": "stream",
     "text": [
      "2024-03-21 20:35:17,908 - mmaction - INFO - Epoch [8][20/43]\tlr: 7.441e-07, eta: 0:18:31, time: 0.527, data_time: 0.001, memory: 9829, top1_acc: 0.3000, top5_acc: 1.0000, loss_cls: 1.0908, loss: 1.0908\n"
     ]
    },
    {
     "name": "stdout",
     "output_type": "stream",
     "text": [
      "torch.Size([2, 3, 16, 224, 224])\n",
      "torch.Size([2, 3, 16, 224, 224])\n",
      "torch.Size([2, 3, 16, 224, 224])\n",
      "torch.Size([2, 3, 16, 224, 224])\n",
      "torch.Size([2, 3, 16, 224, 224])\n"
     ]
    },
    {
     "name": "stderr",
     "output_type": "stream",
     "text": [
      "2024-03-21 20:35:20,685 - mmaction - INFO - Epoch [8][25/43]\tlr: 7.441e-07, eta: 0:18:27, time: 0.555, data_time: 0.001, memory: 9830, top1_acc: 0.4000, top5_acc: 1.0000, loss_cls: 1.0840, loss: 1.0840\n"
     ]
    },
    {
     "name": "stdout",
     "output_type": "stream",
     "text": [
      "torch.Size([2, 3, 16, 224, 224])\n",
      "torch.Size([2, 3, 16, 224, 224])\n",
      "torch.Size([2, 3, 16, 224, 224])\n",
      "torch.Size([2, 3, 16, 224, 224])\n",
      "torch.Size([2, 3, 16, 224, 224])\n"
     ]
    },
    {
     "name": "stderr",
     "output_type": "stream",
     "text": [
      "2024-03-21 20:35:23,187 - mmaction - INFO - Epoch [8][30/43]\tlr: 7.441e-07, eta: 0:18:21, time: 0.501, data_time: 0.001, memory: 9830, top1_acc: 0.3000, top5_acc: 1.0000, loss_cls: 1.0796, loss: 1.0796\n"
     ]
    },
    {
     "name": "stdout",
     "output_type": "stream",
     "text": [
      "torch.Size([2, 3, 16, 224, 224])\n",
      "torch.Size([2, 3, 16, 224, 224])\n",
      "torch.Size([2, 3, 16, 224, 224])\n",
      "torch.Size([2, 3, 16, 224, 224])\n",
      "torch.Size([2, 3, 16, 224, 224])\n"
     ]
    },
    {
     "name": "stderr",
     "output_type": "stream",
     "text": [
      "2024-03-21 20:35:25,616 - mmaction - INFO - Epoch [8][35/43]\tlr: 7.441e-07, eta: 0:18:14, time: 0.485, data_time: 0.001, memory: 9830, top1_acc: 0.4000, top5_acc: 1.0000, loss_cls: 1.0654, loss: 1.0654\n"
     ]
    },
    {
     "name": "stdout",
     "output_type": "stream",
     "text": [
      "torch.Size([2, 3, 16, 224, 224])\n",
      "torch.Size([2, 3, 16, 224, 224])\n",
      "torch.Size([2, 3, 16, 224, 224])\n",
      "torch.Size([2, 3, 16, 224, 224])\n",
      "torch.Size([2, 3, 16, 224, 224])\n"
     ]
    },
    {
     "name": "stderr",
     "output_type": "stream",
     "text": [
      "2024-03-21 20:35:27,984 - mmaction - INFO - Epoch [8][40/43]\tlr: 7.441e-07, eta: 0:18:08, time: 0.475, data_time: 0.002, memory: 9832, top1_acc: 0.4000, top5_acc: 1.0000, loss_cls: 1.0984, loss: 1.0984\n"
     ]
    },
    {
     "name": "stdout",
     "output_type": "stream",
     "text": [
      "torch.Size([2, 3, 16, 224, 224])\n",
      "torch.Size([2, 3, 16, 224, 224])\n",
      "torch.Size([2, 3, 16, 224, 224])\n",
      "torch.Size([2, 3, 16, 224, 224])\n",
      "torch.Size([2, 3, 16, 224, 224])\n",
      "torch.Size([2, 3, 16, 224, 224])\n",
      "torch.Size([2, 3, 16, 224, 224])\n",
      "torch.Size([2, 3, 16, 224, 224])\n"
     ]
    },
    {
     "name": "stderr",
     "output_type": "stream",
     "text": [
      "2024-03-21 20:35:37,981 - mmaction - INFO - Epoch [9][5/43]\tlr: 7.329e-07, eta: 0:18:20, time: 1.631, data_time: 1.082, memory: 9832, top1_acc: 0.6000, top5_acc: 1.0000, loss_cls: 0.9965, loss: 0.9965\n"
     ]
    },
    {
     "name": "stdout",
     "output_type": "stream",
     "text": [
      "torch.Size([2, 3, 16, 224, 224])\n",
      "torch.Size([2, 3, 16, 224, 224])\n",
      "torch.Size([2, 3, 16, 224, 224])\n",
      "torch.Size([2, 3, 16, 224, 224])\n",
      "torch.Size([2, 3, 16, 224, 224])\n"
     ]
    },
    {
     "name": "stderr",
     "output_type": "stream",
     "text": [
      "2024-03-21 20:35:40,755 - mmaction - INFO - Epoch [9][10/43]\tlr: 7.329e-07, eta: 0:18:16, time: 0.555, data_time: 0.001, memory: 9832, top1_acc: 0.6000, top5_acc: 1.0000, loss_cls: 1.0396, loss: 1.0396\n"
     ]
    },
    {
     "name": "stdout",
     "output_type": "stream",
     "text": [
      "torch.Size([2, 3, 16, 224, 224])\n",
      "torch.Size([2, 3, 16, 224, 224])\n",
      "torch.Size([2, 3, 16, 224, 224])\n",
      "torch.Size([2, 3, 16, 224, 224])\n",
      "torch.Size([2, 3, 16, 224, 224])\n"
     ]
    },
    {
     "name": "stderr",
     "output_type": "stream",
     "text": [
      "2024-03-21 20:35:43,353 - mmaction - INFO - Epoch [9][15/43]\tlr: 7.329e-07, eta: 0:18:11, time: 0.519, data_time: 0.001, memory: 9832, top1_acc: 0.5000, top5_acc: 1.0000, loss_cls: 1.0703, loss: 1.0703\n"
     ]
    },
    {
     "name": "stdout",
     "output_type": "stream",
     "text": [
      "torch.Size([2, 3, 16, 224, 224])\n",
      "torch.Size([2, 3, 16, 224, 224])\n",
      "torch.Size([2, 3, 16, 224, 224])\n",
      "torch.Size([2, 3, 16, 224, 224])\n",
      "torch.Size([2, 3, 16, 224, 224])\n"
     ]
    },
    {
     "name": "stderr",
     "output_type": "stream",
     "text": [
      "2024-03-21 20:35:46,086 - mmaction - INFO - Epoch [9][20/43]\tlr: 7.329e-07, eta: 0:18:06, time: 0.547, data_time: 0.001, memory: 9832, top1_acc: 0.4000, top5_acc: 1.0000, loss_cls: 1.0249, loss: 1.0249\n"
     ]
    },
    {
     "name": "stdout",
     "output_type": "stream",
     "text": [
      "torch.Size([2, 3, 16, 224, 224])\n",
      "torch.Size([2, 3, 16, 224, 224])\n",
      "torch.Size([2, 3, 16, 224, 224])\n",
      "torch.Size([2, 3, 16, 224, 224])\n",
      "torch.Size([2, 3, 16, 224, 224])\n"
     ]
    },
    {
     "name": "stderr",
     "output_type": "stream",
     "text": [
      "2024-03-21 20:35:48,742 - mmaction - INFO - Epoch [9][25/43]\tlr: 7.329e-07, eta: 0:18:01, time: 0.531, data_time: 0.001, memory: 9832, top1_acc: 0.3000, top5_acc: 1.0000, loss_cls: 1.1102, loss: 1.1102\n"
     ]
    },
    {
     "name": "stdout",
     "output_type": "stream",
     "text": [
      "torch.Size([2, 3, 16, 224, 224])\n",
      "torch.Size([2, 3, 16, 224, 224])\n",
      "torch.Size([2, 3, 16, 224, 224])\n",
      "torch.Size([2, 3, 16, 224, 224])\n",
      "torch.Size([2, 3, 16, 224, 224])\n"
     ]
    },
    {
     "name": "stderr",
     "output_type": "stream",
     "text": [
      "2024-03-21 20:35:51,169 - mmaction - INFO - Epoch [9][30/43]\tlr: 7.329e-07, eta: 0:17:55, time: 0.486, data_time: 0.001, memory: 9832, top1_acc: 0.4000, top5_acc: 1.0000, loss_cls: 1.0464, loss: 1.0464\n"
     ]
    },
    {
     "name": "stdout",
     "output_type": "stream",
     "text": [
      "torch.Size([2, 3, 16, 224, 224])\n",
      "torch.Size([2, 3, 16, 224, 224])\n",
      "torch.Size([2, 3, 16, 224, 224])\n",
      "torch.Size([2, 3, 16, 224, 224])\n",
      "torch.Size([2, 3, 16, 224, 224])\n"
     ]
    },
    {
     "name": "stderr",
     "output_type": "stream",
     "text": [
      "2024-03-21 20:35:53,566 - mmaction - INFO - Epoch [9][35/43]\tlr: 7.329e-07, eta: 0:17:49, time: 0.479, data_time: 0.001, memory: 9832, top1_acc: 0.3000, top5_acc: 1.0000, loss_cls: 1.0413, loss: 1.0413\n"
     ]
    },
    {
     "name": "stdout",
     "output_type": "stream",
     "text": [
      "torch.Size([2, 3, 16, 224, 224])\n",
      "torch.Size([2, 3, 16, 224, 224])\n",
      "torch.Size([2, 3, 16, 224, 224])\n",
      "torch.Size([2, 3, 16, 224, 224])\n",
      "torch.Size([2, 3, 16, 224, 224])\n"
     ]
    },
    {
     "name": "stderr",
     "output_type": "stream",
     "text": [
      "2024-03-21 20:35:55,925 - mmaction - INFO - Epoch [9][40/43]\tlr: 7.329e-07, eta: 0:17:43, time: 0.471, data_time: 0.001, memory: 9832, top1_acc: 0.2000, top5_acc: 1.0000, loss_cls: 1.1040, loss: 1.1040\n"
     ]
    },
    {
     "name": "stdout",
     "output_type": "stream",
     "text": [
      "torch.Size([2, 3, 16, 224, 224])\n",
      "torch.Size([2, 3, 16, 224, 224])\n",
      "torch.Size([2, 3, 16, 224, 224])\n",
      "torch.Size([2, 3, 16, 224, 224])\n",
      "torch.Size([2, 3, 16, 224, 224])\n",
      "torch.Size([2, 3, 16, 224, 224])\n",
      "torch.Size([2, 3, 16, 224, 224])\n",
      "torch.Size([2, 3, 16, 224, 224])\n"
     ]
    },
    {
     "name": "stderr",
     "output_type": "stream",
     "text": [
      "2024-03-21 20:36:05,669 - mmaction - INFO - Epoch [10][5/43]\tlr: 7.204e-07, eta: 0:17:52, time: 1.586, data_time: 1.042, memory: 9832, top1_acc: 0.5000, top5_acc: 1.0000, loss_cls: 1.1239, loss: 1.1239\n"
     ]
    },
    {
     "name": "stdout",
     "output_type": "stream",
     "text": [
      "torch.Size([2, 3, 16, 224, 224])\n",
      "torch.Size([2, 3, 16, 224, 224])\n",
      "torch.Size([2, 3, 16, 224, 224])\n",
      "torch.Size([2, 3, 16, 224, 224])\n",
      "torch.Size([2, 3, 16, 224, 224])\n"
     ]
    },
    {
     "name": "stderr",
     "output_type": "stream",
     "text": [
      "2024-03-21 20:36:08,204 - mmaction - INFO - Epoch [10][10/43]\tlr: 7.204e-07, eta: 0:17:47, time: 0.508, data_time: 0.002, memory: 9832, top1_acc: 0.3000, top5_acc: 1.0000, loss_cls: 1.0110, loss: 1.0110\n"
     ]
    },
    {
     "name": "stdout",
     "output_type": "stream",
     "text": [
      "torch.Size([2, 3, 16, 224, 224])\n",
      "torch.Size([2, 3, 16, 224, 224])\n",
      "torch.Size([2, 3, 16, 224, 224])\n",
      "torch.Size([2, 3, 16, 224, 224])\n",
      "torch.Size([2, 3, 16, 224, 224])\n"
     ]
    },
    {
     "name": "stderr",
     "output_type": "stream",
     "text": [
      "2024-03-21 20:36:10,799 - mmaction - INFO - Epoch [10][15/43]\tlr: 7.204e-07, eta: 0:17:42, time: 0.519, data_time: 0.001, memory: 9832, top1_acc: 0.6000, top5_acc: 1.0000, loss_cls: 1.0521, loss: 1.0521\n"
     ]
    },
    {
     "name": "stdout",
     "output_type": "stream",
     "text": [
      "torch.Size([2, 3, 16, 224, 224])\n",
      "torch.Size([2, 3, 16, 224, 224])\n",
      "torch.Size([2, 3, 16, 224, 224])\n",
      "torch.Size([2, 3, 16, 224, 224])\n",
      "torch.Size([2, 3, 16, 224, 224])\n"
     ]
    },
    {
     "name": "stderr",
     "output_type": "stream",
     "text": [
      "2024-03-21 20:36:13,405 - mmaction - INFO - Epoch [10][20/43]\tlr: 7.204e-07, eta: 0:17:37, time: 0.521, data_time: 0.001, memory: 9832, top1_acc: 0.6000, top5_acc: 1.0000, loss_cls: 0.9885, loss: 0.9885\n"
     ]
    },
    {
     "name": "stdout",
     "output_type": "stream",
     "text": [
      "torch.Size([2, 3, 16, 224, 224])\n",
      "torch.Size([2, 3, 16, 224, 224])\n",
      "torch.Size([2, 3, 16, 224, 224])\n",
      "torch.Size([2, 3, 16, 224, 224])\n",
      "torch.Size([2, 3, 16, 224, 224])\n"
     ]
    },
    {
     "name": "stderr",
     "output_type": "stream",
     "text": [
      "2024-03-21 20:36:16,151 - mmaction - INFO - Epoch [10][25/43]\tlr: 7.204e-07, eta: 0:17:33, time: 0.549, data_time: 0.001, memory: 9832, top1_acc: 0.5000, top5_acc: 1.0000, loss_cls: 1.0306, loss: 1.0306\n"
     ]
    },
    {
     "name": "stdout",
     "output_type": "stream",
     "text": [
      "torch.Size([2, 3, 16, 224, 224])\n",
      "torch.Size([2, 3, 16, 224, 224])\n",
      "torch.Size([2, 3, 16, 224, 224])\n",
      "torch.Size([2, 3, 16, 224, 224])\n",
      "torch.Size([2, 3, 16, 224, 224])\n"
     ]
    },
    {
     "name": "stderr",
     "output_type": "stream",
     "text": [
      "2024-03-21 20:36:18,842 - mmaction - INFO - Epoch [10][30/43]\tlr: 7.204e-07, eta: 0:17:28, time: 0.538, data_time: 0.001, memory: 9832, top1_acc: 0.2000, top5_acc: 1.0000, loss_cls: 1.1053, loss: 1.1053\n"
     ]
    },
    {
     "name": "stdout",
     "output_type": "stream",
     "text": [
      "torch.Size([2, 3, 16, 224, 224])\n",
      "torch.Size([2, 3, 16, 224, 224])\n",
      "torch.Size([2, 3, 16, 224, 224])\n",
      "torch.Size([2, 3, 16, 224, 224])\n",
      "torch.Size([2, 3, 16, 224, 224])\n"
     ]
    },
    {
     "name": "stderr",
     "output_type": "stream",
     "text": [
      "2024-03-21 20:36:21,464 - mmaction - INFO - Epoch [10][35/43]\tlr: 7.204e-07, eta: 0:17:24, time: 0.525, data_time: 0.002, memory: 9832, top1_acc: 0.4000, top5_acc: 1.0000, loss_cls: 1.0182, loss: 1.0182\n"
     ]
    },
    {
     "name": "stdout",
     "output_type": "stream",
     "text": [
      "torch.Size([2, 3, 16, 224, 224])\n",
      "torch.Size([2, 3, 16, 224, 224])\n",
      "torch.Size([2, 3, 16, 224, 224])\n",
      "torch.Size([2, 3, 16, 224, 224])\n",
      "torch.Size([2, 3, 16, 224, 224])\n"
     ]
    },
    {
     "name": "stderr",
     "output_type": "stream",
     "text": [
      "2024-03-21 20:36:24,152 - mmaction - INFO - Epoch [10][40/43]\tlr: 7.204e-07, eta: 0:17:19, time: 0.538, data_time: 0.001, memory: 9832, top1_acc: 0.8000, top5_acc: 1.0000, loss_cls: 1.0245, loss: 1.0245\n"
     ]
    },
    {
     "name": "stdout",
     "output_type": "stream",
     "text": [
      "torch.Size([2, 3, 16, 224, 224])\n",
      "torch.Size([2, 3, 16, 224, 224])\n",
      "torch.Size([2, 3, 16, 224, 224])\n"
     ]
    },
    {
     "name": "stderr",
     "output_type": "stream",
     "text": [
      "2024-03-21 20:36:26,200 - mmaction - INFO - Saving checkpoint at 10 epochs\n"
     ]
    },
    {
     "name": "stdout",
     "output_type": "stream",
     "text": [
      "[>>>>>>>>>>>>>>>>>>>>>>>>>>>>>>>>>>>>>>>>>>>>>>>>>>] 23/23, 3.1 task/s, elapsed: 7s, ETA:     0s"
     ]
    },
    {
     "name": "stderr",
     "output_type": "stream",
     "text": [
      "2024-03-21 20:36:35,351 - mmaction - INFO - Evaluating top_k_accuracy ...\n",
      "2024-03-21 20:36:35,352 - mmaction - INFO - \n",
      "top1_acc\t0.6087\n",
      "top5_acc\t1.0000\n",
      "2024-03-21 20:36:35,352 - mmaction - INFO - Evaluating mean_class_accuracy ...\n",
      "2024-03-21 20:36:35,353 - mmaction - INFO - \n",
      "mean_acc\t0.4811\n",
      "2024-03-21 20:36:35,418 - mmaction - INFO - The previous best checkpoint H:\\code\\视频组代码\\Video_Swin_Transformer\\tutorial_exps\\best_top1_acc_epoch_5.pth was removed\n"
     ]
    },
    {
     "name": "stdout",
     "output_type": "stream",
     "text": [
      "mean_class_accuracy\n",
      "[1 1 0 0 0 1 0 1 1 0 0 0 1 1 0 0 1 0 0 0 0 1 0]\n",
      "[0, 1, 1, 0, 0, 2, 1, 1, 1, 0, 0, 0, 0, 1, 0, 0, 1, 0, 0, 2, 1, 2, 2]\n"
     ]
    },
    {
     "name": "stderr",
     "output_type": "stream",
     "text": [
      "2024-03-21 20:36:36,440 - mmaction - INFO - Now best checkpoint is saved as best_top1_acc_epoch_10.pth.\n",
      "2024-03-21 20:36:36,441 - mmaction - INFO - Best top1_acc is 0.6087 at 10 epoch.\n",
      "2024-03-21 20:36:36,441 - mmaction - INFO - Epoch(val) [10][23]\ttop1_acc: 0.6087, top5_acc: 1.0000, mean_class_accuracy: 0.4811\n"
     ]
    },
    {
     "name": "stdout",
     "output_type": "stream",
     "text": [
      "torch.Size([2, 3, 16, 224, 224])\n",
      "torch.Size([2, 3, 16, 224, 224])\n",
      "torch.Size([2, 3, 16, 224, 224])\n",
      "torch.Size([2, 3, 16, 224, 224])\n",
      "torch.Size([2, 3, 16, 224, 224])\n"
     ]
    },
    {
     "name": "stderr",
     "output_type": "stream",
     "text": [
      "2024-03-21 20:36:44,769 - mmaction - INFO - Epoch [11][5/43]\tlr: 7.066e-07, eta: 0:17:28, time: 1.664, data_time: 1.055, memory: 9832, top1_acc: 0.4000, top5_acc: 1.0000, loss_cls: 1.1145, loss: 1.1145\n"
     ]
    },
    {
     "name": "stdout",
     "output_type": "stream",
     "text": [
      "torch.Size([2, 3, 16, 224, 224])\n",
      "torch.Size([2, 3, 16, 224, 224])\n",
      "torch.Size([2, 3, 16, 224, 224])\n",
      "torch.Size([2, 3, 16, 224, 224])\n",
      "torch.Size([2, 3, 16, 224, 224])\n"
     ]
    },
    {
     "name": "stderr",
     "output_type": "stream",
     "text": [
      "2024-03-21 20:36:47,257 - mmaction - INFO - Epoch [11][10/43]\tlr: 7.066e-07, eta: 0:17:23, time: 0.496, data_time: 0.001, memory: 9832, top1_acc: 0.2000, top5_acc: 1.0000, loss_cls: 1.0987, loss: 1.0987\n"
     ]
    },
    {
     "name": "stdout",
     "output_type": "stream",
     "text": [
      "torch.Size([2, 3, 16, 224, 224])\n",
      "torch.Size([2, 3, 16, 224, 224])\n",
      "torch.Size([2, 3, 16, 224, 224])\n",
      "torch.Size([2, 3, 16, 224, 224])\n",
      "torch.Size([2, 3, 16, 224, 224])\n"
     ]
    },
    {
     "name": "stderr",
     "output_type": "stream",
     "text": [
      "2024-03-21 20:36:49,645 - mmaction - INFO - Epoch [11][15/43]\tlr: 7.066e-07, eta: 0:17:17, time: 0.480, data_time: 0.003, memory: 9832, top1_acc: 0.2000, top5_acc: 1.0000, loss_cls: 1.1031, loss: 1.1031\n"
     ]
    },
    {
     "name": "stdout",
     "output_type": "stream",
     "text": [
      "torch.Size([2, 3, 16, 224, 224])\n",
      "torch.Size([2, 3, 16, 224, 224])\n",
      "torch.Size([2, 3, 16, 224, 224])\n",
      "torch.Size([2, 3, 16, 224, 224])\n",
      "torch.Size([2, 3, 16, 224, 224])\n"
     ]
    },
    {
     "name": "stderr",
     "output_type": "stream",
     "text": [
      "2024-03-21 20:36:52,040 - mmaction - INFO - Epoch [11][20/43]\tlr: 7.066e-07, eta: 0:17:12, time: 0.479, data_time: 0.001, memory: 9832, top1_acc: 0.6000, top5_acc: 1.0000, loss_cls: 1.0122, loss: 1.0122\n"
     ]
    },
    {
     "name": "stdout",
     "output_type": "stream",
     "text": [
      "torch.Size([2, 3, 16, 224, 224])\n",
      "torch.Size([2, 3, 16, 224, 224])\n",
      "torch.Size([2, 3, 16, 224, 224])\n",
      "torch.Size([2, 3, 16, 224, 224])\n",
      "torch.Size([2, 3, 16, 224, 224])\n"
     ]
    },
    {
     "name": "stderr",
     "output_type": "stream",
     "text": [
      "2024-03-21 20:36:54,427 - mmaction - INFO - Epoch [11][25/43]\tlr: 7.066e-07, eta: 0:17:06, time: 0.477, data_time: 0.001, memory: 9832, top1_acc: 0.6000, top5_acc: 1.0000, loss_cls: 1.0355, loss: 1.0355\n"
     ]
    },
    {
     "name": "stdout",
     "output_type": "stream",
     "text": [
      "torch.Size([2, 3, 16, 224, 224])\n",
      "torch.Size([2, 3, 16, 224, 224])\n",
      "torch.Size([2, 3, 16, 224, 224])\n",
      "torch.Size([2, 3, 16, 224, 224])\n",
      "torch.Size([2, 3, 16, 224, 224])\n"
     ]
    },
    {
     "name": "stderr",
     "output_type": "stream",
     "text": [
      "2024-03-21 20:36:56,980 - mmaction - INFO - Epoch [11][30/43]\tlr: 7.066e-07, eta: 0:17:02, time: 0.511, data_time: 0.001, memory: 9832, top1_acc: 0.5000, top5_acc: 1.0000, loss_cls: 1.0809, loss: 1.0809\n"
     ]
    },
    {
     "name": "stdout",
     "output_type": "stream",
     "text": [
      "torch.Size([2, 3, 16, 224, 224])\n",
      "torch.Size([2, 3, 16, 224, 224])\n",
      "torch.Size([2, 3, 16, 224, 224])\n",
      "torch.Size([2, 3, 16, 224, 224])\n",
      "torch.Size([2, 3, 16, 224, 224])\n"
     ]
    },
    {
     "name": "stderr",
     "output_type": "stream",
     "text": [
      "2024-03-21 20:36:59,448 - mmaction - INFO - Epoch [11][35/43]\tlr: 7.066e-07, eta: 0:16:57, time: 0.494, data_time: 0.001, memory: 9832, top1_acc: 0.3000, top5_acc: 1.0000, loss_cls: 1.1690, loss: 1.1690\n"
     ]
    },
    {
     "name": "stdout",
     "output_type": "stream",
     "text": [
      "torch.Size([2, 3, 16, 224, 224])\n",
      "torch.Size([2, 3, 16, 224, 224])\n",
      "torch.Size([2, 3, 16, 224, 224])\n",
      "torch.Size([2, 3, 16, 224, 224])\n",
      "torch.Size([2, 3, 16, 224, 224])\n"
     ]
    },
    {
     "name": "stderr",
     "output_type": "stream",
     "text": [
      "2024-03-21 20:37:01,788 - mmaction - INFO - Epoch [11][40/43]\tlr: 7.066e-07, eta: 0:16:51, time: 0.468, data_time: 0.001, memory: 9832, top1_acc: 0.5000, top5_acc: 1.0000, loss_cls: 1.0187, loss: 1.0187\n"
     ]
    },
    {
     "name": "stdout",
     "output_type": "stream",
     "text": [
      "torch.Size([2, 3, 16, 224, 224])\n",
      "torch.Size([2, 3, 16, 224, 224])\n",
      "torch.Size([2, 3, 16, 224, 224])\n",
      "torch.Size([2, 3, 16, 224, 224])\n",
      "torch.Size([2, 3, 16, 224, 224])\n",
      "torch.Size([2, 3, 16, 224, 224])\n",
      "torch.Size([2, 3, 16, 224, 224])\n",
      "torch.Size([2, 3, 16, 224, 224])\n"
     ]
    },
    {
     "name": "stderr",
     "output_type": "stream",
     "text": [
      "2024-03-21 20:37:11,741 - mmaction - INFO - Epoch [12][5/43]\tlr: 6.916e-07, eta: 0:16:58, time: 1.632, data_time: 1.080, memory: 9832, top1_acc: 0.4000, top5_acc: 1.0000, loss_cls: 1.0260, loss: 1.0260\n"
     ]
    },
    {
     "name": "stdout",
     "output_type": "stream",
     "text": [
      "torch.Size([2, 3, 16, 224, 224])\n",
      "torch.Size([2, 3, 16, 224, 224])\n",
      "torch.Size([2, 3, 16, 224, 224])\n",
      "torch.Size([2, 3, 16, 224, 224])\n",
      "torch.Size([2, 3, 16, 224, 224])\n"
     ]
    },
    {
     "name": "stderr",
     "output_type": "stream",
     "text": [
      "2024-03-21 20:37:14,250 - mmaction - INFO - Epoch [12][10/43]\tlr: 6.916e-07, eta: 0:16:53, time: 0.502, data_time: 0.001, memory: 9832, top1_acc: 0.4000, top5_acc: 1.0000, loss_cls: 1.0384, loss: 1.0384\n"
     ]
    },
    {
     "name": "stdout",
     "output_type": "stream",
     "text": [
      "torch.Size([2, 3, 16, 224, 224])\n",
      "torch.Size([2, 3, 16, 224, 224])\n",
      "torch.Size([2, 3, 16, 224, 224])\n",
      "torch.Size([2, 3, 16, 224, 224])\n",
      "torch.Size([2, 3, 16, 224, 224])\n"
     ]
    },
    {
     "name": "stderr",
     "output_type": "stream",
     "text": [
      "2024-03-21 20:37:16,820 - mmaction - INFO - Epoch [12][15/43]\tlr: 6.916e-07, eta: 0:16:49, time: 0.513, data_time: 0.001, memory: 9832, top1_acc: 0.5000, top5_acc: 1.0000, loss_cls: 1.0701, loss: 1.0701\n"
     ]
    },
    {
     "name": "stdout",
     "output_type": "stream",
     "text": [
      "torch.Size([2, 3, 16, 224, 224])\n",
      "torch.Size([2, 3, 16, 224, 224])\n",
      "torch.Size([2, 3, 16, 224, 224])\n",
      "torch.Size([2, 3, 16, 224, 224])\n",
      "torch.Size([2, 3, 16, 224, 224])\n"
     ]
    },
    {
     "name": "stderr",
     "output_type": "stream",
     "text": [
      "2024-03-21 20:37:19,443 - mmaction - INFO - Epoch [12][20/43]\tlr: 6.916e-07, eta: 0:16:44, time: 0.525, data_time: 0.002, memory: 9832, top1_acc: 0.4000, top5_acc: 1.0000, loss_cls: 1.0923, loss: 1.0923\n"
     ]
    },
    {
     "name": "stdout",
     "output_type": "stream",
     "text": [
      "torch.Size([2, 3, 16, 224, 224])\n",
      "torch.Size([2, 3, 16, 224, 224])\n",
      "torch.Size([2, 3, 16, 224, 224])\n",
      "torch.Size([2, 3, 16, 224, 224])\n",
      "torch.Size([2, 3, 16, 224, 224])\n"
     ]
    },
    {
     "name": "stderr",
     "output_type": "stream",
     "text": [
      "2024-03-21 20:37:22,326 - mmaction - INFO - Epoch [12][25/43]\tlr: 6.916e-07, eta: 0:16:41, time: 0.576, data_time: 0.001, memory: 9832, top1_acc: 0.7000, top5_acc: 1.0000, loss_cls: 1.0096, loss: 1.0096\n"
     ]
    },
    {
     "name": "stdout",
     "output_type": "stream",
     "text": [
      "torch.Size([2, 3, 16, 224, 224])\n",
      "torch.Size([2, 3, 16, 224, 224])\n",
      "torch.Size([2, 3, 16, 224, 224])\n",
      "torch.Size([2, 3, 16, 224, 224])\n",
      "torch.Size([2, 3, 16, 224, 224])\n"
     ]
    },
    {
     "name": "stderr",
     "output_type": "stream",
     "text": [
      "2024-03-21 20:37:25,065 - mmaction - INFO - Epoch [12][30/43]\tlr: 6.916e-07, eta: 0:16:37, time: 0.548, data_time: 0.001, memory: 9832, top1_acc: 0.6000, top5_acc: 1.0000, loss_cls: 1.0562, loss: 1.0562\n"
     ]
    },
    {
     "name": "stdout",
     "output_type": "stream",
     "text": [
      "torch.Size([2, 3, 16, 224, 224])\n",
      "torch.Size([2, 3, 16, 224, 224])\n",
      "torch.Size([2, 3, 16, 224, 224])\n",
      "torch.Size([2, 3, 16, 224, 224])\n",
      "torch.Size([2, 3, 16, 224, 224])\n"
     ]
    },
    {
     "name": "stderr",
     "output_type": "stream",
     "text": [
      "2024-03-21 20:37:27,472 - mmaction - INFO - Epoch [12][35/43]\tlr: 6.916e-07, eta: 0:16:32, time: 0.481, data_time: 0.001, memory: 9832, top1_acc: 0.6000, top5_acc: 1.0000, loss_cls: 1.0329, loss: 1.0329\n"
     ]
    },
    {
     "name": "stdout",
     "output_type": "stream",
     "text": [
      "torch.Size([2, 3, 16, 224, 224])\n",
      "torch.Size([2, 3, 16, 224, 224])\n",
      "torch.Size([2, 3, 16, 224, 224])\n",
      "torch.Size([2, 3, 16, 224, 224])\n",
      "torch.Size([2, 3, 16, 224, 224])\n"
     ]
    },
    {
     "name": "stderr",
     "output_type": "stream",
     "text": [
      "2024-03-21 20:37:29,985 - mmaction - INFO - Epoch [12][40/43]\tlr: 6.916e-07, eta: 0:16:27, time: 0.503, data_time: 0.001, memory: 9832, top1_acc: 0.5000, top5_acc: 1.0000, loss_cls: 1.0191, loss: 1.0191\n"
     ]
    },
    {
     "name": "stdout",
     "output_type": "stream",
     "text": [
      "torch.Size([2, 3, 16, 224, 224])\n",
      "torch.Size([2, 3, 16, 224, 224])\n",
      "torch.Size([2, 3, 16, 224, 224])\n",
      "torch.Size([2, 3, 16, 224, 224])\n",
      "torch.Size([2, 3, 16, 224, 224])\n",
      "torch.Size([2, 3, 16, 224, 224])\n",
      "torch.Size([2, 3, 16, 224, 224])\n",
      "torch.Size([2, 3, 16, 224, 224])\n"
     ]
    },
    {
     "name": "stderr",
     "output_type": "stream",
     "text": [
      "2024-03-21 20:37:39,595 - mmaction - INFO - Epoch [13][5/43]\tlr: 6.754e-07, eta: 0:16:31, time: 1.561, data_time: 1.039, memory: 9832, top1_acc: 0.4000, top5_acc: 1.0000, loss_cls: 0.9967, loss: 0.9967\n"
     ]
    },
    {
     "name": "stdout",
     "output_type": "stream",
     "text": [
      "torch.Size([2, 3, 16, 224, 224])\n",
      "torch.Size([2, 3, 16, 224, 224])\n",
      "torch.Size([2, 3, 16, 224, 224])\n",
      "torch.Size([2, 3, 16, 224, 224])\n",
      "torch.Size([2, 3, 16, 224, 224])\n"
     ]
    },
    {
     "name": "stderr",
     "output_type": "stream",
     "text": [
      "2024-03-21 20:37:41,940 - mmaction - INFO - Epoch [13][10/43]\tlr: 6.754e-07, eta: 0:16:26, time: 0.469, data_time: 0.001, memory: 9832, top1_acc: 0.6000, top5_acc: 1.0000, loss_cls: 1.0374, loss: 1.0374\n"
     ]
    },
    {
     "name": "stdout",
     "output_type": "stream",
     "text": [
      "torch.Size([2, 3, 16, 224, 224])\n",
      "torch.Size([2, 3, 16, 224, 224])\n",
      "torch.Size([2, 3, 16, 224, 224])\n",
      "torch.Size([2, 3, 16, 224, 224])\n",
      "torch.Size([2, 3, 16, 224, 224])\n"
     ]
    },
    {
     "name": "stderr",
     "output_type": "stream",
     "text": [
      "2024-03-21 20:37:44,283 - mmaction - INFO - Epoch [13][15/43]\tlr: 6.754e-07, eta: 0:16:21, time: 0.468, data_time: 0.001, memory: 9832, top1_acc: 0.5000, top5_acc: 1.0000, loss_cls: 1.0406, loss: 1.0406\n"
     ]
    },
    {
     "name": "stdout",
     "output_type": "stream",
     "text": [
      "torch.Size([2, 3, 16, 224, 224])\n",
      "torch.Size([2, 3, 16, 224, 224])\n",
      "torch.Size([2, 3, 16, 224, 224])\n",
      "torch.Size([2, 3, 16, 224, 224])\n",
      "torch.Size([2, 3, 16, 224, 224])\n"
     ]
    },
    {
     "name": "stderr",
     "output_type": "stream",
     "text": [
      "2024-03-21 20:37:46,665 - mmaction - INFO - Epoch [13][20/43]\tlr: 6.754e-07, eta: 0:16:16, time: 0.476, data_time: 0.001, memory: 9832, top1_acc: 0.3000, top5_acc: 1.0000, loss_cls: 1.1342, loss: 1.1342\n"
     ]
    },
    {
     "name": "stdout",
     "output_type": "stream",
     "text": [
      "torch.Size([2, 3, 16, 224, 224])\n",
      "torch.Size([2, 3, 16, 224, 224])\n",
      "torch.Size([2, 3, 16, 224, 224])\n",
      "torch.Size([2, 3, 16, 224, 224])\n",
      "torch.Size([2, 3, 16, 224, 224])\n"
     ]
    },
    {
     "name": "stderr",
     "output_type": "stream",
     "text": [
      "2024-03-21 20:37:48,984 - mmaction - INFO - Epoch [13][25/43]\tlr: 6.754e-07, eta: 0:16:11, time: 0.465, data_time: 0.002, memory: 9832, top1_acc: 0.3000, top5_acc: 1.0000, loss_cls: 1.0588, loss: 1.0588\n"
     ]
    },
    {
     "name": "stdout",
     "output_type": "stream",
     "text": [
      "torch.Size([2, 3, 16, 224, 224])\n",
      "torch.Size([2, 3, 16, 224, 224])\n",
      "torch.Size([2, 3, 16, 224, 224])\n",
      "torch.Size([2, 3, 16, 224, 224])\n",
      "torch.Size([2, 3, 16, 224, 224])\n"
     ]
    },
    {
     "name": "stderr",
     "output_type": "stream",
     "text": [
      "2024-03-21 20:37:51,333 - mmaction - INFO - Epoch [13][30/43]\tlr: 6.754e-07, eta: 0:16:06, time: 0.470, data_time: 0.001, memory: 9832, top1_acc: 0.6000, top5_acc: 1.0000, loss_cls: 1.0568, loss: 1.0568\n"
     ]
    },
    {
     "name": "stdout",
     "output_type": "stream",
     "text": [
      "torch.Size([2, 3, 16, 224, 224])\n",
      "torch.Size([2, 3, 16, 224, 224])\n",
      "torch.Size([2, 3, 16, 224, 224])\n",
      "torch.Size([2, 3, 16, 224, 224])\n",
      "torch.Size([2, 3, 16, 224, 224])\n"
     ]
    },
    {
     "name": "stderr",
     "output_type": "stream",
     "text": [
      "2024-03-21 20:37:53,656 - mmaction - INFO - Epoch [13][35/43]\tlr: 6.754e-07, eta: 0:16:01, time: 0.465, data_time: 0.001, memory: 9832, top1_acc: 0.5000, top5_acc: 1.0000, loss_cls: 0.9872, loss: 0.9872\n"
     ]
    },
    {
     "name": "stdout",
     "output_type": "stream",
     "text": [
      "torch.Size([2, 3, 16, 224, 224])\n",
      "torch.Size([2, 3, 16, 224, 224])\n",
      "torch.Size([2, 3, 16, 224, 224])\n",
      "torch.Size([2, 3, 16, 224, 224])\n",
      "torch.Size([2, 3, 16, 224, 224])\n"
     ]
    },
    {
     "name": "stderr",
     "output_type": "stream",
     "text": [
      "2024-03-21 20:37:55,974 - mmaction - INFO - Epoch [13][40/43]\tlr: 6.754e-07, eta: 0:15:56, time: 0.464, data_time: 0.001, memory: 9832, top1_acc: 0.5000, top5_acc: 1.0000, loss_cls: 1.0609, loss: 1.0609\n"
     ]
    },
    {
     "name": "stdout",
     "output_type": "stream",
     "text": [
      "torch.Size([2, 3, 16, 224, 224])\n",
      "torch.Size([2, 3, 16, 224, 224])\n",
      "torch.Size([2, 3, 16, 224, 224])\n",
      "torch.Size([2, 3, 16, 224, 224])\n",
      "torch.Size([2, 3, 16, 224, 224])\n",
      "torch.Size([2, 3, 16, 224, 224])\n",
      "torch.Size([2, 3, 16, 224, 224])\n",
      "torch.Size([2, 3, 16, 224, 224])\n"
     ]
    },
    {
     "name": "stderr",
     "output_type": "stream",
     "text": [
      "2024-03-21 20:38:05,383 - mmaction - INFO - Epoch [14][5/43]\tlr: 6.580e-07, eta: 0:15:59, time: 1.535, data_time: 1.068, memory: 9832, top1_acc: 0.2000, top5_acc: 1.0000, loss_cls: 1.0840, loss: 1.0840\n"
     ]
    },
    {
     "name": "stdout",
     "output_type": "stream",
     "text": [
      "torch.Size([2, 3, 16, 224, 224])\n",
      "torch.Size([2, 3, 16, 224, 224])\n",
      "torch.Size([2, 3, 16, 224, 224])\n",
      "torch.Size([2, 3, 16, 224, 224])\n",
      "torch.Size([2, 3, 16, 224, 224])\n"
     ]
    },
    {
     "name": "stderr",
     "output_type": "stream",
     "text": [
      "2024-03-21 20:38:07,713 - mmaction - INFO - Epoch [14][10/43]\tlr: 6.580e-07, eta: 0:15:54, time: 0.466, data_time: 0.001, memory: 9832, top1_acc: 0.5000, top5_acc: 1.0000, loss_cls: 1.0039, loss: 1.0039\n"
     ]
    },
    {
     "name": "stdout",
     "output_type": "stream",
     "text": [
      "torch.Size([2, 3, 16, 224, 224])\n",
      "torch.Size([2, 3, 16, 224, 224])\n",
      "torch.Size([2, 3, 16, 224, 224])\n",
      "torch.Size([2, 3, 16, 224, 224])\n",
      "torch.Size([2, 3, 16, 224, 224])\n"
     ]
    },
    {
     "name": "stderr",
     "output_type": "stream",
     "text": [
      "2024-03-21 20:38:10,053 - mmaction - INFO - Epoch [14][15/43]\tlr: 6.580e-07, eta: 0:15:49, time: 0.468, data_time: 0.001, memory: 9832, top1_acc: 0.4000, top5_acc: 1.0000, loss_cls: 1.0245, loss: 1.0245\n"
     ]
    },
    {
     "name": "stdout",
     "output_type": "stream",
     "text": [
      "torch.Size([2, 3, 16, 224, 224])\n",
      "torch.Size([2, 3, 16, 224, 224])\n",
      "torch.Size([2, 3, 16, 224, 224])\n",
      "torch.Size([2, 3, 16, 224, 224])\n",
      "torch.Size([2, 3, 16, 224, 224])\n"
     ]
    },
    {
     "name": "stderr",
     "output_type": "stream",
     "text": [
      "2024-03-21 20:38:12,421 - mmaction - INFO - Epoch [14][20/43]\tlr: 6.580e-07, eta: 0:15:45, time: 0.473, data_time: 0.001, memory: 9832, top1_acc: 0.5000, top5_acc: 1.0000, loss_cls: 1.0318, loss: 1.0318\n"
     ]
    },
    {
     "name": "stdout",
     "output_type": "stream",
     "text": [
      "torch.Size([2, 3, 16, 224, 224])\n",
      "torch.Size([2, 3, 16, 224, 224])\n",
      "torch.Size([2, 3, 16, 224, 224])\n",
      "torch.Size([2, 3, 16, 224, 224])\n",
      "torch.Size([2, 3, 16, 224, 224])\n"
     ]
    },
    {
     "name": "stderr",
     "output_type": "stream",
     "text": [
      "2024-03-21 20:38:14,803 - mmaction - INFO - Epoch [14][25/43]\tlr: 6.580e-07, eta: 0:15:40, time: 0.476, data_time: 0.001, memory: 9832, top1_acc: 0.4000, top5_acc: 1.0000, loss_cls: 1.1060, loss: 1.1060\n"
     ]
    },
    {
     "name": "stdout",
     "output_type": "stream",
     "text": [
      "torch.Size([2, 3, 16, 224, 224])\n",
      "torch.Size([2, 3, 16, 224, 224])\n",
      "torch.Size([2, 3, 16, 224, 224])\n",
      "torch.Size([2, 3, 16, 224, 224])\n",
      "torch.Size([2, 3, 16, 224, 224])\n"
     ]
    },
    {
     "name": "stderr",
     "output_type": "stream",
     "text": [
      "2024-03-21 20:38:17,118 - mmaction - INFO - Epoch [14][30/43]\tlr: 6.580e-07, eta: 0:15:35, time: 0.464, data_time: 0.002, memory: 9832, top1_acc: 0.6000, top5_acc: 1.0000, loss_cls: 0.9809, loss: 0.9809\n"
     ]
    },
    {
     "name": "stdout",
     "output_type": "stream",
     "text": [
      "torch.Size([2, 3, 16, 224, 224])\n",
      "torch.Size([2, 3, 16, 224, 224])\n",
      "torch.Size([2, 3, 16, 224, 224])\n",
      "torch.Size([2, 3, 16, 224, 224])\n",
      "torch.Size([2, 3, 16, 224, 224])\n"
     ]
    },
    {
     "name": "stderr",
     "output_type": "stream",
     "text": [
      "2024-03-21 20:38:19,511 - mmaction - INFO - Epoch [14][35/43]\tlr: 6.580e-07, eta: 0:15:31, time: 0.478, data_time: 0.001, memory: 9832, top1_acc: 0.5000, top5_acc: 1.0000, loss_cls: 1.0695, loss: 1.0695\n"
     ]
    },
    {
     "name": "stdout",
     "output_type": "stream",
     "text": [
      "torch.Size([2, 3, 16, 224, 224])\n",
      "torch.Size([2, 3, 16, 224, 224])\n",
      "torch.Size([2, 3, 16, 224, 224])\n",
      "torch.Size([2, 3, 16, 224, 224])\n",
      "torch.Size([2, 3, 16, 224, 224])\n"
     ]
    },
    {
     "name": "stderr",
     "output_type": "stream",
     "text": [
      "2024-03-21 20:38:21,824 - mmaction - INFO - Epoch [14][40/43]\tlr: 6.580e-07, eta: 0:15:26, time: 0.463, data_time: 0.001, memory: 9832, top1_acc: 0.2000, top5_acc: 1.0000, loss_cls: 1.1185, loss: 1.1185\n"
     ]
    },
    {
     "name": "stdout",
     "output_type": "stream",
     "text": [
      "torch.Size([2, 3, 16, 224, 224])\n",
      "torch.Size([2, 3, 16, 224, 224])\n",
      "torch.Size([2, 3, 16, 224, 224])\n",
      "torch.Size([2, 3, 16, 224, 224])\n",
      "torch.Size([2, 3, 16, 224, 224])\n",
      "torch.Size([2, 3, 16, 224, 224])\n",
      "torch.Size([2, 3, 16, 224, 224])\n",
      "torch.Size([2, 3, 16, 224, 224])\n"
     ]
    },
    {
     "name": "stderr",
     "output_type": "stream",
     "text": [
      "2024-03-21 20:38:31,573 - mmaction - INFO - Epoch [15][5/43]\tlr: 6.396e-07, eta: 0:15:29, time: 1.579, data_time: 1.039, memory: 9832, top1_acc: 0.5000, top5_acc: 1.0000, loss_cls: 1.0486, loss: 1.0486\n"
     ]
    },
    {
     "name": "stdout",
     "output_type": "stream",
     "text": [
      "torch.Size([2, 3, 16, 224, 224])\n",
      "torch.Size([2, 3, 16, 224, 224])\n",
      "torch.Size([2, 3, 16, 224, 224])\n",
      "torch.Size([2, 3, 16, 224, 224])\n",
      "torch.Size([2, 3, 16, 224, 224])\n"
     ]
    },
    {
     "name": "stderr",
     "output_type": "stream",
     "text": [
      "2024-03-21 20:38:33,952 - mmaction - INFO - Epoch [15][10/43]\tlr: 6.396e-07, eta: 0:15:24, time: 0.476, data_time: 0.001, memory: 9832, top1_acc: 0.6000, top5_acc: 1.0000, loss_cls: 1.0376, loss: 1.0376\n"
     ]
    },
    {
     "name": "stdout",
     "output_type": "stream",
     "text": [
      "torch.Size([2, 3, 16, 224, 224])\n",
      "torch.Size([2, 3, 16, 224, 224])\n",
      "torch.Size([2, 3, 16, 224, 224])\n",
      "torch.Size([2, 3, 16, 224, 224])\n",
      "torch.Size([2, 3, 16, 224, 224])\n"
     ]
    },
    {
     "name": "stderr",
     "output_type": "stream",
     "text": [
      "2024-03-21 20:38:36,319 - mmaction - INFO - Epoch [15][15/43]\tlr: 6.396e-07, eta: 0:15:20, time: 0.473, data_time: 0.001, memory: 9832, top1_acc: 0.5000, top5_acc: 1.0000, loss_cls: 1.0553, loss: 1.0553\n"
     ]
    },
    {
     "name": "stdout",
     "output_type": "stream",
     "text": [
      "torch.Size([2, 3, 16, 224, 224])\n",
      "torch.Size([2, 3, 16, 224, 224])\n",
      "torch.Size([2, 3, 16, 224, 224])\n",
      "torch.Size([2, 3, 16, 224, 224])\n",
      "torch.Size([2, 3, 16, 224, 224])\n"
     ]
    },
    {
     "name": "stderr",
     "output_type": "stream",
     "text": [
      "2024-03-21 20:38:38,657 - mmaction - INFO - Epoch [15][20/43]\tlr: 6.396e-07, eta: 0:15:15, time: 0.467, data_time: 0.001, memory: 9832, top1_acc: 0.7000, top5_acc: 1.0000, loss_cls: 0.9566, loss: 0.9566\n"
     ]
    },
    {
     "name": "stdout",
     "output_type": "stream",
     "text": [
      "torch.Size([2, 3, 16, 224, 224])\n",
      "torch.Size([2, 3, 16, 224, 224])\n",
      "torch.Size([2, 3, 16, 224, 224])\n",
      "torch.Size([2, 3, 16, 224, 224])\n",
      "torch.Size([2, 3, 16, 224, 224])\n"
     ]
    },
    {
     "name": "stderr",
     "output_type": "stream",
     "text": [
      "2024-03-21 20:38:41,029 - mmaction - INFO - Epoch [15][25/43]\tlr: 6.396e-07, eta: 0:15:11, time: 0.475, data_time: 0.001, memory: 9832, top1_acc: 0.4000, top5_acc: 1.0000, loss_cls: 1.0435, loss: 1.0435\n"
     ]
    },
    {
     "name": "stdout",
     "output_type": "stream",
     "text": [
      "torch.Size([2, 3, 16, 224, 224])\n",
      "torch.Size([2, 3, 16, 224, 224])\n",
      "torch.Size([2, 3, 16, 224, 224])\n",
      "torch.Size([2, 3, 16, 224, 224])\n",
      "torch.Size([2, 3, 16, 224, 224])\n"
     ]
    },
    {
     "name": "stderr",
     "output_type": "stream",
     "text": [
      "2024-03-21 20:38:43,401 - mmaction - INFO - Epoch [15][30/43]\tlr: 6.396e-07, eta: 0:15:06, time: 0.473, data_time: 0.001, memory: 9832, top1_acc: 0.6000, top5_acc: 1.0000, loss_cls: 1.0537, loss: 1.0537\n"
     ]
    },
    {
     "name": "stdout",
     "output_type": "stream",
     "text": [
      "torch.Size([2, 3, 16, 224, 224])\n",
      "torch.Size([2, 3, 16, 224, 224])\n",
      "torch.Size([2, 3, 16, 224, 224])\n",
      "torch.Size([2, 3, 16, 224, 224])\n",
      "torch.Size([2, 3, 16, 224, 224])\n"
     ]
    },
    {
     "name": "stderr",
     "output_type": "stream",
     "text": [
      "2024-03-21 20:38:45,714 - mmaction - INFO - Epoch [15][35/43]\tlr: 6.396e-07, eta: 0:15:02, time: 0.464, data_time: 0.002, memory: 9832, top1_acc: 0.6000, top5_acc: 1.0000, loss_cls: 0.8916, loss: 0.8916\n"
     ]
    },
    {
     "name": "stdout",
     "output_type": "stream",
     "text": [
      "torch.Size([2, 3, 16, 224, 224])\n",
      "torch.Size([2, 3, 16, 224, 224])\n",
      "torch.Size([2, 3, 16, 224, 224])\n",
      "torch.Size([2, 3, 16, 224, 224])\n",
      "torch.Size([2, 3, 16, 224, 224])\n"
     ]
    },
    {
     "name": "stderr",
     "output_type": "stream",
     "text": [
      "2024-03-21 20:38:48,087 - mmaction - INFO - Epoch [15][40/43]\tlr: 6.396e-07, eta: 0:14:57, time: 0.474, data_time: 0.001, memory: 9832, top1_acc: 0.6000, top5_acc: 1.0000, loss_cls: 1.0318, loss: 1.0318\n"
     ]
    },
    {
     "name": "stdout",
     "output_type": "stream",
     "text": [
      "torch.Size([2, 3, 16, 224, 224])\n",
      "torch.Size([2, 3, 16, 224, 224])\n",
      "torch.Size([2, 3, 16, 224, 224])\n",
      "[>>>>>>>>>>>>>>>>>>>>>>>>>>>>>>>>>>>>>>>>>>>>>>>>>>] 23/23, 3.1 task/s, elapsed: 7s, ETA:     0s"
     ]
    },
    {
     "name": "stderr",
     "output_type": "stream",
     "text": [
      "2024-03-21 20:38:57,448 - mmaction - INFO - Evaluating top_k_accuracy ...\n",
      "2024-03-21 20:38:57,449 - mmaction - INFO - \n",
      "top1_acc\t0.6087\n",
      "top5_acc\t1.0000\n",
      "2024-03-21 20:38:57,449 - mmaction - INFO - Evaluating mean_class_accuracy ...\n",
      "2024-03-21 20:38:57,450 - mmaction - INFO - \n",
      "mean_acc\t0.4811\n",
      "2024-03-21 20:38:57,451 - mmaction - INFO - Epoch(val) [15][23]\ttop1_acc: 0.6087, top5_acc: 1.0000, mean_class_accuracy: 0.4811\n"
     ]
    },
    {
     "name": "stdout",
     "output_type": "stream",
     "text": [
      "mean_class_accuracy\n",
      "[1 1 0 0 0 1 0 1 1 0 0 0 1 1 0 0 1 0 0 0 0 1 0]\n",
      "[0, 1, 1, 0, 0, 2, 1, 1, 1, 0, 0, 0, 0, 1, 0, 0, 1, 0, 0, 2, 1, 2, 2]\n",
      "torch.Size([2, 3, 16, 224, 224])\n",
      "torch.Size([2, 3, 16, 224, 224])\n",
      "torch.Size([2, 3, 16, 224, 224])\n",
      "torch.Size([2, 3, 16, 224, 224])\n",
      "torch.Size([2, 3, 16, 224, 224])\n"
     ]
    },
    {
     "name": "stderr",
     "output_type": "stream",
     "text": [
      "2024-03-21 20:39:05,113 - mmaction - INFO - Epoch [16][5/43]\tlr: 6.202e-07, eta: 0:14:59, time: 1.531, data_time: 1.020, memory: 9832, top1_acc: 0.4000, top5_acc: 1.0000, loss_cls: 1.0727, loss: 1.0727\n"
     ]
    },
    {
     "name": "stdout",
     "output_type": "stream",
     "text": [
      "torch.Size([2, 3, 16, 224, 224])\n",
      "torch.Size([2, 3, 16, 224, 224])\n",
      "torch.Size([2, 3, 16, 224, 224])\n",
      "torch.Size([2, 3, 16, 224, 224])\n",
      "torch.Size([2, 3, 16, 224, 224])\n"
     ]
    },
    {
     "name": "stderr",
     "output_type": "stream",
     "text": [
      "2024-03-21 20:39:07,415 - mmaction - INFO - Epoch [16][10/43]\tlr: 6.202e-07, eta: 0:14:54, time: 0.460, data_time: 0.001, memory: 9832, top1_acc: 0.5000, top5_acc: 1.0000, loss_cls: 1.0581, loss: 1.0581\n"
     ]
    },
    {
     "name": "stdout",
     "output_type": "stream",
     "text": [
      "torch.Size([2, 3, 16, 224, 224])\n",
      "torch.Size([2, 3, 16, 224, 224])\n",
      "torch.Size([2, 3, 16, 224, 224])\n",
      "torch.Size([2, 3, 16, 224, 224])\n",
      "torch.Size([2, 3, 16, 224, 224])\n"
     ]
    },
    {
     "name": "stderr",
     "output_type": "stream",
     "text": [
      "2024-03-21 20:39:09,788 - mmaction - INFO - Epoch [16][15/43]\tlr: 6.202e-07, eta: 0:14:50, time: 0.475, data_time: 0.001, memory: 9832, top1_acc: 0.4000, top5_acc: 1.0000, loss_cls: 1.0072, loss: 1.0072\n"
     ]
    },
    {
     "name": "stdout",
     "output_type": "stream",
     "text": [
      "torch.Size([2, 3, 16, 224, 224])\n",
      "torch.Size([2, 3, 16, 224, 224])\n",
      "torch.Size([2, 3, 16, 224, 224])\n",
      "torch.Size([2, 3, 16, 224, 224])\n",
      "torch.Size([2, 3, 16, 224, 224])\n"
     ]
    },
    {
     "name": "stderr",
     "output_type": "stream",
     "text": [
      "2024-03-21 20:39:12,172 - mmaction - INFO - Epoch [16][20/43]\tlr: 6.202e-07, eta: 0:14:46, time: 0.477, data_time: 0.001, memory: 9832, top1_acc: 0.4000, top5_acc: 1.0000, loss_cls: 1.1165, loss: 1.1165\n"
     ]
    },
    {
     "name": "stdout",
     "output_type": "stream",
     "text": [
      "torch.Size([2, 3, 16, 224, 224])\n",
      "torch.Size([2, 3, 16, 224, 224])\n",
      "torch.Size([2, 3, 16, 224, 224])\n",
      "torch.Size([2, 3, 16, 224, 224])\n",
      "torch.Size([2, 3, 16, 224, 224])\n"
     ]
    },
    {
     "name": "stderr",
     "output_type": "stream",
     "text": [
      "2024-03-21 20:39:14,505 - mmaction - INFO - Epoch [16][25/43]\tlr: 6.202e-07, eta: 0:14:41, time: 0.467, data_time: 0.001, memory: 9832, top1_acc: 0.6000, top5_acc: 1.0000, loss_cls: 1.0258, loss: 1.0258\n"
     ]
    },
    {
     "name": "stdout",
     "output_type": "stream",
     "text": [
      "torch.Size([2, 3, 16, 224, 224])\n",
      "torch.Size([2, 3, 16, 224, 224])\n",
      "torch.Size([2, 3, 16, 224, 224])\n",
      "torch.Size([2, 3, 16, 224, 224])\n",
      "torch.Size([2, 3, 16, 224, 224])\n"
     ]
    },
    {
     "name": "stderr",
     "output_type": "stream",
     "text": [
      "2024-03-21 20:39:16,885 - mmaction - INFO - Epoch [16][30/43]\tlr: 6.202e-07, eta: 0:14:37, time: 0.476, data_time: 0.001, memory: 9832, top1_acc: 0.8000, top5_acc: 1.0000, loss_cls: 0.9732, loss: 0.9732\n"
     ]
    },
    {
     "name": "stdout",
     "output_type": "stream",
     "text": [
      "torch.Size([2, 3, 16, 224, 224])\n",
      "torch.Size([2, 3, 16, 224, 224])\n",
      "torch.Size([2, 3, 16, 224, 224])\n",
      "torch.Size([2, 3, 16, 224, 224])\n",
      "torch.Size([2, 3, 16, 224, 224])\n"
     ]
    },
    {
     "name": "stderr",
     "output_type": "stream",
     "text": [
      "2024-03-21 20:39:19,260 - mmaction - INFO - Epoch [16][35/43]\tlr: 6.202e-07, eta: 0:14:33, time: 0.474, data_time: 0.001, memory: 9832, top1_acc: 0.7000, top5_acc: 1.0000, loss_cls: 0.9908, loss: 0.9908\n"
     ]
    },
    {
     "name": "stdout",
     "output_type": "stream",
     "text": [
      "torch.Size([2, 3, 16, 224, 224])\n",
      "torch.Size([2, 3, 16, 224, 224])\n",
      "torch.Size([2, 3, 16, 224, 224])\n",
      "torch.Size([2, 3, 16, 224, 224])\n",
      "torch.Size([2, 3, 16, 224, 224])\n"
     ]
    },
    {
     "name": "stderr",
     "output_type": "stream",
     "text": [
      "2024-03-21 20:39:21,687 - mmaction - INFO - Epoch [16][40/43]\tlr: 6.202e-07, eta: 0:14:29, time: 0.486, data_time: 0.002, memory: 9832, top1_acc: 0.5000, top5_acc: 1.0000, loss_cls: 1.0376, loss: 1.0376\n"
     ]
    },
    {
     "name": "stdout",
     "output_type": "stream",
     "text": [
      "torch.Size([2, 3, 16, 224, 224])\n",
      "torch.Size([2, 3, 16, 224, 224])\n",
      "torch.Size([2, 3, 16, 224, 224])\n",
      "torch.Size([2, 3, 16, 224, 224])\n",
      "torch.Size([2, 3, 16, 224, 224])\n",
      "torch.Size([2, 3, 16, 224, 224])\n",
      "torch.Size([2, 3, 16, 224, 224])\n",
      "torch.Size([2, 3, 16, 224, 224])\n"
     ]
    },
    {
     "name": "stderr",
     "output_type": "stream",
     "text": [
      "2024-03-21 20:39:31,481 - mmaction - INFO - Epoch [17][5/43]\tlr: 5.999e-07, eta: 0:14:31, time: 1.600, data_time: 1.069, memory: 9832, top1_acc: 0.3000, top5_acc: 1.0000, loss_cls: 1.1426, loss: 1.1426\n"
     ]
    },
    {
     "name": "stdout",
     "output_type": "stream",
     "text": [
      "torch.Size([2, 3, 16, 224, 224])\n",
      "torch.Size([2, 3, 16, 224, 224])\n",
      "torch.Size([2, 3, 16, 224, 224])\n",
      "torch.Size([2, 3, 16, 224, 224])\n",
      "torch.Size([2, 3, 16, 224, 224])\n"
     ]
    },
    {
     "name": "stderr",
     "output_type": "stream",
     "text": [
      "2024-03-21 20:39:33,827 - mmaction - INFO - Epoch [17][10/43]\tlr: 5.999e-07, eta: 0:14:26, time: 0.469, data_time: 0.001, memory: 9832, top1_acc: 0.7000, top5_acc: 1.0000, loss_cls: 0.9542, loss: 0.9542\n"
     ]
    },
    {
     "name": "stdout",
     "output_type": "stream",
     "text": [
      "torch.Size([2, 3, 16, 224, 224])\n",
      "torch.Size([2, 3, 16, 224, 224])\n",
      "torch.Size([2, 3, 16, 224, 224])\n",
      "torch.Size([2, 3, 16, 224, 224])\n",
      "torch.Size([2, 3, 16, 224, 224])\n"
     ]
    },
    {
     "name": "stderr",
     "output_type": "stream",
     "text": [
      "2024-03-21 20:39:36,152 - mmaction - INFO - Epoch [17][15/43]\tlr: 5.999e-07, eta: 0:14:22, time: 0.465, data_time: 0.001, memory: 9832, top1_acc: 0.5000, top5_acc: 1.0000, loss_cls: 1.0625, loss: 1.0625\n"
     ]
    },
    {
     "name": "stdout",
     "output_type": "stream",
     "text": [
      "torch.Size([2, 3, 16, 224, 224])\n",
      "torch.Size([2, 3, 16, 224, 224])\n",
      "torch.Size([2, 3, 16, 224, 224])\n",
      "torch.Size([2, 3, 16, 224, 224])\n",
      "torch.Size([2, 3, 16, 224, 224])\n"
     ]
    },
    {
     "name": "stderr",
     "output_type": "stream",
     "text": [
      "2024-03-21 20:39:38,541 - mmaction - INFO - Epoch [17][20/43]\tlr: 5.999e-07, eta: 0:14:18, time: 0.478, data_time: 0.001, memory: 9832, top1_acc: 0.6000, top5_acc: 1.0000, loss_cls: 0.9944, loss: 0.9944\n"
     ]
    },
    {
     "name": "stdout",
     "output_type": "stream",
     "text": [
      "torch.Size([2, 3, 16, 224, 224])\n",
      "torch.Size([2, 3, 16, 224, 224])\n",
      "torch.Size([2, 3, 16, 224, 224])\n",
      "torch.Size([2, 3, 16, 224, 224])\n",
      "torch.Size([2, 3, 16, 224, 224])\n"
     ]
    },
    {
     "name": "stderr",
     "output_type": "stream",
     "text": [
      "2024-03-21 20:39:40,923 - mmaction - INFO - Epoch [17][25/43]\tlr: 5.999e-07, eta: 0:14:14, time: 0.476, data_time: 0.001, memory: 9832, top1_acc: 0.2000, top5_acc: 1.0000, loss_cls: 1.1122, loss: 1.1122\n"
     ]
    },
    {
     "name": "stdout",
     "output_type": "stream",
     "text": [
      "torch.Size([2, 3, 16, 224, 224])\n",
      "torch.Size([2, 3, 16, 224, 224])\n",
      "torch.Size([2, 3, 16, 224, 224])\n",
      "torch.Size([2, 3, 16, 224, 224])\n",
      "torch.Size([2, 3, 16, 224, 224])\n"
     ]
    },
    {
     "name": "stderr",
     "output_type": "stream",
     "text": [
      "2024-03-21 20:39:43,228 - mmaction - INFO - Epoch [17][30/43]\tlr: 5.999e-07, eta: 0:14:09, time: 0.461, data_time: 0.001, memory: 9832, top1_acc: 0.5000, top5_acc: 1.0000, loss_cls: 1.0676, loss: 1.0676\n"
     ]
    },
    {
     "name": "stdout",
     "output_type": "stream",
     "text": [
      "torch.Size([2, 3, 16, 224, 224])\n",
      "torch.Size([2, 3, 16, 224, 224])\n",
      "torch.Size([2, 3, 16, 224, 224])\n",
      "torch.Size([2, 3, 16, 224, 224])\n",
      "torch.Size([2, 3, 16, 224, 224])\n"
     ]
    },
    {
     "name": "stderr",
     "output_type": "stream",
     "text": [
      "2024-03-21 20:39:45,615 - mmaction - INFO - Epoch [17][35/43]\tlr: 5.999e-07, eta: 0:14:05, time: 0.477, data_time: 0.001, memory: 9832, top1_acc: 0.5000, top5_acc: 1.0000, loss_cls: 1.0533, loss: 1.0533\n"
     ]
    },
    {
     "name": "stdout",
     "output_type": "stream",
     "text": [
      "torch.Size([2, 3, 16, 224, 224])\n",
      "torch.Size([2, 3, 16, 224, 224])\n",
      "torch.Size([2, 3, 16, 224, 224])\n",
      "torch.Size([2, 3, 16, 224, 224])\n",
      "torch.Size([2, 3, 16, 224, 224])\n"
     ]
    },
    {
     "name": "stderr",
     "output_type": "stream",
     "text": [
      "2024-03-21 20:39:47,985 - mmaction - INFO - Epoch [17][40/43]\tlr: 5.999e-07, eta: 0:14:01, time: 0.473, data_time: 0.001, memory: 9832, top1_acc: 0.3000, top5_acc: 1.0000, loss_cls: 1.0634, loss: 1.0634\n"
     ]
    },
    {
     "name": "stdout",
     "output_type": "stream",
     "text": [
      "torch.Size([2, 3, 16, 224, 224])\n",
      "torch.Size([2, 3, 16, 224, 224])\n",
      "torch.Size([2, 3, 16, 224, 224])\n",
      "torch.Size([2, 3, 16, 224, 224])\n",
      "torch.Size([2, 3, 16, 224, 224])\n",
      "torch.Size([2, 3, 16, 224, 224])\n",
      "torch.Size([2, 3, 16, 224, 224])\n",
      "torch.Size([2, 3, 16, 224, 224])\n"
     ]
    },
    {
     "name": "stderr",
     "output_type": "stream",
     "text": [
      "2024-03-21 20:39:57,763 - mmaction - INFO - Epoch [18][5/43]\tlr: 5.788e-07, eta: 0:14:03, time: 1.601, data_time: 1.065, memory: 9832, top1_acc: 0.4000, top5_acc: 1.0000, loss_cls: 1.0814, loss: 1.0814\n"
     ]
    },
    {
     "name": "stdout",
     "output_type": "stream",
     "text": [
      "torch.Size([2, 3, 16, 224, 224])\n",
      "torch.Size([2, 3, 16, 224, 224])\n",
      "torch.Size([2, 3, 16, 224, 224])\n",
      "torch.Size([2, 3, 16, 224, 224])\n",
      "torch.Size([2, 3, 16, 224, 224])\n"
     ]
    },
    {
     "name": "stderr",
     "output_type": "stream",
     "text": [
      "2024-03-21 20:40:00,079 - mmaction - INFO - Epoch [18][10/43]\tlr: 5.788e-07, eta: 0:13:58, time: 0.464, data_time: 0.002, memory: 9832, top1_acc: 0.7000, top5_acc: 1.0000, loss_cls: 1.0001, loss: 1.0001\n"
     ]
    },
    {
     "name": "stdout",
     "output_type": "stream",
     "text": [
      "torch.Size([2, 3, 16, 224, 224])\n",
      "torch.Size([2, 3, 16, 224, 224])\n",
      "torch.Size([2, 3, 16, 224, 224])\n",
      "torch.Size([2, 3, 16, 224, 224])\n",
      "torch.Size([2, 3, 16, 224, 224])\n"
     ]
    },
    {
     "name": "stderr",
     "output_type": "stream",
     "text": [
      "2024-03-21 20:40:02,443 - mmaction - INFO - Epoch [18][15/43]\tlr: 5.788e-07, eta: 0:13:54, time: 0.473, data_time: 0.001, memory: 9832, top1_acc: 0.3000, top5_acc: 1.0000, loss_cls: 1.1415, loss: 1.1415\n"
     ]
    },
    {
     "name": "stdout",
     "output_type": "stream",
     "text": [
      "torch.Size([2, 3, 16, 224, 224])\n",
      "torch.Size([2, 3, 16, 224, 224])\n",
      "torch.Size([2, 3, 16, 224, 224])\n",
      "torch.Size([2, 3, 16, 224, 224])\n",
      "torch.Size([2, 3, 16, 224, 224])\n"
     ]
    },
    {
     "name": "stderr",
     "output_type": "stream",
     "text": [
      "2024-03-21 20:40:04,799 - mmaction - INFO - Epoch [18][20/43]\tlr: 5.788e-07, eta: 0:13:50, time: 0.471, data_time: 0.001, memory: 9832, top1_acc: 0.4000, top5_acc: 1.0000, loss_cls: 1.0663, loss: 1.0663\n"
     ]
    },
    {
     "name": "stdout",
     "output_type": "stream",
     "text": [
      "torch.Size([2, 3, 16, 224, 224])\n",
      "torch.Size([2, 3, 16, 224, 224])\n",
      "torch.Size([2, 3, 16, 224, 224])\n",
      "torch.Size([2, 3, 16, 224, 224])\n",
      "torch.Size([2, 3, 16, 224, 224])\n"
     ]
    },
    {
     "name": "stderr",
     "output_type": "stream",
     "text": [
      "2024-03-21 20:40:07,170 - mmaction - INFO - Epoch [18][25/43]\tlr: 5.788e-07, eta: 0:13:46, time: 0.474, data_time: 0.001, memory: 9832, top1_acc: 0.4000, top5_acc: 1.0000, loss_cls: 1.0694, loss: 1.0694\n"
     ]
    },
    {
     "name": "stdout",
     "output_type": "stream",
     "text": [
      "torch.Size([2, 3, 16, 224, 224])\n",
      "torch.Size([2, 3, 16, 224, 224])\n",
      "torch.Size([2, 3, 16, 224, 224])\n",
      "torch.Size([2, 3, 16, 224, 224])\n",
      "torch.Size([2, 3, 16, 224, 224])\n"
     ]
    },
    {
     "name": "stderr",
     "output_type": "stream",
     "text": [
      "2024-03-21 20:40:09,551 - mmaction - INFO - Epoch [18][30/43]\tlr: 5.788e-07, eta: 0:13:42, time: 0.476, data_time: 0.001, memory: 9832, top1_acc: 0.6000, top5_acc: 1.0000, loss_cls: 0.9656, loss: 0.9656\n"
     ]
    },
    {
     "name": "stdout",
     "output_type": "stream",
     "text": [
      "torch.Size([2, 3, 16, 224, 224])\n",
      "torch.Size([2, 3, 16, 224, 224])\n",
      "torch.Size([2, 3, 16, 224, 224])\n",
      "torch.Size([2, 3, 16, 224, 224])\n",
      "torch.Size([2, 3, 16, 224, 224])\n"
     ]
    },
    {
     "name": "stderr",
     "output_type": "stream",
     "text": [
      "2024-03-21 20:40:11,907 - mmaction - INFO - Epoch [18][35/43]\tlr: 5.788e-07, eta: 0:13:38, time: 0.471, data_time: 0.001, memory: 9832, top1_acc: 0.2000, top5_acc: 1.0000, loss_cls: 1.1444, loss: 1.1444\n"
     ]
    },
    {
     "name": "stdout",
     "output_type": "stream",
     "text": [
      "torch.Size([2, 3, 16, 224, 224])\n",
      "torch.Size([2, 3, 16, 224, 224])\n",
      "torch.Size([2, 3, 16, 224, 224])\n",
      "torch.Size([2, 3, 16, 224, 224])\n",
      "torch.Size([2, 3, 16, 224, 224])\n"
     ]
    },
    {
     "name": "stderr",
     "output_type": "stream",
     "text": [
      "2024-03-21 20:40:14,302 - mmaction - INFO - Epoch [18][40/43]\tlr: 5.788e-07, eta: 0:13:34, time: 0.479, data_time: 0.001, memory: 9832, top1_acc: 0.7000, top5_acc: 1.0000, loss_cls: 0.9887, loss: 0.9887\n"
     ]
    },
    {
     "name": "stdout",
     "output_type": "stream",
     "text": [
      "torch.Size([2, 3, 16, 224, 224])\n",
      "torch.Size([2, 3, 16, 224, 224])\n",
      "torch.Size([2, 3, 16, 224, 224])\n",
      "torch.Size([2, 3, 16, 224, 224])\n",
      "torch.Size([2, 3, 16, 224, 224])\n",
      "torch.Size([2, 3, 16, 224, 224])\n",
      "torch.Size([2, 3, 16, 224, 224])\n",
      "torch.Size([2, 3, 16, 224, 224])\n"
     ]
    },
    {
     "name": "stderr",
     "output_type": "stream",
     "text": [
      "2024-03-21 20:40:23,876 - mmaction - INFO - Epoch [19][5/43]\tlr: 5.569e-07, eta: 0:13:35, time: 1.547, data_time: 1.036, memory: 9832, top1_acc: 0.4000, top5_acc: 1.0000, loss_cls: 1.0794, loss: 1.0794\n"
     ]
    },
    {
     "name": "stdout",
     "output_type": "stream",
     "text": [
      "torch.Size([2, 3, 16, 224, 224])\n",
      "torch.Size([2, 3, 16, 224, 224])\n",
      "torch.Size([2, 3, 16, 224, 224])\n",
      "torch.Size([2, 3, 16, 224, 224])\n",
      "torch.Size([2, 3, 16, 224, 224])\n"
     ]
    },
    {
     "name": "stderr",
     "output_type": "stream",
     "text": [
      "2024-03-21 20:40:26,225 - mmaction - INFO - Epoch [19][10/43]\tlr: 5.569e-07, eta: 0:13:31, time: 0.469, data_time: 0.001, memory: 9832, top1_acc: 0.6000, top5_acc: 1.0000, loss_cls: 1.0620, loss: 1.0620\n"
     ]
    },
    {
     "name": "stdout",
     "output_type": "stream",
     "text": [
      "torch.Size([2, 3, 16, 224, 224])\n",
      "torch.Size([2, 3, 16, 224, 224])\n",
      "torch.Size([2, 3, 16, 224, 224])\n",
      "torch.Size([2, 3, 16, 224, 224])\n",
      "torch.Size([2, 3, 16, 224, 224])\n"
     ]
    },
    {
     "name": "stderr",
     "output_type": "stream",
     "text": [
      "2024-03-21 20:40:28,557 - mmaction - INFO - Epoch [19][15/43]\tlr: 5.569e-07, eta: 0:13:27, time: 0.467, data_time: 0.002, memory: 9832, top1_acc: 0.4000, top5_acc: 1.0000, loss_cls: 1.0719, loss: 1.0719\n"
     ]
    },
    {
     "name": "stdout",
     "output_type": "stream",
     "text": [
      "torch.Size([2, 3, 16, 224, 224])\n",
      "torch.Size([2, 3, 16, 224, 224])\n",
      "torch.Size([2, 3, 16, 224, 224])\n",
      "torch.Size([2, 3, 16, 224, 224])\n",
      "torch.Size([2, 3, 16, 224, 224])\n"
     ]
    },
    {
     "name": "stderr",
     "output_type": "stream",
     "text": [
      "2024-03-21 20:40:30,945 - mmaction - INFO - Epoch [19][20/43]\tlr: 5.569e-07, eta: 0:13:23, time: 0.477, data_time: 0.001, memory: 9832, top1_acc: 0.3000, top5_acc: 1.0000, loss_cls: 1.0492, loss: 1.0492\n"
     ]
    },
    {
     "name": "stdout",
     "output_type": "stream",
     "text": [
      "torch.Size([2, 3, 16, 224, 224])\n",
      "torch.Size([2, 3, 16, 224, 224])\n",
      "torch.Size([2, 3, 16, 224, 224])\n",
      "torch.Size([2, 3, 16, 224, 224])\n",
      "torch.Size([2, 3, 16, 224, 224])\n"
     ]
    },
    {
     "name": "stderr",
     "output_type": "stream",
     "text": [
      "2024-03-21 20:40:33,264 - mmaction - INFO - Epoch [19][25/43]\tlr: 5.569e-07, eta: 0:13:19, time: 0.464, data_time: 0.001, memory: 9832, top1_acc: 0.3000, top5_acc: 1.0000, loss_cls: 1.0867, loss: 1.0867\n"
     ]
    },
    {
     "name": "stdout",
     "output_type": "stream",
     "text": [
      "torch.Size([2, 3, 16, 224, 224])\n",
      "torch.Size([2, 3, 16, 224, 224])\n",
      "torch.Size([2, 3, 16, 224, 224])\n",
      "torch.Size([2, 3, 16, 224, 224])\n",
      "torch.Size([2, 3, 16, 224, 224])\n"
     ]
    },
    {
     "name": "stderr",
     "output_type": "stream",
     "text": [
      "2024-03-21 20:40:35,658 - mmaction - INFO - Epoch [19][30/43]\tlr: 5.569e-07, eta: 0:13:15, time: 0.479, data_time: 0.001, memory: 9832, top1_acc: 0.7000, top5_acc: 1.0000, loss_cls: 1.0417, loss: 1.0417\n"
     ]
    },
    {
     "name": "stdout",
     "output_type": "stream",
     "text": [
      "torch.Size([2, 3, 16, 224, 224])\n",
      "torch.Size([2, 3, 16, 224, 224])\n",
      "torch.Size([2, 3, 16, 224, 224])\n",
      "torch.Size([2, 3, 16, 224, 224])\n",
      "torch.Size([2, 3, 16, 224, 224])\n"
     ]
    },
    {
     "name": "stderr",
     "output_type": "stream",
     "text": [
      "2024-03-21 20:40:38,033 - mmaction - INFO - Epoch [19][35/43]\tlr: 5.569e-07, eta: 0:13:11, time: 0.475, data_time: 0.001, memory: 9832, top1_acc: 0.4000, top5_acc: 1.0000, loss_cls: 1.0818, loss: 1.0818\n"
     ]
    },
    {
     "name": "stdout",
     "output_type": "stream",
     "text": [
      "torch.Size([2, 3, 16, 224, 224])\n",
      "torch.Size([2, 3, 16, 224, 224])\n",
      "torch.Size([2, 3, 16, 224, 224])\n",
      "torch.Size([2, 3, 16, 224, 224])\n",
      "torch.Size([2, 3, 16, 224, 224])\n"
     ]
    },
    {
     "name": "stderr",
     "output_type": "stream",
     "text": [
      "2024-03-21 20:40:40,367 - mmaction - INFO - Epoch [19][40/43]\tlr: 5.569e-07, eta: 0:13:07, time: 0.467, data_time: 0.001, memory: 9832, top1_acc: 0.5000, top5_acc: 1.0000, loss_cls: 1.0094, loss: 1.0094\n"
     ]
    },
    {
     "name": "stdout",
     "output_type": "stream",
     "text": [
      "torch.Size([2, 3, 16, 224, 224])\n",
      "torch.Size([2, 3, 16, 224, 224])\n",
      "torch.Size([2, 3, 16, 224, 224])\n",
      "torch.Size([2, 3, 16, 224, 224])\n",
      "torch.Size([2, 3, 16, 224, 224])\n",
      "torch.Size([2, 3, 16, 224, 224])\n",
      "torch.Size([2, 3, 16, 224, 224])\n",
      "torch.Size([2, 3, 16, 224, 224])\n"
     ]
    },
    {
     "name": "stderr",
     "output_type": "stream",
     "text": [
      "2024-03-21 20:40:50,324 - mmaction - INFO - Epoch [20][5/43]\tlr: 5.344e-07, eta: 0:13:08, time: 1.624, data_time: 1.084, memory: 9832, top1_acc: 0.2000, top5_acc: 1.0000, loss_cls: 1.1302, loss: 1.1302\n"
     ]
    },
    {
     "name": "stdout",
     "output_type": "stream",
     "text": [
      "torch.Size([2, 3, 16, 224, 224])\n",
      "torch.Size([2, 3, 16, 224, 224])\n",
      "torch.Size([2, 3, 16, 224, 224])\n",
      "torch.Size([2, 3, 16, 224, 224])\n",
      "torch.Size([2, 3, 16, 224, 224])\n"
     ]
    },
    {
     "name": "stderr",
     "output_type": "stream",
     "text": [
      "2024-03-21 20:40:52,742 - mmaction - INFO - Epoch [20][10/43]\tlr: 5.344e-07, eta: 0:13:04, time: 0.484, data_time: 0.002, memory: 9832, top1_acc: 0.4000, top5_acc: 1.0000, loss_cls: 1.0360, loss: 1.0360\n"
     ]
    },
    {
     "name": "stdout",
     "output_type": "stream",
     "text": [
      "torch.Size([2, 3, 16, 224, 224])\n",
      "torch.Size([2, 3, 16, 224, 224])\n",
      "torch.Size([2, 3, 16, 224, 224])\n",
      "torch.Size([2, 3, 16, 224, 224])\n",
      "torch.Size([2, 3, 16, 224, 224])\n"
     ]
    },
    {
     "name": "stderr",
     "output_type": "stream",
     "text": [
      "2024-03-21 20:40:55,148 - mmaction - INFO - Epoch [20][15/43]\tlr: 5.344e-07, eta: 0:13:00, time: 0.480, data_time: 0.001, memory: 9832, top1_acc: 0.5000, top5_acc: 1.0000, loss_cls: 0.9983, loss: 0.9983\n"
     ]
    },
    {
     "name": "stdout",
     "output_type": "stream",
     "text": [
      "torch.Size([2, 3, 16, 224, 224])\n",
      "torch.Size([2, 3, 16, 224, 224])\n",
      "torch.Size([2, 3, 16, 224, 224])\n",
      "torch.Size([2, 3, 16, 224, 224])\n",
      "torch.Size([2, 3, 16, 224, 224])\n"
     ]
    },
    {
     "name": "stderr",
     "output_type": "stream",
     "text": [
      "2024-03-21 20:40:57,526 - mmaction - INFO - Epoch [20][20/43]\tlr: 5.344e-07, eta: 0:12:56, time: 0.476, data_time: 0.002, memory: 9832, top1_acc: 0.1000, top5_acc: 1.0000, loss_cls: 1.2340, loss: 1.2340\n"
     ]
    },
    {
     "name": "stdout",
     "output_type": "stream",
     "text": [
      "torch.Size([2, 3, 16, 224, 224])\n",
      "torch.Size([2, 3, 16, 224, 224])\n",
      "torch.Size([2, 3, 16, 224, 224])\n",
      "torch.Size([2, 3, 16, 224, 224])\n",
      "torch.Size([2, 3, 16, 224, 224])\n"
     ]
    },
    {
     "name": "stderr",
     "output_type": "stream",
     "text": [
      "2024-03-21 20:40:59,975 - mmaction - INFO - Epoch [20][25/43]\tlr: 5.344e-07, eta: 0:12:52, time: 0.490, data_time: 0.001, memory: 9832, top1_acc: 0.7000, top5_acc: 1.0000, loss_cls: 0.9788, loss: 0.9788\n"
     ]
    },
    {
     "name": "stdout",
     "output_type": "stream",
     "text": [
      "torch.Size([2, 3, 16, 224, 224])\n",
      "torch.Size([2, 3, 16, 224, 224])\n",
      "torch.Size([2, 3, 16, 224, 224])\n",
      "torch.Size([2, 3, 16, 224, 224])\n",
      "torch.Size([2, 3, 16, 224, 224])\n"
     ]
    },
    {
     "name": "stderr",
     "output_type": "stream",
     "text": [
      "2024-03-21 20:41:02,404 - mmaction - INFO - Epoch [20][30/43]\tlr: 5.344e-07, eta: 0:12:48, time: 0.486, data_time: 0.002, memory: 9832, top1_acc: 0.6000, top5_acc: 1.0000, loss_cls: 1.0275, loss: 1.0275\n"
     ]
    },
    {
     "name": "stdout",
     "output_type": "stream",
     "text": [
      "torch.Size([2, 3, 16, 224, 224])\n",
      "torch.Size([2, 3, 16, 224, 224])\n",
      "torch.Size([2, 3, 16, 224, 224])\n",
      "torch.Size([2, 3, 16, 224, 224])\n",
      "torch.Size([2, 3, 16, 224, 224])\n"
     ]
    },
    {
     "name": "stderr",
     "output_type": "stream",
     "text": [
      "2024-03-21 20:41:04,848 - mmaction - INFO - Epoch [20][35/43]\tlr: 5.344e-07, eta: 0:12:45, time: 0.489, data_time: 0.001, memory: 9832, top1_acc: 0.5000, top5_acc: 1.0000, loss_cls: 1.0532, loss: 1.0532\n"
     ]
    },
    {
     "name": "stdout",
     "output_type": "stream",
     "text": [
      "torch.Size([2, 3, 16, 224, 224])\n",
      "torch.Size([2, 3, 16, 224, 224])\n",
      "torch.Size([2, 3, 16, 224, 224])\n",
      "torch.Size([2, 3, 16, 224, 224])\n",
      "torch.Size([2, 3, 16, 224, 224])\n"
     ]
    },
    {
     "name": "stderr",
     "output_type": "stream",
     "text": [
      "2024-03-21 20:41:07,236 - mmaction - INFO - Epoch [20][40/43]\tlr: 5.344e-07, eta: 0:12:41, time: 0.478, data_time: 0.001, memory: 9832, top1_acc: 0.5000, top5_acc: 1.0000, loss_cls: 1.0867, loss: 1.0867\n"
     ]
    },
    {
     "name": "stdout",
     "output_type": "stream",
     "text": [
      "torch.Size([2, 3, 16, 224, 224])\n",
      "torch.Size([2, 3, 16, 224, 224])\n",
      "torch.Size([2, 3, 16, 224, 224])\n"
     ]
    },
    {
     "name": "stderr",
     "output_type": "stream",
     "text": [
      "2024-03-21 20:41:09,012 - mmaction - INFO - Saving checkpoint at 20 epochs\n"
     ]
    },
    {
     "name": "stdout",
     "output_type": "stream",
     "text": [
      "[>>>>>>>>>>>>>>>>>>>>>>>>>>>>>>>>>>>>>>>>>>>>>>>>>>] 23/23, 2.9 task/s, elapsed: 8s, ETA:     0s"
     ]
    },
    {
     "name": "stderr",
     "output_type": "stream",
     "text": [
      "2024-03-21 20:41:18,799 - mmaction - INFO - Evaluating top_k_accuracy ...\n",
      "2024-03-21 20:41:18,801 - mmaction - INFO - \n",
      "top1_acc\t0.5652\n",
      "top5_acc\t1.0000\n",
      "2024-03-21 20:41:18,801 - mmaction - INFO - Evaluating mean_class_accuracy ...\n",
      "2024-03-21 20:41:18,802 - mmaction - INFO - \n",
      "mean_acc\t0.4508\n",
      "2024-03-21 20:41:18,802 - mmaction - INFO - Epoch(val) [20][23]\ttop1_acc: 0.5652, top5_acc: 1.0000, mean_class_accuracy: 0.4508\n"
     ]
    },
    {
     "name": "stdout",
     "output_type": "stream",
     "text": [
      "mean_class_accuracy\n",
      "[1 1 0 1 0 1 0 1 1 0 0 0 1 1 0 0 1 0 0 0 0 1 0]\n",
      "[0, 1, 1, 0, 0, 2, 1, 1, 1, 0, 0, 0, 0, 1, 0, 0, 1, 0, 0, 2, 1, 2, 2]\n",
      "torch.Size([2, 3, 16, 224, 224])\n",
      "torch.Size([2, 3, 16, 224, 224])\n",
      "torch.Size([2, 3, 16, 224, 224])\n",
      "torch.Size([2, 3, 16, 224, 224])\n",
      "torch.Size([2, 3, 16, 224, 224])\n"
     ]
    },
    {
     "name": "stderr",
     "output_type": "stream",
     "text": [
      "2024-03-21 20:41:26,859 - mmaction - INFO - Epoch [21][5/43]\tlr: 5.113e-07, eta: 0:12:41, time: 1.610, data_time: 1.101, memory: 9832, top1_acc: 0.3000, top5_acc: 1.0000, loss_cls: 1.1049, loss: 1.1049\n"
     ]
    },
    {
     "name": "stdout",
     "output_type": "stream",
     "text": [
      "torch.Size([2, 3, 16, 224, 224])\n",
      "torch.Size([2, 3, 16, 224, 224])\n",
      "torch.Size([2, 3, 16, 224, 224])\n",
      "torch.Size([2, 3, 16, 224, 224])\n",
      "torch.Size([2, 3, 16, 224, 224])\n"
     ]
    },
    {
     "name": "stderr",
     "output_type": "stream",
     "text": [
      "2024-03-21 20:41:29,175 - mmaction - INFO - Epoch [21][10/43]\tlr: 5.113e-07, eta: 0:12:37, time: 0.463, data_time: 0.001, memory: 9832, top1_acc: 0.3000, top5_acc: 1.0000, loss_cls: 1.1017, loss: 1.1017\n"
     ]
    },
    {
     "name": "stdout",
     "output_type": "stream",
     "text": [
      "torch.Size([2, 3, 16, 224, 224])\n",
      "torch.Size([2, 3, 16, 224, 224])\n",
      "torch.Size([2, 3, 16, 224, 224])\n",
      "torch.Size([2, 3, 16, 224, 224])\n",
      "torch.Size([2, 3, 16, 224, 224])\n"
     ]
    },
    {
     "name": "stderr",
     "output_type": "stream",
     "text": [
      "2024-03-21 20:41:31,517 - mmaction - INFO - Epoch [21][15/43]\tlr: 5.113e-07, eta: 0:12:33, time: 0.468, data_time: 0.001, memory: 9832, top1_acc: 0.1000, top5_acc: 1.0000, loss_cls: 1.1076, loss: 1.1076\n"
     ]
    },
    {
     "name": "stdout",
     "output_type": "stream",
     "text": [
      "torch.Size([2, 3, 16, 224, 224])\n",
      "torch.Size([2, 3, 16, 224, 224])\n",
      "torch.Size([2, 3, 16, 224, 224])\n",
      "torch.Size([2, 3, 16, 224, 224])\n",
      "torch.Size([2, 3, 16, 224, 224])\n"
     ]
    },
    {
     "name": "stderr",
     "output_type": "stream",
     "text": [
      "2024-03-21 20:41:33,893 - mmaction - INFO - Epoch [21][20/43]\tlr: 5.113e-07, eta: 0:12:30, time: 0.474, data_time: 0.001, memory: 9832, top1_acc: 0.5000, top5_acc: 1.0000, loss_cls: 0.9954, loss: 0.9954\n"
     ]
    },
    {
     "name": "stdout",
     "output_type": "stream",
     "text": [
      "torch.Size([2, 3, 16, 224, 224])\n",
      "torch.Size([2, 3, 16, 224, 224])\n",
      "torch.Size([2, 3, 16, 224, 224])\n",
      "torch.Size([2, 3, 16, 224, 224])\n",
      "torch.Size([2, 3, 16, 224, 224])\n"
     ]
    },
    {
     "name": "stderr",
     "output_type": "stream",
     "text": [
      "2024-03-21 20:41:36,238 - mmaction - INFO - Epoch [21][25/43]\tlr: 5.113e-07, eta: 0:12:26, time: 0.470, data_time: 0.002, memory: 9832, top1_acc: 0.5000, top5_acc: 1.0000, loss_cls: 1.0262, loss: 1.0262\n"
     ]
    },
    {
     "name": "stdout",
     "output_type": "stream",
     "text": [
      "torch.Size([2, 3, 16, 224, 224])\n",
      "torch.Size([2, 3, 16, 224, 224])\n",
      "torch.Size([2, 3, 16, 224, 224])\n",
      "torch.Size([2, 3, 16, 224, 224])\n",
      "torch.Size([2, 3, 16, 224, 224])\n"
     ]
    },
    {
     "name": "stderr",
     "output_type": "stream",
     "text": [
      "2024-03-21 20:41:38,611 - mmaction - INFO - Epoch [21][30/43]\tlr: 5.113e-07, eta: 0:12:22, time: 0.475, data_time: 0.001, memory: 9832, top1_acc: 0.7000, top5_acc: 1.0000, loss_cls: 0.9044, loss: 0.9044\n"
     ]
    },
    {
     "name": "stdout",
     "output_type": "stream",
     "text": [
      "torch.Size([2, 3, 16, 224, 224])\n",
      "torch.Size([2, 3, 16, 224, 224])\n",
      "torch.Size([2, 3, 16, 224, 224])\n",
      "torch.Size([2, 3, 16, 224, 224])\n",
      "torch.Size([2, 3, 16, 224, 224])\n"
     ]
    },
    {
     "name": "stderr",
     "output_type": "stream",
     "text": [
      "2024-03-21 20:41:40,933 - mmaction - INFO - Epoch [21][35/43]\tlr: 5.113e-07, eta: 0:12:18, time: 0.464, data_time: 0.001, memory: 9832, top1_acc: 0.4000, top5_acc: 1.0000, loss_cls: 1.0257, loss: 1.0257\n"
     ]
    },
    {
     "name": "stdout",
     "output_type": "stream",
     "text": [
      "torch.Size([2, 3, 16, 224, 224])\n",
      "torch.Size([2, 3, 16, 224, 224])\n",
      "torch.Size([2, 3, 16, 224, 224])\n",
      "torch.Size([2, 3, 16, 224, 224])\n",
      "torch.Size([2, 3, 16, 224, 224])\n"
     ]
    },
    {
     "name": "stderr",
     "output_type": "stream",
     "text": [
      "2024-03-21 20:41:43,252 - mmaction - INFO - Epoch [21][40/43]\tlr: 5.113e-07, eta: 0:12:14, time: 0.464, data_time: 0.001, memory: 9832, top1_acc: 0.5000, top5_acc: 1.0000, loss_cls: 1.0689, loss: 1.0689\n"
     ]
    },
    {
     "name": "stdout",
     "output_type": "stream",
     "text": [
      "torch.Size([2, 3, 16, 224, 224])\n",
      "torch.Size([2, 3, 16, 224, 224])\n",
      "torch.Size([2, 3, 16, 224, 224])\n",
      "torch.Size([2, 3, 16, 224, 224])\n",
      "torch.Size([2, 3, 16, 224, 224])\n",
      "torch.Size([2, 3, 16, 224, 224])\n",
      "torch.Size([2, 3, 16, 224, 224])\n",
      "torch.Size([2, 3, 16, 224, 224])\n"
     ]
    },
    {
     "name": "stderr",
     "output_type": "stream",
     "text": [
      "2024-03-21 20:41:52,933 - mmaction - INFO - Epoch [22][5/43]\tlr: 4.878e-07, eta: 0:12:14, time: 1.578, data_time: 1.054, memory: 9832, top1_acc: 0.5000, top5_acc: 1.0000, loss_cls: 1.0848, loss: 1.0848\n"
     ]
    },
    {
     "name": "stdout",
     "output_type": "stream",
     "text": [
      "torch.Size([2, 3, 16, 224, 224])\n",
      "torch.Size([2, 3, 16, 224, 224])\n",
      "torch.Size([2, 3, 16, 224, 224])\n",
      "torch.Size([2, 3, 16, 224, 224])\n",
      "torch.Size([2, 3, 16, 224, 224])\n"
     ]
    },
    {
     "name": "stderr",
     "output_type": "stream",
     "text": [
      "2024-03-21 20:41:55,291 - mmaction - INFO - Epoch [22][10/43]\tlr: 4.878e-07, eta: 0:12:10, time: 0.472, data_time: 0.001, memory: 9832, top1_acc: 0.9000, top5_acc: 1.0000, loss_cls: 0.8911, loss: 0.8911\n"
     ]
    },
    {
     "name": "stdout",
     "output_type": "stream",
     "text": [
      "torch.Size([2, 3, 16, 224, 224])\n",
      "torch.Size([2, 3, 16, 224, 224])\n",
      "torch.Size([2, 3, 16, 224, 224])\n",
      "torch.Size([2, 3, 16, 224, 224])\n",
      "torch.Size([2, 3, 16, 224, 224])\n"
     ]
    },
    {
     "name": "stderr",
     "output_type": "stream",
     "text": [
      "2024-03-21 20:41:57,841 - mmaction - INFO - Epoch [22][15/43]\tlr: 4.878e-07, eta: 0:12:07, time: 0.510, data_time: 0.001, memory: 9832, top1_acc: 0.3000, top5_acc: 1.0000, loss_cls: 1.0767, loss: 1.0767\n"
     ]
    },
    {
     "name": "stdout",
     "output_type": "stream",
     "text": [
      "torch.Size([2, 3, 16, 224, 224])\n",
      "torch.Size([2, 3, 16, 224, 224])\n",
      "torch.Size([2, 3, 16, 224, 224])\n",
      "torch.Size([2, 3, 16, 224, 224])\n",
      "torch.Size([2, 3, 16, 224, 224])\n"
     ]
    },
    {
     "name": "stderr",
     "output_type": "stream",
     "text": [
      "2024-03-21 20:42:00,467 - mmaction - INFO - Epoch [22][20/43]\tlr: 4.878e-07, eta: 0:12:03, time: 0.525, data_time: 0.041, memory: 9832, top1_acc: 0.7000, top5_acc: 1.0000, loss_cls: 0.9641, loss: 0.9641\n"
     ]
    },
    {
     "name": "stdout",
     "output_type": "stream",
     "text": [
      "torch.Size([2, 3, 16, 224, 224])\n",
      "torch.Size([2, 3, 16, 224, 224])\n",
      "torch.Size([2, 3, 16, 224, 224])\n",
      "torch.Size([2, 3, 16, 224, 224])\n",
      "torch.Size([2, 3, 16, 224, 224])\n"
     ]
    },
    {
     "name": "stderr",
     "output_type": "stream",
     "text": [
      "2024-03-21 20:42:02,926 - mmaction - INFO - Epoch [22][25/43]\tlr: 4.878e-07, eta: 0:12:00, time: 0.491, data_time: 0.001, memory: 9832, top1_acc: 0.4000, top5_acc: 1.0000, loss_cls: 1.0749, loss: 1.0749\n"
     ]
    },
    {
     "name": "stdout",
     "output_type": "stream",
     "text": [
      "torch.Size([2, 3, 16, 224, 224])\n",
      "torch.Size([2, 3, 16, 224, 224])\n",
      "torch.Size([2, 3, 16, 224, 224])\n",
      "torch.Size([2, 3, 16, 224, 224])\n",
      "torch.Size([2, 3, 16, 224, 224])\n"
     ]
    },
    {
     "name": "stderr",
     "output_type": "stream",
     "text": [
      "2024-03-21 20:42:05,323 - mmaction - INFO - Epoch [22][30/43]\tlr: 4.878e-07, eta: 0:11:56, time: 0.480, data_time: 0.002, memory: 9832, top1_acc: 0.6000, top5_acc: 1.0000, loss_cls: 1.0292, loss: 1.0292\n"
     ]
    },
    {
     "name": "stdout",
     "output_type": "stream",
     "text": [
      "torch.Size([2, 3, 16, 224, 224])\n",
      "torch.Size([2, 3, 16, 224, 224])\n",
      "torch.Size([2, 3, 16, 224, 224])\n",
      "torch.Size([2, 3, 16, 224, 224])\n",
      "torch.Size([2, 3, 16, 224, 224])\n"
     ]
    },
    {
     "name": "stderr",
     "output_type": "stream",
     "text": [
      "2024-03-21 20:42:07,727 - mmaction - INFO - Epoch [22][35/43]\tlr: 4.878e-07, eta: 0:11:53, time: 0.481, data_time: 0.002, memory: 9832, top1_acc: 0.7000, top5_acc: 1.0000, loss_cls: 0.9742, loss: 0.9742\n"
     ]
    },
    {
     "name": "stdout",
     "output_type": "stream",
     "text": [
      "torch.Size([2, 3, 16, 224, 224])\n",
      "torch.Size([2, 3, 16, 224, 224])\n",
      "torch.Size([2, 3, 16, 224, 224])\n",
      "torch.Size([2, 3, 16, 224, 224])\n",
      "torch.Size([2, 3, 16, 224, 224])\n"
     ]
    },
    {
     "name": "stderr",
     "output_type": "stream",
     "text": [
      "2024-03-21 20:42:10,026 - mmaction - INFO - Epoch [22][40/43]\tlr: 4.878e-07, eta: 0:11:49, time: 0.460, data_time: 0.001, memory: 9832, top1_acc: 0.4000, top5_acc: 1.0000, loss_cls: 1.0317, loss: 1.0317\n"
     ]
    },
    {
     "name": "stdout",
     "output_type": "stream",
     "text": [
      "torch.Size([2, 3, 16, 224, 224])\n",
      "torch.Size([2, 3, 16, 224, 224])\n",
      "torch.Size([2, 3, 16, 224, 224])\n",
      "torch.Size([2, 3, 16, 224, 224])\n",
      "torch.Size([2, 3, 16, 224, 224])\n",
      "torch.Size([2, 3, 16, 224, 224])\n",
      "torch.Size([2, 3, 16, 224, 224])\n",
      "torch.Size([2, 3, 16, 224, 224])\n"
     ]
    },
    {
     "name": "stderr",
     "output_type": "stream",
     "text": [
      "2024-03-21 20:42:19,940 - mmaction - INFO - Epoch [23][5/43]\tlr: 4.638e-07, eta: 0:11:48, time: 1.624, data_time: 1.087, memory: 9832, top1_acc: 0.6000, top5_acc: 1.0000, loss_cls: 1.0049, loss: 1.0049\n"
     ]
    },
    {
     "name": "stdout",
     "output_type": "stream",
     "text": [
      "torch.Size([2, 3, 16, 224, 224])\n",
      "torch.Size([2, 3, 16, 224, 224])\n",
      "torch.Size([2, 3, 16, 224, 224])\n",
      "torch.Size([2, 3, 16, 224, 224])\n",
      "torch.Size([2, 3, 16, 224, 224])\n"
     ]
    },
    {
     "name": "stderr",
     "output_type": "stream",
     "text": [
      "2024-03-21 20:42:22,280 - mmaction - INFO - Epoch [23][10/43]\tlr: 4.638e-07, eta: 0:11:45, time: 0.468, data_time: 0.002, memory: 9832, top1_acc: 0.7000, top5_acc: 1.0000, loss_cls: 0.9554, loss: 0.9554\n"
     ]
    },
    {
     "name": "stdout",
     "output_type": "stream",
     "text": [
      "torch.Size([2, 3, 16, 224, 224])\n",
      "torch.Size([2, 3, 16, 224, 224])\n",
      "torch.Size([2, 3, 16, 224, 224])\n",
      "torch.Size([2, 3, 16, 224, 224])\n",
      "torch.Size([2, 3, 16, 224, 224])\n"
     ]
    },
    {
     "name": "stderr",
     "output_type": "stream",
     "text": [
      "2024-03-21 20:42:24,686 - mmaction - INFO - Epoch [23][15/43]\tlr: 4.638e-07, eta: 0:11:41, time: 0.481, data_time: 0.001, memory: 9832, top1_acc: 0.5000, top5_acc: 1.0000, loss_cls: 1.0482, loss: 1.0482\n"
     ]
    },
    {
     "name": "stdout",
     "output_type": "stream",
     "text": [
      "torch.Size([2, 3, 16, 224, 224])\n",
      "torch.Size([2, 3, 16, 224, 224])\n",
      "torch.Size([2, 3, 16, 224, 224])\n",
      "torch.Size([2, 3, 16, 224, 224])\n",
      "torch.Size([2, 3, 16, 224, 224])\n"
     ]
    },
    {
     "name": "stderr",
     "output_type": "stream",
     "text": [
      "2024-03-21 20:42:27,025 - mmaction - INFO - Epoch [23][20/43]\tlr: 4.638e-07, eta: 0:11:37, time: 0.468, data_time: 0.001, memory: 9832, top1_acc: 0.4000, top5_acc: 1.0000, loss_cls: 1.0819, loss: 1.0819\n"
     ]
    },
    {
     "name": "stdout",
     "output_type": "stream",
     "text": [
      "torch.Size([2, 3, 16, 224, 224])\n",
      "torch.Size([2, 3, 16, 224, 224])\n",
      "torch.Size([2, 3, 16, 224, 224])\n",
      "torch.Size([2, 3, 16, 224, 224])\n",
      "torch.Size([2, 3, 16, 224, 224])\n"
     ]
    },
    {
     "name": "stderr",
     "output_type": "stream",
     "text": [
      "2024-03-21 20:42:29,389 - mmaction - INFO - Epoch [23][25/43]\tlr: 4.638e-07, eta: 0:11:34, time: 0.473, data_time: 0.001, memory: 9832, top1_acc: 0.5000, top5_acc: 1.0000, loss_cls: 1.0213, loss: 1.0213\n"
     ]
    },
    {
     "name": "stdout",
     "output_type": "stream",
     "text": [
      "torch.Size([2, 3, 16, 224, 224])\n",
      "torch.Size([2, 3, 16, 224, 224])\n",
      "torch.Size([2, 3, 16, 224, 224])\n",
      "torch.Size([2, 3, 16, 224, 224])\n",
      "torch.Size([2, 3, 16, 224, 224])\n"
     ]
    },
    {
     "name": "stderr",
     "output_type": "stream",
     "text": [
      "2024-03-21 20:42:31,771 - mmaction - INFO - Epoch [23][30/43]\tlr: 4.638e-07, eta: 0:11:30, time: 0.476, data_time: 0.001, memory: 9832, top1_acc: 0.6000, top5_acc: 1.0000, loss_cls: 1.0238, loss: 1.0238\n"
     ]
    },
    {
     "name": "stdout",
     "output_type": "stream",
     "text": [
      "torch.Size([2, 3, 16, 224, 224])\n",
      "torch.Size([2, 3, 16, 224, 224])\n",
      "torch.Size([2, 3, 16, 224, 224])\n",
      "torch.Size([2, 3, 16, 224, 224])\n",
      "torch.Size([2, 3, 16, 224, 224])\n"
     ]
    },
    {
     "name": "stderr",
     "output_type": "stream",
     "text": [
      "2024-03-21 20:42:34,102 - mmaction - INFO - Epoch [23][35/43]\tlr: 4.638e-07, eta: 0:11:26, time: 0.467, data_time: 0.002, memory: 9832, top1_acc: 0.5000, top5_acc: 1.0000, loss_cls: 1.0425, loss: 1.0425\n"
     ]
    },
    {
     "name": "stdout",
     "output_type": "stream",
     "text": [
      "torch.Size([2, 3, 16, 224, 224])\n",
      "torch.Size([2, 3, 16, 224, 224])\n",
      "torch.Size([2, 3, 16, 224, 224])\n",
      "torch.Size([2, 3, 16, 224, 224])\n",
      "torch.Size([2, 3, 16, 224, 224])\n"
     ]
    },
    {
     "name": "stderr",
     "output_type": "stream",
     "text": [
      "2024-03-21 20:42:36,507 - mmaction - INFO - Epoch [23][40/43]\tlr: 4.638e-07, eta: 0:11:23, time: 0.481, data_time: 0.001, memory: 9832, top1_acc: 0.5000, top5_acc: 1.0000, loss_cls: 1.0210, loss: 1.0210\n"
     ]
    },
    {
     "name": "stdout",
     "output_type": "stream",
     "text": [
      "torch.Size([2, 3, 16, 224, 224])\n",
      "torch.Size([2, 3, 16, 224, 224])\n",
      "torch.Size([2, 3, 16, 224, 224])\n",
      "torch.Size([2, 3, 16, 224, 224])\n",
      "torch.Size([2, 3, 16, 224, 224])\n",
      "torch.Size([2, 3, 16, 224, 224])\n",
      "torch.Size([2, 3, 16, 224, 224])\n",
      "torch.Size([2, 3, 16, 224, 224])\n"
     ]
    },
    {
     "name": "stderr",
     "output_type": "stream",
     "text": [
      "2024-03-21 20:42:46,547 - mmaction - INFO - Epoch [24][5/43]\tlr: 4.396e-07, eta: 0:11:22, time: 1.653, data_time: 1.096, memory: 9832, top1_acc: 0.5000, top5_acc: 1.0000, loss_cls: 1.0361, loss: 1.0361\n"
     ]
    },
    {
     "name": "stdout",
     "output_type": "stream",
     "text": [
      "torch.Size([2, 3, 16, 224, 224])\n",
      "torch.Size([2, 3, 16, 224, 224])\n",
      "torch.Size([2, 3, 16, 224, 224])\n",
      "torch.Size([2, 3, 16, 224, 224])\n",
      "torch.Size([2, 3, 16, 224, 224])\n"
     ]
    },
    {
     "name": "stderr",
     "output_type": "stream",
     "text": [
      "2024-03-21 20:42:48,915 - mmaction - INFO - Epoch [24][10/43]\tlr: 4.396e-07, eta: 0:11:19, time: 0.473, data_time: 0.001, memory: 9832, top1_acc: 0.5000, top5_acc: 1.0000, loss_cls: 1.0022, loss: 1.0022\n"
     ]
    },
    {
     "name": "stdout",
     "output_type": "stream",
     "text": [
      "torch.Size([2, 3, 16, 224, 224])\n",
      "torch.Size([2, 3, 16, 224, 224])\n",
      "torch.Size([2, 3, 16, 224, 224])\n",
      "torch.Size([2, 3, 16, 224, 224])\n",
      "torch.Size([2, 3, 16, 224, 224])\n"
     ]
    },
    {
     "name": "stderr",
     "output_type": "stream",
     "text": [
      "2024-03-21 20:42:51,290 - mmaction - INFO - Epoch [24][15/43]\tlr: 4.396e-07, eta: 0:11:15, time: 0.475, data_time: 0.001, memory: 9832, top1_acc: 0.5000, top5_acc: 1.0000, loss_cls: 1.0519, loss: 1.0519\n"
     ]
    },
    {
     "name": "stdout",
     "output_type": "stream",
     "text": [
      "torch.Size([2, 3, 16, 224, 224])\n",
      "torch.Size([2, 3, 16, 224, 224])\n",
      "torch.Size([2, 3, 16, 224, 224])\n",
      "torch.Size([2, 3, 16, 224, 224])\n",
      "torch.Size([2, 3, 16, 224, 224])\n"
     ]
    },
    {
     "name": "stderr",
     "output_type": "stream",
     "text": [
      "2024-03-21 20:42:53,684 - mmaction - INFO - Epoch [24][20/43]\tlr: 4.396e-07, eta: 0:11:11, time: 0.479, data_time: 0.001, memory: 9832, top1_acc: 0.5000, top5_acc: 1.0000, loss_cls: 1.0164, loss: 1.0164\n"
     ]
    },
    {
     "name": "stdout",
     "output_type": "stream",
     "text": [
      "torch.Size([2, 3, 16, 224, 224])\n",
      "torch.Size([2, 3, 16, 224, 224])\n",
      "torch.Size([2, 3, 16, 224, 224])\n",
      "torch.Size([2, 3, 16, 224, 224])\n",
      "torch.Size([2, 3, 16, 224, 224])\n"
     ]
    },
    {
     "name": "stderr",
     "output_type": "stream",
     "text": [
      "2024-03-21 20:42:56,031 - mmaction - INFO - Epoch [24][25/43]\tlr: 4.396e-07, eta: 0:11:08, time: 0.469, data_time: 0.001, memory: 9832, top1_acc: 0.5000, top5_acc: 1.0000, loss_cls: 0.9526, loss: 0.9526\n"
     ]
    },
    {
     "name": "stdout",
     "output_type": "stream",
     "text": [
      "torch.Size([2, 3, 16, 224, 224])\n",
      "torch.Size([2, 3, 16, 224, 224])\n",
      "torch.Size([2, 3, 16, 224, 224])\n",
      "torch.Size([2, 3, 16, 224, 224])\n",
      "torch.Size([2, 3, 16, 224, 224])\n"
     ]
    },
    {
     "name": "stderr",
     "output_type": "stream",
     "text": [
      "2024-03-21 20:42:58,407 - mmaction - INFO - Epoch [24][30/43]\tlr: 4.396e-07, eta: 0:11:04, time: 0.475, data_time: 0.001, memory: 9832, top1_acc: 0.4000, top5_acc: 1.0000, loss_cls: 1.0214, loss: 1.0214\n"
     ]
    },
    {
     "name": "stdout",
     "output_type": "stream",
     "text": [
      "torch.Size([2, 3, 16, 224, 224])\n",
      "torch.Size([2, 3, 16, 224, 224])\n",
      "torch.Size([2, 3, 16, 224, 224])\n",
      "torch.Size([2, 3, 16, 224, 224])\n",
      "torch.Size([2, 3, 16, 224, 224])\n"
     ]
    },
    {
     "name": "stderr",
     "output_type": "stream",
     "text": [
      "2024-03-21 20:43:00,815 - mmaction - INFO - Epoch [24][35/43]\tlr: 4.396e-07, eta: 0:11:01, time: 0.480, data_time: 0.001, memory: 9832, top1_acc: 0.3000, top5_acc: 1.0000, loss_cls: 1.1067, loss: 1.1067\n"
     ]
    },
    {
     "name": "stdout",
     "output_type": "stream",
     "text": [
      "torch.Size([2, 3, 16, 224, 224])\n",
      "torch.Size([2, 3, 16, 224, 224])\n",
      "torch.Size([2, 3, 16, 224, 224])\n",
      "torch.Size([2, 3, 16, 224, 224])\n",
      "torch.Size([2, 3, 16, 224, 224])\n"
     ]
    },
    {
     "name": "stderr",
     "output_type": "stream",
     "text": [
      "2024-03-21 20:43:03,154 - mmaction - INFO - Epoch [24][40/43]\tlr: 4.396e-07, eta: 0:10:57, time: 0.469, data_time: 0.002, memory: 9832, top1_acc: 0.6000, top5_acc: 1.0000, loss_cls: 1.0024, loss: 1.0024\n"
     ]
    },
    {
     "name": "stdout",
     "output_type": "stream",
     "text": [
      "torch.Size([2, 3, 16, 224, 224])\n",
      "torch.Size([2, 3, 16, 224, 224])\n",
      "torch.Size([2, 3, 16, 224, 224])\n",
      "torch.Size([2, 3, 16, 224, 224])\n",
      "torch.Size([2, 3, 16, 224, 224])\n",
      "torch.Size([2, 3, 16, 224, 224])\n",
      "torch.Size([2, 3, 16, 224, 224])\n",
      "torch.Size([2, 3, 16, 224, 224])\n"
     ]
    },
    {
     "name": "stderr",
     "output_type": "stream",
     "text": [
      "2024-03-21 20:43:13,091 - mmaction - INFO - Epoch [25][5/43]\tlr: 4.152e-07, eta: 0:10:56, time: 1.609, data_time: 1.072, memory: 9832, top1_acc: 0.5000, top5_acc: 1.0000, loss_cls: 1.0053, loss: 1.0053\n"
     ]
    },
    {
     "name": "stdout",
     "output_type": "stream",
     "text": [
      "torch.Size([2, 3, 16, 224, 224])\n",
      "torch.Size([2, 3, 16, 224, 224])\n",
      "torch.Size([2, 3, 16, 224, 224])\n",
      "torch.Size([2, 3, 16, 224, 224])\n",
      "torch.Size([2, 3, 16, 224, 224])\n"
     ]
    },
    {
     "name": "stderr",
     "output_type": "stream",
     "text": [
      "2024-03-21 20:43:15,424 - mmaction - INFO - Epoch [25][10/43]\tlr: 4.152e-07, eta: 0:10:52, time: 0.467, data_time: 0.001, memory: 9832, top1_acc: 0.3000, top5_acc: 1.0000, loss_cls: 1.0880, loss: 1.0880\n"
     ]
    },
    {
     "name": "stdout",
     "output_type": "stream",
     "text": [
      "torch.Size([2, 3, 16, 224, 224])\n",
      "torch.Size([2, 3, 16, 224, 224])\n",
      "torch.Size([2, 3, 16, 224, 224])\n",
      "torch.Size([2, 3, 16, 224, 224])\n",
      "torch.Size([2, 3, 16, 224, 224])\n"
     ]
    },
    {
     "name": "stderr",
     "output_type": "stream",
     "text": [
      "2024-03-21 20:43:17,753 - mmaction - INFO - Epoch [25][15/43]\tlr: 4.152e-07, eta: 0:10:49, time: 0.466, data_time: 0.001, memory: 9832, top1_acc: 0.5000, top5_acc: 1.0000, loss_cls: 1.0734, loss: 1.0734\n"
     ]
    },
    {
     "name": "stdout",
     "output_type": "stream",
     "text": [
      "torch.Size([2, 3, 16, 224, 224])\n",
      "torch.Size([2, 3, 16, 224, 224])\n",
      "torch.Size([2, 3, 16, 224, 224])\n",
      "torch.Size([2, 3, 16, 224, 224])\n",
      "torch.Size([2, 3, 16, 224, 224])\n"
     ]
    },
    {
     "name": "stderr",
     "output_type": "stream",
     "text": [
      "2024-03-21 20:43:20,136 - mmaction - INFO - Epoch [25][20/43]\tlr: 4.152e-07, eta: 0:10:45, time: 0.476, data_time: 0.001, memory: 9832, top1_acc: 0.4000, top5_acc: 1.0000, loss_cls: 1.0701, loss: 1.0701\n"
     ]
    },
    {
     "name": "stdout",
     "output_type": "stream",
     "text": [
      "torch.Size([2, 3, 16, 224, 224])\n",
      "torch.Size([2, 3, 16, 224, 224])\n",
      "torch.Size([2, 3, 16, 224, 224])\n",
      "torch.Size([2, 3, 16, 224, 224])\n",
      "torch.Size([2, 3, 16, 224, 224])\n"
     ]
    },
    {
     "name": "stderr",
     "output_type": "stream",
     "text": [
      "2024-03-21 20:43:22,531 - mmaction - INFO - Epoch [25][25/43]\tlr: 4.152e-07, eta: 0:10:42, time: 0.479, data_time: 0.001, memory: 9832, top1_acc: 0.5000, top5_acc: 1.0000, loss_cls: 1.0391, loss: 1.0391\n"
     ]
    },
    {
     "name": "stdout",
     "output_type": "stream",
     "text": [
      "torch.Size([2, 3, 16, 224, 224])\n",
      "torch.Size([2, 3, 16, 224, 224])\n",
      "torch.Size([2, 3, 16, 224, 224])\n",
      "torch.Size([2, 3, 16, 224, 224])\n",
      "torch.Size([2, 3, 16, 224, 224])\n"
     ]
    },
    {
     "name": "stderr",
     "output_type": "stream",
     "text": [
      "2024-03-21 20:43:24,860 - mmaction - INFO - Epoch [25][30/43]\tlr: 4.152e-07, eta: 0:10:38, time: 0.466, data_time: 0.001, memory: 9832, top1_acc: 0.6000, top5_acc: 1.0000, loss_cls: 0.9767, loss: 0.9767\n"
     ]
    },
    {
     "name": "stdout",
     "output_type": "stream",
     "text": [
      "torch.Size([2, 3, 16, 224, 224])\n",
      "torch.Size([2, 3, 16, 224, 224])\n",
      "torch.Size([2, 3, 16, 224, 224])\n",
      "torch.Size([2, 3, 16, 224, 224])\n",
      "torch.Size([2, 3, 16, 224, 224])\n"
     ]
    },
    {
     "name": "stderr",
     "output_type": "stream",
     "text": [
      "2024-03-21 20:43:27,234 - mmaction - INFO - Epoch [25][35/43]\tlr: 4.152e-07, eta: 0:10:35, time: 0.475, data_time: 0.001, memory: 9832, top1_acc: 0.6000, top5_acc: 1.0000, loss_cls: 1.0136, loss: 1.0136\n"
     ]
    },
    {
     "name": "stdout",
     "output_type": "stream",
     "text": [
      "torch.Size([2, 3, 16, 224, 224])\n",
      "torch.Size([2, 3, 16, 224, 224])\n",
      "torch.Size([2, 3, 16, 224, 224])\n",
      "torch.Size([2, 3, 16, 224, 224])\n",
      "torch.Size([2, 3, 16, 224, 224])\n"
     ]
    },
    {
     "name": "stderr",
     "output_type": "stream",
     "text": [
      "2024-03-21 20:43:29,658 - mmaction - INFO - Epoch [25][40/43]\tlr: 4.152e-07, eta: 0:10:31, time: 0.484, data_time: 0.001, memory: 9832, top1_acc: 0.8000, top5_acc: 1.0000, loss_cls: 0.9036, loss: 0.9036\n"
     ]
    },
    {
     "name": "stdout",
     "output_type": "stream",
     "text": [
      "torch.Size([2, 3, 16, 224, 224])\n",
      "torch.Size([2, 3, 16, 224, 224])\n",
      "torch.Size([2, 3, 16, 224, 224])\n",
      "[>>>>>>>>>>>>>>>>>>>>>>>>>>>>>>>>>>>>>>>>>>>>>>>>>>] 23/23, 3.2 task/s, elapsed: 7s, ETA:     0s"
     ]
    },
    {
     "name": "stderr",
     "output_type": "stream",
     "text": [
      "2024-03-21 20:43:38,863 - mmaction - INFO - Evaluating top_k_accuracy ...\n",
      "2024-03-21 20:43:38,864 - mmaction - INFO - \n",
      "top1_acc\t0.5652\n",
      "top5_acc\t1.0000\n",
      "2024-03-21 20:43:38,864 - mmaction - INFO - Evaluating mean_class_accuracy ...\n",
      "2024-03-21 20:43:38,865 - mmaction - INFO - \n",
      "mean_acc\t0.4508\n",
      "2024-03-21 20:43:38,865 - mmaction - INFO - Epoch(val) [25][23]\ttop1_acc: 0.5652, top5_acc: 1.0000, mean_class_accuracy: 0.4508\n"
     ]
    },
    {
     "name": "stdout",
     "output_type": "stream",
     "text": [
      "mean_class_accuracy\n",
      "[1 1 0 1 0 1 0 1 1 0 0 0 1 1 0 0 1 0 0 0 0 1 0]\n",
      "[0, 1, 1, 0, 0, 2, 1, 1, 1, 0, 0, 0, 0, 1, 0, 0, 1, 0, 0, 2, 1, 2, 2]\n",
      "torch.Size([2, 3, 16, 224, 224])\n",
      "torch.Size([2, 3, 16, 224, 224])\n",
      "torch.Size([2, 3, 16, 224, 224])\n",
      "torch.Size([2, 3, 16, 224, 224])\n",
      "torch.Size([2, 3, 16, 224, 224])\n"
     ]
    },
    {
     "name": "stderr",
     "output_type": "stream",
     "text": [
      "2024-03-21 20:43:46,777 - mmaction - INFO - Epoch [26][5/43]\tlr: 3.906e-07, eta: 0:10:30, time: 1.580, data_time: 1.059, memory: 9832, top1_acc: 0.3000, top5_acc: 1.0000, loss_cls: 1.1007, loss: 1.1007\n"
     ]
    },
    {
     "name": "stdout",
     "output_type": "stream",
     "text": [
      "torch.Size([2, 3, 16, 224, 224])\n",
      "torch.Size([2, 3, 16, 224, 224])\n",
      "torch.Size([2, 3, 16, 224, 224])\n",
      "torch.Size([2, 3, 16, 224, 224])\n",
      "torch.Size([2, 3, 16, 224, 224])\n"
     ]
    },
    {
     "name": "stderr",
     "output_type": "stream",
     "text": [
      "2024-03-21 20:43:49,067 - mmaction - INFO - Epoch [26][10/43]\tlr: 3.906e-07, eta: 0:10:26, time: 0.459, data_time: 0.002, memory: 9832, top1_acc: 0.5000, top5_acc: 1.0000, loss_cls: 1.0142, loss: 1.0142\n"
     ]
    },
    {
     "name": "stdout",
     "output_type": "stream",
     "text": [
      "torch.Size([2, 3, 16, 224, 224])\n",
      "torch.Size([2, 3, 16, 224, 224])\n",
      "torch.Size([2, 3, 16, 224, 224])\n",
      "torch.Size([2, 3, 16, 224, 224])\n",
      "torch.Size([2, 3, 16, 224, 224])\n"
     ]
    },
    {
     "name": "stderr",
     "output_type": "stream",
     "text": [
      "2024-03-21 20:43:51,483 - mmaction - INFO - Epoch [26][15/43]\tlr: 3.906e-07, eta: 0:10:23, time: 0.483, data_time: 0.001, memory: 9832, top1_acc: 0.3000, top5_acc: 1.0000, loss_cls: 1.0968, loss: 1.0968\n"
     ]
    },
    {
     "name": "stdout",
     "output_type": "stream",
     "text": [
      "torch.Size([2, 3, 16, 224, 224])\n",
      "torch.Size([2, 3, 16, 224, 224])\n",
      "torch.Size([2, 3, 16, 224, 224])\n",
      "torch.Size([2, 3, 16, 224, 224])\n",
      "torch.Size([2, 3, 16, 224, 224])\n"
     ]
    },
    {
     "name": "stderr",
     "output_type": "stream",
     "text": [
      "2024-03-21 20:43:53,822 - mmaction - INFO - Epoch [26][20/43]\tlr: 3.906e-07, eta: 0:10:19, time: 0.468, data_time: 0.001, memory: 9832, top1_acc: 0.3000, top5_acc: 1.0000, loss_cls: 1.0767, loss: 1.0767\n"
     ]
    },
    {
     "name": "stdout",
     "output_type": "stream",
     "text": [
      "torch.Size([2, 3, 16, 224, 224])\n",
      "torch.Size([2, 3, 16, 224, 224])\n",
      "torch.Size([2, 3, 16, 224, 224])\n",
      "torch.Size([2, 3, 16, 224, 224])\n",
      "torch.Size([2, 3, 16, 224, 224])\n"
     ]
    },
    {
     "name": "stderr",
     "output_type": "stream",
     "text": [
      "2024-03-21 20:43:56,200 - mmaction - INFO - Epoch [26][25/43]\tlr: 3.906e-07, eta: 0:10:16, time: 0.475, data_time: 0.001, memory: 9832, top1_acc: 0.7000, top5_acc: 1.0000, loss_cls: 0.9466, loss: 0.9466\n"
     ]
    },
    {
     "name": "stdout",
     "output_type": "stream",
     "text": [
      "torch.Size([2, 3, 16, 224, 224])\n",
      "torch.Size([2, 3, 16, 224, 224])\n",
      "torch.Size([2, 3, 16, 224, 224])\n",
      "torch.Size([2, 3, 16, 224, 224])\n",
      "torch.Size([2, 3, 16, 224, 224])\n"
     ]
    },
    {
     "name": "stderr",
     "output_type": "stream",
     "text": [
      "2024-03-21 20:43:58,591 - mmaction - INFO - Epoch [26][30/43]\tlr: 3.906e-07, eta: 0:10:12, time: 0.478, data_time: 0.001, memory: 9832, top1_acc: 0.4000, top5_acc: 1.0000, loss_cls: 1.0325, loss: 1.0325\n"
     ]
    },
    {
     "name": "stdout",
     "output_type": "stream",
     "text": [
      "torch.Size([2, 3, 16, 224, 224])\n",
      "torch.Size([2, 3, 16, 224, 224])\n",
      "torch.Size([2, 3, 16, 224, 224])\n",
      "torch.Size([2, 3, 16, 224, 224])\n",
      "torch.Size([2, 3, 16, 224, 224])\n"
     ]
    },
    {
     "name": "stderr",
     "output_type": "stream",
     "text": [
      "2024-03-21 20:44:00,947 - mmaction - INFO - Epoch [26][35/43]\tlr: 3.906e-07, eta: 0:10:09, time: 0.471, data_time: 0.001, memory: 9832, top1_acc: 0.3000, top5_acc: 1.0000, loss_cls: 1.1059, loss: 1.1059\n"
     ]
    },
    {
     "name": "stdout",
     "output_type": "stream",
     "text": [
      "torch.Size([2, 3, 16, 224, 224])\n",
      "torch.Size([2, 3, 16, 224, 224])\n",
      "torch.Size([2, 3, 16, 224, 224])\n",
      "torch.Size([2, 3, 16, 224, 224])\n",
      "torch.Size([2, 3, 16, 224, 224])\n"
     ]
    },
    {
     "name": "stderr",
     "output_type": "stream",
     "text": [
      "2024-03-21 20:44:03,310 - mmaction - INFO - Epoch [26][40/43]\tlr: 3.906e-07, eta: 0:10:05, time: 0.473, data_time: 0.001, memory: 9832, top1_acc: 0.3000, top5_acc: 1.0000, loss_cls: 1.1138, loss: 1.1138\n"
     ]
    },
    {
     "name": "stdout",
     "output_type": "stream",
     "text": [
      "torch.Size([2, 3, 16, 224, 224])\n",
      "torch.Size([2, 3, 16, 224, 224])\n",
      "torch.Size([2, 3, 16, 224, 224])\n",
      "torch.Size([2, 3, 16, 224, 224])\n",
      "torch.Size([2, 3, 16, 224, 224])\n",
      "torch.Size([2, 3, 16, 224, 224])\n",
      "torch.Size([2, 3, 16, 224, 224])\n",
      "torch.Size([2, 3, 16, 224, 224])\n"
     ]
    },
    {
     "name": "stderr",
     "output_type": "stream",
     "text": [
      "2024-03-21 20:44:13,133 - mmaction - INFO - Epoch [27][5/43]\tlr: 3.661e-07, eta: 0:10:04, time: 1.607, data_time: 1.063, memory: 9832, top1_acc: 0.3000, top5_acc: 1.0000, loss_cls: 1.0971, loss: 1.0971\n"
     ]
    },
    {
     "name": "stdout",
     "output_type": "stream",
     "text": [
      "torch.Size([2, 3, 16, 224, 224])\n",
      "torch.Size([2, 3, 16, 224, 224])\n",
      "torch.Size([2, 3, 16, 224, 224])\n",
      "torch.Size([2, 3, 16, 224, 224])\n",
      "torch.Size([2, 3, 16, 224, 224])\n"
     ]
    },
    {
     "name": "stderr",
     "output_type": "stream",
     "text": [
      "2024-03-21 20:44:15,522 - mmaction - INFO - Epoch [27][10/43]\tlr: 3.661e-07, eta: 0:10:00, time: 0.477, data_time: 0.001, memory: 9832, top1_acc: 0.5000, top5_acc: 1.0000, loss_cls: 0.9965, loss: 0.9965\n"
     ]
    },
    {
     "name": "stdout",
     "output_type": "stream",
     "text": [
      "torch.Size([2, 3, 16, 224, 224])\n",
      "torch.Size([2, 3, 16, 224, 224])\n",
      "torch.Size([2, 3, 16, 224, 224])\n",
      "torch.Size([2, 3, 16, 224, 224])\n",
      "torch.Size([2, 3, 16, 224, 224])\n"
     ]
    },
    {
     "name": "stderr",
     "output_type": "stream",
     "text": [
      "2024-03-21 20:44:17,850 - mmaction - INFO - Epoch [27][15/43]\tlr: 3.661e-07, eta: 0:09:57, time: 0.467, data_time: 0.002, memory: 9832, top1_acc: 0.3000, top5_acc: 1.0000, loss_cls: 1.0692, loss: 1.0692\n"
     ]
    },
    {
     "name": "stdout",
     "output_type": "stream",
     "text": [
      "torch.Size([2, 3, 16, 224, 224])\n",
      "torch.Size([2, 3, 16, 224, 224])\n",
      "torch.Size([2, 3, 16, 224, 224])\n",
      "torch.Size([2, 3, 16, 224, 224])\n",
      "torch.Size([2, 3, 16, 224, 224])\n"
     ]
    },
    {
     "name": "stderr",
     "output_type": "stream",
     "text": [
      "2024-03-21 20:44:20,242 - mmaction - INFO - Epoch [27][20/43]\tlr: 3.661e-07, eta: 0:09:53, time: 0.479, data_time: 0.001, memory: 9832, top1_acc: 0.1000, top5_acc: 1.0000, loss_cls: 1.0570, loss: 1.0570\n"
     ]
    },
    {
     "name": "stdout",
     "output_type": "stream",
     "text": [
      "torch.Size([2, 3, 16, 224, 224])\n",
      "torch.Size([2, 3, 16, 224, 224])\n",
      "torch.Size([2, 3, 16, 224, 224])\n",
      "torch.Size([2, 3, 16, 224, 224])\n",
      "torch.Size([2, 3, 16, 224, 224])\n"
     ]
    },
    {
     "name": "stderr",
     "output_type": "stream",
     "text": [
      "2024-03-21 20:44:22,630 - mmaction - INFO - Epoch [27][25/43]\tlr: 3.661e-07, eta: 0:09:50, time: 0.478, data_time: 0.001, memory: 9832, top1_acc: 0.4000, top5_acc: 1.0000, loss_cls: 1.0710, loss: 1.0710\n"
     ]
    },
    {
     "name": "stdout",
     "output_type": "stream",
     "text": [
      "torch.Size([2, 3, 16, 224, 224])\n",
      "torch.Size([2, 3, 16, 224, 224])\n",
      "torch.Size([2, 3, 16, 224, 224])\n",
      "torch.Size([2, 3, 16, 224, 224])\n",
      "torch.Size([2, 3, 16, 224, 224])\n"
     ]
    },
    {
     "name": "stderr",
     "output_type": "stream",
     "text": [
      "2024-03-21 20:44:25,059 - mmaction - INFO - Epoch [27][30/43]\tlr: 3.661e-07, eta: 0:09:47, time: 0.486, data_time: 0.001, memory: 9832, top1_acc: 0.3000, top5_acc: 1.0000, loss_cls: 1.0335, loss: 1.0335\n"
     ]
    },
    {
     "name": "stdout",
     "output_type": "stream",
     "text": [
      "torch.Size([2, 3, 16, 224, 224])\n",
      "torch.Size([2, 3, 16, 224, 224])\n",
      "torch.Size([2, 3, 16, 224, 224])\n",
      "torch.Size([2, 3, 16, 224, 224])\n",
      "torch.Size([2, 3, 16, 224, 224])\n"
     ]
    },
    {
     "name": "stderr",
     "output_type": "stream",
     "text": [
      "2024-03-21 20:44:27,428 - mmaction - INFO - Epoch [27][35/43]\tlr: 3.661e-07, eta: 0:09:43, time: 0.474, data_time: 0.001, memory: 9832, top1_acc: 0.2000, top5_acc: 1.0000, loss_cls: 1.0755, loss: 1.0755\n"
     ]
    },
    {
     "name": "stdout",
     "output_type": "stream",
     "text": [
      "torch.Size([2, 3, 16, 224, 224])\n",
      "torch.Size([2, 3, 16, 224, 224])\n",
      "torch.Size([2, 3, 16, 224, 224])\n",
      "torch.Size([2, 3, 16, 224, 224])\n",
      "torch.Size([2, 3, 16, 224, 224])\n"
     ]
    },
    {
     "name": "stderr",
     "output_type": "stream",
     "text": [
      "2024-03-21 20:44:29,802 - mmaction - INFO - Epoch [27][40/43]\tlr: 3.661e-07, eta: 0:09:40, time: 0.475, data_time: 0.001, memory: 9832, top1_acc: 0.3000, top5_acc: 1.0000, loss_cls: 1.0837, loss: 1.0837\n"
     ]
    },
    {
     "name": "stdout",
     "output_type": "stream",
     "text": [
      "torch.Size([2, 3, 16, 224, 224])\n",
      "torch.Size([2, 3, 16, 224, 224])\n",
      "torch.Size([2, 3, 16, 224, 224])\n",
      "torch.Size([2, 3, 16, 224, 224])\n",
      "torch.Size([2, 3, 16, 224, 224])\n",
      "torch.Size([2, 3, 16, 224, 224])\n",
      "torch.Size([2, 3, 16, 224, 224])\n",
      "torch.Size([2, 3, 16, 224, 224])\n"
     ]
    },
    {
     "name": "stderr",
     "output_type": "stream",
     "text": [
      "2024-03-21 20:44:39,605 - mmaction - INFO - Epoch [28][5/43]\tlr: 3.417e-07, eta: 0:09:38, time: 1.596, data_time: 1.060, memory: 9832, top1_acc: 0.5000, top5_acc: 1.0000, loss_cls: 1.0128, loss: 1.0128\n"
     ]
    },
    {
     "name": "stdout",
     "output_type": "stream",
     "text": [
      "torch.Size([2, 3, 16, 224, 224])\n",
      "torch.Size([2, 3, 16, 224, 224])\n",
      "torch.Size([2, 3, 16, 224, 224])\n",
      "torch.Size([2, 3, 16, 224, 224])\n",
      "torch.Size([2, 3, 16, 224, 224])\n"
     ]
    },
    {
     "name": "stderr",
     "output_type": "stream",
     "text": [
      "2024-03-21 20:44:41,954 - mmaction - INFO - Epoch [28][10/43]\tlr: 3.417e-07, eta: 0:09:34, time: 0.470, data_time: 0.001, memory: 9832, top1_acc: 0.2000, top5_acc: 1.0000, loss_cls: 1.0471, loss: 1.0471\n"
     ]
    },
    {
     "name": "stdout",
     "output_type": "stream",
     "text": [
      "torch.Size([2, 3, 16, 224, 224])\n",
      "torch.Size([2, 3, 16, 224, 224])\n",
      "torch.Size([2, 3, 16, 224, 224])\n",
      "torch.Size([2, 3, 16, 224, 224])\n",
      "torch.Size([2, 3, 16, 224, 224])\n"
     ]
    },
    {
     "name": "stderr",
     "output_type": "stream",
     "text": [
      "2024-03-21 20:44:44,339 - mmaction - INFO - Epoch [28][15/43]\tlr: 3.417e-07, eta: 0:09:31, time: 0.476, data_time: 0.001, memory: 9832, top1_acc: 0.3000, top5_acc: 1.0000, loss_cls: 1.1514, loss: 1.1514\n"
     ]
    },
    {
     "name": "stdout",
     "output_type": "stream",
     "text": [
      "torch.Size([2, 3, 16, 224, 224])\n",
      "torch.Size([2, 3, 16, 224, 224])\n",
      "torch.Size([2, 3, 16, 224, 224])\n",
      "torch.Size([2, 3, 16, 224, 224])\n",
      "torch.Size([2, 3, 16, 224, 224])\n"
     ]
    },
    {
     "name": "stderr",
     "output_type": "stream",
     "text": [
      "2024-03-21 20:44:46,697 - mmaction - INFO - Epoch [28][20/43]\tlr: 3.417e-07, eta: 0:09:28, time: 0.472, data_time: 0.002, memory: 9832, top1_acc: 0.8000, top5_acc: 1.0000, loss_cls: 0.8828, loss: 0.8828\n"
     ]
    },
    {
     "name": "stdout",
     "output_type": "stream",
     "text": [
      "torch.Size([2, 3, 16, 224, 224])\n",
      "torch.Size([2, 3, 16, 224, 224])\n",
      "torch.Size([2, 3, 16, 224, 224])\n",
      "torch.Size([2, 3, 16, 224, 224])\n",
      "torch.Size([2, 3, 16, 224, 224])\n"
     ]
    },
    {
     "name": "stderr",
     "output_type": "stream",
     "text": [
      "2024-03-21 20:44:49,087 - mmaction - INFO - Epoch [28][25/43]\tlr: 3.417e-07, eta: 0:09:24, time: 0.478, data_time: 0.001, memory: 9832, top1_acc: 0.3000, top5_acc: 1.0000, loss_cls: 1.1099, loss: 1.1099\n"
     ]
    },
    {
     "name": "stdout",
     "output_type": "stream",
     "text": [
      "torch.Size([2, 3, 16, 224, 224])\n",
      "torch.Size([2, 3, 16, 224, 224])\n",
      "torch.Size([2, 3, 16, 224, 224])\n",
      "torch.Size([2, 3, 16, 224, 224])\n",
      "torch.Size([2, 3, 16, 224, 224])\n"
     ]
    },
    {
     "name": "stderr",
     "output_type": "stream",
     "text": [
      "2024-03-21 20:44:51,411 - mmaction - INFO - Epoch [28][30/43]\tlr: 3.417e-07, eta: 0:09:21, time: 0.465, data_time: 0.001, memory: 9832, top1_acc: 0.2000, top5_acc: 1.0000, loss_cls: 1.0864, loss: 1.0864\n"
     ]
    },
    {
     "name": "stdout",
     "output_type": "stream",
     "text": [
      "torch.Size([2, 3, 16, 224, 224])\n",
      "torch.Size([2, 3, 16, 224, 224])\n",
      "torch.Size([2, 3, 16, 224, 224])\n",
      "torch.Size([2, 3, 16, 224, 224])\n",
      "torch.Size([2, 3, 16, 224, 224])\n"
     ]
    },
    {
     "name": "stderr",
     "output_type": "stream",
     "text": [
      "2024-03-21 20:44:53,800 - mmaction - INFO - Epoch [28][35/43]\tlr: 3.417e-07, eta: 0:09:18, time: 0.478, data_time: 0.001, memory: 9832, top1_acc: 0.3000, top5_acc: 1.0000, loss_cls: 1.0526, loss: 1.0526\n"
     ]
    },
    {
     "name": "stdout",
     "output_type": "stream",
     "text": [
      "torch.Size([2, 3, 16, 224, 224])\n",
      "torch.Size([2, 3, 16, 224, 224])\n",
      "torch.Size([2, 3, 16, 224, 224])\n",
      "torch.Size([2, 3, 16, 224, 224])\n",
      "torch.Size([2, 3, 16, 224, 224])\n"
     ]
    },
    {
     "name": "stderr",
     "output_type": "stream",
     "text": [
      "2024-03-21 20:44:56,188 - mmaction - INFO - Epoch [28][40/43]\tlr: 3.417e-07, eta: 0:09:14, time: 0.477, data_time: 0.001, memory: 9832, top1_acc: 0.7000, top5_acc: 1.0000, loss_cls: 0.9920, loss: 0.9920\n"
     ]
    },
    {
     "name": "stdout",
     "output_type": "stream",
     "text": [
      "torch.Size([2, 3, 16, 224, 224])\n",
      "torch.Size([2, 3, 16, 224, 224])\n",
      "torch.Size([2, 3, 16, 224, 224])\n",
      "torch.Size([2, 3, 16, 224, 224])\n",
      "torch.Size([2, 3, 16, 224, 224])\n",
      "torch.Size([2, 3, 16, 224, 224])\n",
      "torch.Size([2, 3, 16, 224, 224])\n",
      "torch.Size([2, 3, 16, 224, 224])\n"
     ]
    },
    {
     "name": "stderr",
     "output_type": "stream",
     "text": [
      "2024-03-21 20:45:06,088 - mmaction - INFO - Epoch [29][5/43]\tlr: 3.174e-07, eta: 0:09:12, time: 1.624, data_time: 1.085, memory: 9832, top1_acc: 0.7000, top5_acc: 1.0000, loss_cls: 1.0813, loss: 1.0813\n"
     ]
    },
    {
     "name": "stdout",
     "output_type": "stream",
     "text": [
      "torch.Size([2, 3, 16, 224, 224])\n",
      "torch.Size([2, 3, 16, 224, 224])\n",
      "torch.Size([2, 3, 16, 224, 224])\n",
      "torch.Size([2, 3, 16, 224, 224])\n",
      "torch.Size([2, 3, 16, 224, 224])\n"
     ]
    },
    {
     "name": "stderr",
     "output_type": "stream",
     "text": [
      "2024-03-21 20:45:08,410 - mmaction - INFO - Epoch [29][10/43]\tlr: 3.174e-07, eta: 0:09:09, time: 0.464, data_time: 0.002, memory: 9832, top1_acc: 0.5000, top5_acc: 1.0000, loss_cls: 1.1164, loss: 1.1164\n"
     ]
    },
    {
     "name": "stdout",
     "output_type": "stream",
     "text": [
      "torch.Size([2, 3, 16, 224, 224])\n",
      "torch.Size([2, 3, 16, 224, 224])\n",
      "torch.Size([2, 3, 16, 224, 224])\n",
      "torch.Size([2, 3, 16, 224, 224])\n",
      "torch.Size([2, 3, 16, 224, 224])\n"
     ]
    },
    {
     "name": "stderr",
     "output_type": "stream",
     "text": [
      "2024-03-21 20:45:10,799 - mmaction - INFO - Epoch [29][15/43]\tlr: 3.174e-07, eta: 0:09:05, time: 0.478, data_time: 0.001, memory: 9832, top1_acc: 0.6000, top5_acc: 1.0000, loss_cls: 1.0498, loss: 1.0498\n"
     ]
    },
    {
     "name": "stdout",
     "output_type": "stream",
     "text": [
      "torch.Size([2, 3, 16, 224, 224])\n",
      "torch.Size([2, 3, 16, 224, 224])\n",
      "torch.Size([2, 3, 16, 224, 224])\n",
      "torch.Size([2, 3, 16, 224, 224])\n",
      "torch.Size([2, 3, 16, 224, 224])\n"
     ]
    },
    {
     "name": "stderr",
     "output_type": "stream",
     "text": [
      "2024-03-21 20:45:13,142 - mmaction - INFO - Epoch [29][20/43]\tlr: 3.174e-07, eta: 0:09:02, time: 0.468, data_time: 0.001, memory: 9832, top1_acc: 0.7000, top5_acc: 1.0000, loss_cls: 0.9206, loss: 0.9206\n"
     ]
    },
    {
     "name": "stdout",
     "output_type": "stream",
     "text": [
      "torch.Size([2, 3, 16, 224, 224])\n",
      "torch.Size([2, 3, 16, 224, 224])\n",
      "torch.Size([2, 3, 16, 224, 224])\n",
      "torch.Size([2, 3, 16, 224, 224])\n",
      "torch.Size([2, 3, 16, 224, 224])\n"
     ]
    },
    {
     "name": "stderr",
     "output_type": "stream",
     "text": [
      "2024-03-21 20:45:15,464 - mmaction - INFO - Epoch [29][25/43]\tlr: 3.174e-07, eta: 0:08:59, time: 0.465, data_time: 0.002, memory: 9832, top1_acc: 0.7000, top5_acc: 1.0000, loss_cls: 0.9833, loss: 0.9833\n"
     ]
    },
    {
     "name": "stdout",
     "output_type": "stream",
     "text": [
      "torch.Size([2, 3, 16, 224, 224])\n",
      "torch.Size([2, 3, 16, 224, 224])\n",
      "torch.Size([2, 3, 16, 224, 224])\n",
      "torch.Size([2, 3, 16, 224, 224])\n",
      "torch.Size([2, 3, 16, 224, 224])\n"
     ]
    },
    {
     "name": "stderr",
     "output_type": "stream",
     "text": [
      "2024-03-21 20:45:17,843 - mmaction - INFO - Epoch [29][30/43]\tlr: 3.174e-07, eta: 0:08:55, time: 0.476, data_time: 0.001, memory: 9832, top1_acc: 0.5000, top5_acc: 1.0000, loss_cls: 1.1068, loss: 1.1068\n"
     ]
    },
    {
     "name": "stdout",
     "output_type": "stream",
     "text": [
      "torch.Size([2, 3, 16, 224, 224])\n",
      "torch.Size([2, 3, 16, 224, 224])\n",
      "torch.Size([2, 3, 16, 224, 224])\n",
      "torch.Size([2, 3, 16, 224, 224])\n",
      "torch.Size([2, 3, 16, 224, 224])\n"
     ]
    },
    {
     "name": "stderr",
     "output_type": "stream",
     "text": [
      "2024-03-21 20:45:20,186 - mmaction - INFO - Epoch [29][35/43]\tlr: 3.174e-07, eta: 0:08:52, time: 0.469, data_time: 0.001, memory: 9832, top1_acc: 0.7000, top5_acc: 1.0000, loss_cls: 0.9932, loss: 0.9932\n"
     ]
    },
    {
     "name": "stdout",
     "output_type": "stream",
     "text": [
      "torch.Size([2, 3, 16, 224, 224])\n",
      "torch.Size([2, 3, 16, 224, 224])\n",
      "torch.Size([2, 3, 16, 224, 224])\n",
      "torch.Size([2, 3, 16, 224, 224])\n",
      "torch.Size([2, 3, 16, 224, 224])\n"
     ]
    },
    {
     "name": "stderr",
     "output_type": "stream",
     "text": [
      "2024-03-21 20:45:22,611 - mmaction - INFO - Epoch [29][40/43]\tlr: 3.174e-07, eta: 0:08:49, time: 0.485, data_time: 0.001, memory: 9832, top1_acc: 0.7000, top5_acc: 1.0000, loss_cls: 0.9766, loss: 0.9766\n"
     ]
    },
    {
     "name": "stdout",
     "output_type": "stream",
     "text": [
      "torch.Size([2, 3, 16, 224, 224])\n",
      "torch.Size([2, 3, 16, 224, 224])\n",
      "torch.Size([2, 3, 16, 224, 224])\n",
      "torch.Size([2, 3, 16, 224, 224])\n",
      "torch.Size([2, 3, 16, 224, 224])\n",
      "torch.Size([2, 3, 16, 224, 224])\n",
      "torch.Size([2, 3, 16, 224, 224])\n",
      "torch.Size([2, 3, 16, 224, 224])\n"
     ]
    },
    {
     "name": "stderr",
     "output_type": "stream",
     "text": [
      "2024-03-21 20:45:32,438 - mmaction - INFO - Epoch [30][5/43]\tlr: 2.935e-07, eta: 0:08:46, time: 1.604, data_time: 1.077, memory: 9832, top1_acc: 0.3000, top5_acc: 1.0000, loss_cls: 1.0551, loss: 1.0551\n"
     ]
    },
    {
     "name": "stdout",
     "output_type": "stream",
     "text": [
      "torch.Size([2, 3, 16, 224, 224])\n",
      "torch.Size([2, 3, 16, 224, 224])\n",
      "torch.Size([2, 3, 16, 224, 224])\n",
      "torch.Size([2, 3, 16, 224, 224])\n",
      "torch.Size([2, 3, 16, 224, 224])\n"
     ]
    },
    {
     "name": "stderr",
     "output_type": "stream",
     "text": [
      "2024-03-21 20:45:34,813 - mmaction - INFO - Epoch [30][10/43]\tlr: 2.935e-07, eta: 0:08:43, time: 0.475, data_time: 0.001, memory: 9832, top1_acc: 0.3000, top5_acc: 1.0000, loss_cls: 1.1026, loss: 1.1026\n"
     ]
    },
    {
     "name": "stdout",
     "output_type": "stream",
     "text": [
      "torch.Size([2, 3, 16, 224, 224])\n",
      "torch.Size([2, 3, 16, 224, 224])\n",
      "torch.Size([2, 3, 16, 224, 224])\n",
      "torch.Size([2, 3, 16, 224, 224])\n",
      "torch.Size([2, 3, 16, 224, 224])\n"
     ]
    },
    {
     "name": "stderr",
     "output_type": "stream",
     "text": [
      "2024-03-21 20:45:37,153 - mmaction - INFO - Epoch [30][15/43]\tlr: 2.935e-07, eta: 0:08:40, time: 0.468, data_time: 0.001, memory: 9832, top1_acc: 0.7000, top5_acc: 1.0000, loss_cls: 0.9623, loss: 0.9623\n"
     ]
    },
    {
     "name": "stdout",
     "output_type": "stream",
     "text": [
      "torch.Size([2, 3, 16, 224, 224])\n",
      "torch.Size([2, 3, 16, 224, 224])\n",
      "torch.Size([2, 3, 16, 224, 224])\n",
      "torch.Size([2, 3, 16, 224, 224])\n",
      "torch.Size([2, 3, 16, 224, 224])\n"
     ]
    },
    {
     "name": "stderr",
     "output_type": "stream",
     "text": [
      "2024-03-21 20:45:39,523 - mmaction - INFO - Epoch [30][20/43]\tlr: 2.935e-07, eta: 0:08:36, time: 0.474, data_time: 0.001, memory: 9832, top1_acc: 0.5000, top5_acc: 1.0000, loss_cls: 1.0415, loss: 1.0415\n"
     ]
    },
    {
     "name": "stdout",
     "output_type": "stream",
     "text": [
      "torch.Size([2, 3, 16, 224, 224])\n",
      "torch.Size([2, 3, 16, 224, 224])\n",
      "torch.Size([2, 3, 16, 224, 224])\n",
      "torch.Size([2, 3, 16, 224, 224])\n",
      "torch.Size([2, 3, 16, 224, 224])\n"
     ]
    },
    {
     "name": "stderr",
     "output_type": "stream",
     "text": [
      "2024-03-21 20:45:41,890 - mmaction - INFO - Epoch [30][25/43]\tlr: 2.935e-07, eta: 0:08:33, time: 0.473, data_time: 0.001, memory: 9832, top1_acc: 0.3000, top5_acc: 1.0000, loss_cls: 1.0969, loss: 1.0969\n"
     ]
    },
    {
     "name": "stdout",
     "output_type": "stream",
     "text": [
      "torch.Size([2, 3, 16, 224, 224])\n",
      "torch.Size([2, 3, 16, 224, 224])\n",
      "torch.Size([2, 3, 16, 224, 224])\n",
      "torch.Size([2, 3, 16, 224, 224])\n",
      "torch.Size([2, 3, 16, 224, 224])\n"
     ]
    },
    {
     "name": "stderr",
     "output_type": "stream",
     "text": [
      "2024-03-21 20:45:44,199 - mmaction - INFO - Epoch [30][30/43]\tlr: 2.935e-07, eta: 0:08:30, time: 0.463, data_time: 0.002, memory: 9832, top1_acc: 0.5000, top5_acc: 1.0000, loss_cls: 1.0263, loss: 1.0263\n"
     ]
    },
    {
     "name": "stdout",
     "output_type": "stream",
     "text": [
      "torch.Size([2, 3, 16, 224, 224])\n",
      "torch.Size([2, 3, 16, 224, 224])\n",
      "torch.Size([2, 3, 16, 224, 224])\n",
      "torch.Size([2, 3, 16, 224, 224])\n",
      "torch.Size([2, 3, 16, 224, 224])\n"
     ]
    },
    {
     "name": "stderr",
     "output_type": "stream",
     "text": [
      "2024-03-21 20:45:46,589 - mmaction - INFO - Epoch [30][35/43]\tlr: 2.935e-07, eta: 0:08:26, time: 0.478, data_time: 0.001, memory: 9832, top1_acc: 0.4000, top5_acc: 1.0000, loss_cls: 1.0542, loss: 1.0542\n"
     ]
    },
    {
     "name": "stdout",
     "output_type": "stream",
     "text": [
      "torch.Size([2, 3, 16, 224, 224])\n",
      "torch.Size([2, 3, 16, 224, 224])\n",
      "torch.Size([2, 3, 16, 224, 224])\n",
      "torch.Size([2, 3, 16, 224, 224])\n",
      "torch.Size([2, 3, 16, 224, 224])\n"
     ]
    },
    {
     "name": "stderr",
     "output_type": "stream",
     "text": [
      "2024-03-21 20:45:48,922 - mmaction - INFO - Epoch [30][40/43]\tlr: 2.935e-07, eta: 0:08:23, time: 0.467, data_time: 0.001, memory: 9832, top1_acc: 0.4000, top5_acc: 1.0000, loss_cls: 1.0918, loss: 1.0918\n"
     ]
    },
    {
     "name": "stdout",
     "output_type": "stream",
     "text": [
      "torch.Size([2, 3, 16, 224, 224])\n",
      "torch.Size([2, 3, 16, 224, 224])\n",
      "torch.Size([2, 3, 16, 224, 224])\n"
     ]
    },
    {
     "name": "stderr",
     "output_type": "stream",
     "text": [
      "2024-03-21 20:45:50,722 - mmaction - INFO - Saving checkpoint at 30 epochs\n"
     ]
    },
    {
     "name": "stdout",
     "output_type": "stream",
     "text": [
      "[>>>>>>>>>>>>>>>>>>>>>>>>>>>>>>>>>>>>>>>>>>>>>>>>>>] 23/23, 3.0 task/s, elapsed: 8s, ETA:     0s"
     ]
    },
    {
     "name": "stderr",
     "output_type": "stream",
     "text": [
      "2024-03-21 20:46:00,714 - mmaction - INFO - Evaluating top_k_accuracy ...\n",
      "2024-03-21 20:46:00,714 - mmaction - INFO - \n",
      "top1_acc\t0.5652\n",
      "top5_acc\t1.0000\n",
      "2024-03-21 20:46:00,715 - mmaction - INFO - Evaluating mean_class_accuracy ...\n",
      "2024-03-21 20:46:00,716 - mmaction - INFO - \n",
      "mean_acc\t0.4508\n",
      "2024-03-21 20:46:00,716 - mmaction - INFO - Epoch(val) [30][23]\ttop1_acc: 0.5652, top5_acc: 1.0000, mean_class_accuracy: 0.4508\n"
     ]
    },
    {
     "name": "stdout",
     "output_type": "stream",
     "text": [
      "mean_class_accuracy\n",
      "[1 1 0 1 0 1 0 1 1 0 0 0 1 1 0 0 1 0 0 0 0 1 0]\n",
      "[0, 1, 1, 0, 0, 2, 1, 1, 1, 0, 0, 0, 0, 1, 0, 0, 1, 0, 0, 2, 1, 2, 2]\n",
      "torch.Size([2, 3, 16, 224, 224])\n",
      "torch.Size([2, 3, 16, 224, 224])\n",
      "torch.Size([2, 3, 16, 224, 224])\n",
      "torch.Size([2, 3, 16, 224, 224])\n",
      "torch.Size([2, 3, 16, 224, 224])\n"
     ]
    },
    {
     "name": "stderr",
     "output_type": "stream",
     "text": [
      "2024-03-21 20:46:08,975 - mmaction - INFO - Epoch [31][5/43]\tlr: 2.699e-07, eta: 0:08:21, time: 1.651, data_time: 1.144, memory: 9832, top1_acc: 0.4000, top5_acc: 1.0000, loss_cls: 1.0296, loss: 1.0296\n"
     ]
    },
    {
     "name": "stdout",
     "output_type": "stream",
     "text": [
      "torch.Size([2, 3, 16, 224, 224])\n",
      "torch.Size([2, 3, 16, 224, 224])\n",
      "torch.Size([2, 3, 16, 224, 224])\n",
      "torch.Size([2, 3, 16, 224, 224])\n",
      "torch.Size([2, 3, 16, 224, 224])\n"
     ]
    },
    {
     "name": "stderr",
     "output_type": "stream",
     "text": [
      "2024-03-21 20:46:11,328 - mmaction - INFO - Epoch [31][10/43]\tlr: 2.699e-07, eta: 0:08:18, time: 0.471, data_time: 0.001, memory: 9832, top1_acc: 0.6000, top5_acc: 1.0000, loss_cls: 1.0327, loss: 1.0327\n"
     ]
    },
    {
     "name": "stdout",
     "output_type": "stream",
     "text": [
      "torch.Size([2, 3, 16, 224, 224])\n",
      "torch.Size([2, 3, 16, 224, 224])\n",
      "torch.Size([2, 3, 16, 224, 224])\n",
      "torch.Size([2, 3, 16, 224, 224])\n",
      "torch.Size([2, 3, 16, 224, 224])\n"
     ]
    },
    {
     "name": "stderr",
     "output_type": "stream",
     "text": [
      "2024-03-21 20:46:13,721 - mmaction - INFO - Epoch [31][15/43]\tlr: 2.699e-07, eta: 0:08:14, time: 0.478, data_time: 0.001, memory: 9832, top1_acc: 0.5000, top5_acc: 1.0000, loss_cls: 1.0326, loss: 1.0326\n"
     ]
    },
    {
     "name": "stdout",
     "output_type": "stream",
     "text": [
      "torch.Size([2, 3, 16, 224, 224])\n",
      "torch.Size([2, 3, 16, 224, 224])\n",
      "torch.Size([2, 3, 16, 224, 224])\n",
      "torch.Size([2, 3, 16, 224, 224])\n",
      "torch.Size([2, 3, 16, 224, 224])\n"
     ]
    },
    {
     "name": "stderr",
     "output_type": "stream",
     "text": [
      "2024-03-21 20:46:16,054 - mmaction - INFO - Epoch [31][20/43]\tlr: 2.699e-07, eta: 0:08:11, time: 0.467, data_time: 0.001, memory: 9832, top1_acc: 0.6000, top5_acc: 1.0000, loss_cls: 0.9889, loss: 0.9889\n"
     ]
    },
    {
     "name": "stdout",
     "output_type": "stream",
     "text": [
      "torch.Size([2, 3, 16, 224, 224])\n",
      "torch.Size([2, 3, 16, 224, 224])\n",
      "torch.Size([2, 3, 16, 224, 224])\n",
      "torch.Size([2, 3, 16, 224, 224])\n",
      "torch.Size([2, 3, 16, 224, 224])\n"
     ]
    },
    {
     "name": "stderr",
     "output_type": "stream",
     "text": [
      "2024-03-21 20:46:18,424 - mmaction - INFO - Epoch [31][25/43]\tlr: 2.699e-07, eta: 0:08:08, time: 0.474, data_time: 0.001, memory: 9832, top1_acc: 0.3000, top5_acc: 1.0000, loss_cls: 1.1359, loss: 1.1359\n"
     ]
    },
    {
     "name": "stdout",
     "output_type": "stream",
     "text": [
      "torch.Size([2, 3, 16, 224, 224])\n",
      "torch.Size([2, 3, 16, 224, 224])\n",
      "torch.Size([2, 3, 16, 224, 224])\n",
      "torch.Size([2, 3, 16, 224, 224])\n",
      "torch.Size([2, 3, 16, 224, 224])\n"
     ]
    },
    {
     "name": "stderr",
     "output_type": "stream",
     "text": [
      "2024-03-21 20:46:20,817 - mmaction - INFO - Epoch [31][30/43]\tlr: 2.699e-07, eta: 0:08:04, time: 0.478, data_time: 0.001, memory: 9832, top1_acc: 0.3000, top5_acc: 1.0000, loss_cls: 1.0819, loss: 1.0819\n"
     ]
    },
    {
     "name": "stdout",
     "output_type": "stream",
     "text": [
      "torch.Size([2, 3, 16, 224, 224])\n",
      "torch.Size([2, 3, 16, 224, 224])\n",
      "torch.Size([2, 3, 16, 224, 224])\n",
      "torch.Size([2, 3, 16, 224, 224])\n",
      "torch.Size([2, 3, 16, 224, 224])\n"
     ]
    },
    {
     "name": "stderr",
     "output_type": "stream",
     "text": [
      "2024-03-21 20:46:23,183 - mmaction - INFO - Epoch [31][35/43]\tlr: 2.699e-07, eta: 0:08:01, time: 0.474, data_time: 0.002, memory: 9832, top1_acc: 0.5000, top5_acc: 1.0000, loss_cls: 1.0159, loss: 1.0159\n"
     ]
    },
    {
     "name": "stdout",
     "output_type": "stream",
     "text": [
      "torch.Size([2, 3, 16, 224, 224])\n",
      "torch.Size([2, 3, 16, 224, 224])\n",
      "torch.Size([2, 3, 16, 224, 224])\n",
      "torch.Size([2, 3, 16, 224, 224])\n",
      "torch.Size([2, 3, 16, 224, 224])\n"
     ]
    },
    {
     "name": "stderr",
     "output_type": "stream",
     "text": [
      "2024-03-21 20:46:25,621 - mmaction - INFO - Epoch [31][40/43]\tlr: 2.699e-07, eta: 0:07:58, time: 0.488, data_time: 0.001, memory: 9832, top1_acc: 0.6000, top5_acc: 1.0000, loss_cls: 1.0511, loss: 1.0511\n"
     ]
    },
    {
     "name": "stdout",
     "output_type": "stream",
     "text": [
      "torch.Size([2, 3, 16, 224, 224])\n",
      "torch.Size([2, 3, 16, 224, 224])\n",
      "torch.Size([2, 3, 16, 224, 224])\n",
      "torch.Size([2, 3, 16, 224, 224])\n",
      "torch.Size([2, 3, 16, 224, 224])\n",
      "torch.Size([2, 3, 16, 224, 224])\n",
      "torch.Size([2, 3, 16, 224, 224])\n",
      "torch.Size([2, 3, 16, 224, 224])\n"
     ]
    },
    {
     "name": "stderr",
     "output_type": "stream",
     "text": [
      "2024-03-21 20:46:35,915 - mmaction - INFO - Epoch [32][5/43]\tlr: 2.468e-07, eta: 0:07:56, time: 1.711, data_time: 1.160, memory: 9832, top1_acc: 0.5000, top5_acc: 1.0000, loss_cls: 1.0484, loss: 1.0484\n"
     ]
    },
    {
     "name": "stdout",
     "output_type": "stream",
     "text": [
      "torch.Size([2, 3, 16, 224, 224])\n",
      "torch.Size([2, 3, 16, 224, 224])\n",
      "torch.Size([2, 3, 16, 224, 224])\n",
      "torch.Size([2, 3, 16, 224, 224])\n",
      "torch.Size([2, 3, 16, 224, 224])\n"
     ]
    },
    {
     "name": "stderr",
     "output_type": "stream",
     "text": [
      "2024-03-21 20:46:38,246 - mmaction - INFO - Epoch [32][10/43]\tlr: 2.468e-07, eta: 0:07:52, time: 0.466, data_time: 0.001, memory: 9832, top1_acc: 0.4000, top5_acc: 1.0000, loss_cls: 1.0199, loss: 1.0199\n"
     ]
    },
    {
     "name": "stdout",
     "output_type": "stream",
     "text": [
      "torch.Size([2, 3, 16, 224, 224])\n",
      "torch.Size([2, 3, 16, 224, 224])\n",
      "torch.Size([2, 3, 16, 224, 224])\n",
      "torch.Size([2, 3, 16, 224, 224])\n",
      "torch.Size([2, 3, 16, 224, 224])\n"
     ]
    },
    {
     "name": "stderr",
     "output_type": "stream",
     "text": [
      "2024-03-21 20:46:40,604 - mmaction - INFO - Epoch [32][15/43]\tlr: 2.468e-07, eta: 0:07:49, time: 0.472, data_time: 0.001, memory: 9832, top1_acc: 0.8000, top5_acc: 1.0000, loss_cls: 0.9662, loss: 0.9662\n"
     ]
    },
    {
     "name": "stdout",
     "output_type": "stream",
     "text": [
      "torch.Size([2, 3, 16, 224, 224])\n",
      "torch.Size([2, 3, 16, 224, 224])\n",
      "torch.Size([2, 3, 16, 224, 224])\n",
      "torch.Size([2, 3, 16, 224, 224])\n",
      "torch.Size([2, 3, 16, 224, 224])\n"
     ]
    },
    {
     "name": "stderr",
     "output_type": "stream",
     "text": [
      "2024-03-21 20:46:42,978 - mmaction - INFO - Epoch [32][20/43]\tlr: 2.468e-07, eta: 0:07:46, time: 0.475, data_time: 0.001, memory: 9832, top1_acc: 0.4000, top5_acc: 1.0000, loss_cls: 1.1131, loss: 1.1131\n"
     ]
    },
    {
     "name": "stdout",
     "output_type": "stream",
     "text": [
      "torch.Size([2, 3, 16, 224, 224])\n",
      "torch.Size([2, 3, 16, 224, 224])\n",
      "torch.Size([2, 3, 16, 224, 224])\n",
      "torch.Size([2, 3, 16, 224, 224])\n",
      "torch.Size([2, 3, 16, 224, 224])\n"
     ]
    },
    {
     "name": "stderr",
     "output_type": "stream",
     "text": [
      "2024-03-21 20:46:45,338 - mmaction - INFO - Epoch [32][25/43]\tlr: 2.468e-07, eta: 0:07:43, time: 0.472, data_time: 0.001, memory: 9832, top1_acc: 0.3000, top5_acc: 1.0000, loss_cls: 0.9814, loss: 0.9814\n"
     ]
    },
    {
     "name": "stdout",
     "output_type": "stream",
     "text": [
      "torch.Size([2, 3, 16, 224, 224])\n",
      "torch.Size([2, 3, 16, 224, 224])\n",
      "torch.Size([2, 3, 16, 224, 224])\n",
      "torch.Size([2, 3, 16, 224, 224])\n",
      "torch.Size([2, 3, 16, 224, 224])\n"
     ]
    },
    {
     "name": "stderr",
     "output_type": "stream",
     "text": [
      "2024-03-21 20:46:47,745 - mmaction - INFO - Epoch [32][30/43]\tlr: 2.468e-07, eta: 0:07:39, time: 0.482, data_time: 0.001, memory: 9832, top1_acc: 0.5000, top5_acc: 1.0000, loss_cls: 0.9592, loss: 0.9592\n"
     ]
    },
    {
     "name": "stdout",
     "output_type": "stream",
     "text": [
      "torch.Size([2, 3, 16, 224, 224])\n",
      "torch.Size([2, 3, 16, 224, 224])\n",
      "torch.Size([2, 3, 16, 224, 224])\n",
      "torch.Size([2, 3, 16, 224, 224])\n",
      "torch.Size([2, 3, 16, 224, 224])\n"
     ]
    },
    {
     "name": "stderr",
     "output_type": "stream",
     "text": [
      "2024-03-21 20:46:50,175 - mmaction - INFO - Epoch [32][35/43]\tlr: 2.468e-07, eta: 0:07:36, time: 0.485, data_time: 0.001, memory: 9832, top1_acc: 0.5000, top5_acc: 1.0000, loss_cls: 1.0146, loss: 1.0146\n"
     ]
    },
    {
     "name": "stdout",
     "output_type": "stream",
     "text": [
      "torch.Size([2, 3, 16, 224, 224])\n",
      "torch.Size([2, 3, 16, 224, 224])\n",
      "torch.Size([2, 3, 16, 224, 224])\n",
      "torch.Size([2, 3, 16, 224, 224])\n",
      "torch.Size([2, 3, 16, 224, 224])\n"
     ]
    },
    {
     "name": "stderr",
     "output_type": "stream",
     "text": [
      "2024-03-21 20:46:52,554 - mmaction - INFO - Epoch [32][40/43]\tlr: 2.468e-07, eta: 0:07:33, time: 0.477, data_time: 0.002, memory: 9832, top1_acc: 0.4000, top5_acc: 1.0000, loss_cls: 1.0833, loss: 1.0833\n"
     ]
    },
    {
     "name": "stdout",
     "output_type": "stream",
     "text": [
      "torch.Size([2, 3, 16, 224, 224])\n",
      "torch.Size([2, 3, 16, 224, 224])\n",
      "torch.Size([2, 3, 16, 224, 224])\n",
      "torch.Size([2, 3, 16, 224, 224])\n",
      "torch.Size([2, 3, 16, 224, 224])\n",
      "torch.Size([2, 3, 16, 224, 224])\n",
      "torch.Size([2, 3, 16, 224, 224])\n",
      "torch.Size([2, 3, 16, 224, 224])\n"
     ]
    },
    {
     "name": "stderr",
     "output_type": "stream",
     "text": [
      "2024-03-21 20:47:02,324 - mmaction - INFO - Epoch [33][5/43]\tlr: 2.243e-07, eta: 0:07:30, time: 1.592, data_time: 1.089, memory: 9832, top1_acc: 0.5000, top5_acc: 1.0000, loss_cls: 1.0529, loss: 1.0529\n"
     ]
    },
    {
     "name": "stdout",
     "output_type": "stream",
     "text": [
      "torch.Size([2, 3, 16, 224, 224])\n",
      "torch.Size([2, 3, 16, 224, 224])\n",
      "torch.Size([2, 3, 16, 224, 224])\n",
      "torch.Size([2, 3, 16, 224, 224])\n",
      "torch.Size([2, 3, 16, 224, 224])\n"
     ]
    },
    {
     "name": "stderr",
     "output_type": "stream",
     "text": [
      "2024-03-21 20:47:04,686 - mmaction - INFO - Epoch [33][10/43]\tlr: 2.243e-07, eta: 0:07:27, time: 0.472, data_time: 0.001, memory: 9832, top1_acc: 0.3000, top5_acc: 1.0000, loss_cls: 1.1047, loss: 1.1047\n"
     ]
    },
    {
     "name": "stdout",
     "output_type": "stream",
     "text": [
      "torch.Size([2, 3, 16, 224, 224])\n",
      "torch.Size([2, 3, 16, 224, 224])\n",
      "torch.Size([2, 3, 16, 224, 224])\n",
      "torch.Size([2, 3, 16, 224, 224])\n",
      "torch.Size([2, 3, 16, 224, 224])\n"
     ]
    },
    {
     "name": "stderr",
     "output_type": "stream",
     "text": [
      "2024-03-21 20:47:07,027 - mmaction - INFO - Epoch [33][15/43]\tlr: 2.243e-07, eta: 0:07:24, time: 0.468, data_time: 0.001, memory: 9832, top1_acc: 0.4000, top5_acc: 1.0000, loss_cls: 1.0071, loss: 1.0071\n"
     ]
    },
    {
     "name": "stdout",
     "output_type": "stream",
     "text": [
      "torch.Size([2, 3, 16, 224, 224])\n",
      "torch.Size([2, 3, 16, 224, 224])\n",
      "torch.Size([2, 3, 16, 224, 224])\n",
      "torch.Size([2, 3, 16, 224, 224])\n",
      "torch.Size([2, 3, 16, 224, 224])\n"
     ]
    },
    {
     "name": "stderr",
     "output_type": "stream",
     "text": [
      "2024-03-21 20:47:09,442 - mmaction - INFO - Epoch [33][20/43]\tlr: 2.243e-07, eta: 0:07:20, time: 0.483, data_time: 0.002, memory: 9832, top1_acc: 0.2000, top5_acc: 1.0000, loss_cls: 1.2426, loss: 1.2426\n"
     ]
    },
    {
     "name": "stdout",
     "output_type": "stream",
     "text": [
      "torch.Size([2, 3, 16, 224, 224])\n",
      "torch.Size([2, 3, 16, 224, 224])\n",
      "torch.Size([2, 3, 16, 224, 224])\n",
      "torch.Size([2, 3, 16, 224, 224])\n",
      "torch.Size([2, 3, 16, 224, 224])\n"
     ]
    },
    {
     "name": "stderr",
     "output_type": "stream",
     "text": [
      "2024-03-21 20:47:11,838 - mmaction - INFO - Epoch [33][25/43]\tlr: 2.243e-07, eta: 0:07:17, time: 0.479, data_time: 0.001, memory: 9832, top1_acc: 0.4000, top5_acc: 1.0000, loss_cls: 0.9995, loss: 0.9995\n"
     ]
    },
    {
     "name": "stdout",
     "output_type": "stream",
     "text": [
      "torch.Size([2, 3, 16, 224, 224])\n",
      "torch.Size([2, 3, 16, 224, 224])\n",
      "torch.Size([2, 3, 16, 224, 224])\n",
      "torch.Size([2, 3, 16, 224, 224])\n",
      "torch.Size([2, 3, 16, 224, 224])\n"
     ]
    },
    {
     "name": "stderr",
     "output_type": "stream",
     "text": [
      "2024-03-21 20:47:14,170 - mmaction - INFO - Epoch [33][30/43]\tlr: 2.243e-07, eta: 0:07:14, time: 0.466, data_time: 0.002, memory: 9832, top1_acc: 0.6000, top5_acc: 1.0000, loss_cls: 0.9799, loss: 0.9799\n"
     ]
    },
    {
     "name": "stdout",
     "output_type": "stream",
     "text": [
      "torch.Size([2, 3, 16, 224, 224])\n",
      "torch.Size([2, 3, 16, 224, 224])\n",
      "torch.Size([2, 3, 16, 224, 224])\n",
      "torch.Size([2, 3, 16, 224, 224])\n",
      "torch.Size([2, 3, 16, 224, 224])\n"
     ]
    },
    {
     "name": "stderr",
     "output_type": "stream",
     "text": [
      "2024-03-21 20:47:16,548 - mmaction - INFO - Epoch [33][35/43]\tlr: 2.243e-07, eta: 0:07:11, time: 0.476, data_time: 0.001, memory: 9832, top1_acc: 0.2000, top5_acc: 1.0000, loss_cls: 1.0840, loss: 1.0840\n"
     ]
    },
    {
     "name": "stdout",
     "output_type": "stream",
     "text": [
      "torch.Size([2, 3, 16, 224, 224])\n",
      "torch.Size([2, 3, 16, 224, 224])\n",
      "torch.Size([2, 3, 16, 224, 224])\n",
      "torch.Size([2, 3, 16, 224, 224])\n",
      "torch.Size([2, 3, 16, 224, 224])\n"
     ]
    },
    {
     "name": "stderr",
     "output_type": "stream",
     "text": [
      "2024-03-21 20:47:18,957 - mmaction - INFO - Epoch [33][40/43]\tlr: 2.243e-07, eta: 0:07:08, time: 0.481, data_time: 0.001, memory: 9832, top1_acc: 0.4000, top5_acc: 1.0000, loss_cls: 1.0668, loss: 1.0668\n"
     ]
    },
    {
     "name": "stdout",
     "output_type": "stream",
     "text": [
      "torch.Size([2, 3, 16, 224, 224])\n",
      "torch.Size([2, 3, 16, 224, 224])\n",
      "torch.Size([2, 3, 16, 224, 224])\n",
      "torch.Size([2, 3, 16, 224, 224])\n",
      "torch.Size([2, 3, 16, 224, 224])\n",
      "torch.Size([2, 3, 16, 224, 224])\n",
      "torch.Size([2, 3, 16, 224, 224])\n",
      "torch.Size([2, 3, 16, 224, 224])\n"
     ]
    },
    {
     "name": "stderr",
     "output_type": "stream",
     "text": [
      "2024-03-21 20:47:28,762 - mmaction - INFO - Epoch [34][5/43]\tlr: 2.024e-07, eta: 0:07:05, time: 1.604, data_time: 1.088, memory: 9832, top1_acc: 0.6000, top5_acc: 1.0000, loss_cls: 0.9956, loss: 0.9956\n"
     ]
    },
    {
     "name": "stdout",
     "output_type": "stream",
     "text": [
      "torch.Size([2, 3, 16, 224, 224])\n",
      "torch.Size([2, 3, 16, 224, 224])\n",
      "torch.Size([2, 3, 16, 224, 224])\n",
      "torch.Size([2, 3, 16, 224, 224])\n",
      "torch.Size([2, 3, 16, 224, 224])\n"
     ]
    },
    {
     "name": "stderr",
     "output_type": "stream",
     "text": [
      "2024-03-21 20:47:31,096 - mmaction - INFO - Epoch [34][10/43]\tlr: 2.024e-07, eta: 0:07:01, time: 0.467, data_time: 0.002, memory: 9832, top1_acc: 0.4000, top5_acc: 1.0000, loss_cls: 1.0466, loss: 1.0466\n"
     ]
    },
    {
     "name": "stdout",
     "output_type": "stream",
     "text": [
      "torch.Size([2, 3, 16, 224, 224])\n",
      "torch.Size([2, 3, 16, 224, 224])\n",
      "torch.Size([2, 3, 16, 224, 224])\n",
      "torch.Size([2, 3, 16, 224, 224])\n",
      "torch.Size([2, 3, 16, 224, 224])\n"
     ]
    },
    {
     "name": "stderr",
     "output_type": "stream",
     "text": [
      "2024-03-21 20:47:33,502 - mmaction - INFO - Epoch [34][15/43]\tlr: 2.024e-07, eta: 0:06:58, time: 0.481, data_time: 0.001, memory: 9832, top1_acc: 0.2000, top5_acc: 1.0000, loss_cls: 1.0926, loss: 1.0926\n"
     ]
    },
    {
     "name": "stdout",
     "output_type": "stream",
     "text": [
      "torch.Size([2, 3, 16, 224, 224])\n",
      "torch.Size([2, 3, 16, 224, 224])\n",
      "torch.Size([2, 3, 16, 224, 224])\n",
      "torch.Size([2, 3, 16, 224, 224])\n",
      "torch.Size([2, 3, 16, 224, 224])\n"
     ]
    },
    {
     "name": "stderr",
     "output_type": "stream",
     "text": [
      "2024-03-21 20:47:35,879 - mmaction - INFO - Epoch [34][20/43]\tlr: 2.024e-07, eta: 0:06:55, time: 0.475, data_time: 0.001, memory: 9832, top1_acc: 0.6000, top5_acc: 1.0000, loss_cls: 0.9838, loss: 0.9838\n"
     ]
    },
    {
     "name": "stdout",
     "output_type": "stream",
     "text": [
      "torch.Size([2, 3, 16, 224, 224])\n",
      "torch.Size([2, 3, 16, 224, 224])\n",
      "torch.Size([2, 3, 16, 224, 224])\n",
      "torch.Size([2, 3, 16, 224, 224])\n",
      "torch.Size([2, 3, 16, 224, 224])\n"
     ]
    },
    {
     "name": "stderr",
     "output_type": "stream",
     "text": [
      "2024-03-21 20:47:38,258 - mmaction - INFO - Epoch [34][25/43]\tlr: 2.024e-07, eta: 0:06:52, time: 0.476, data_time: 0.001, memory: 9832, top1_acc: 0.7000, top5_acc: 1.0000, loss_cls: 0.9455, loss: 0.9455\n"
     ]
    },
    {
     "name": "stdout",
     "output_type": "stream",
     "text": [
      "torch.Size([2, 3, 16, 224, 224])\n",
      "torch.Size([2, 3, 16, 224, 224])\n",
      "torch.Size([2, 3, 16, 224, 224])\n",
      "torch.Size([2, 3, 16, 224, 224])\n",
      "torch.Size([2, 3, 16, 224, 224])\n"
     ]
    },
    {
     "name": "stderr",
     "output_type": "stream",
     "text": [
      "2024-03-21 20:47:40,667 - mmaction - INFO - Epoch [34][30/43]\tlr: 2.024e-07, eta: 0:06:49, time: 0.482, data_time: 0.001, memory: 9832, top1_acc: 0.3000, top5_acc: 1.0000, loss_cls: 1.0553, loss: 1.0553\n"
     ]
    },
    {
     "name": "stdout",
     "output_type": "stream",
     "text": [
      "torch.Size([2, 3, 16, 224, 224])\n",
      "torch.Size([2, 3, 16, 224, 224])\n",
      "torch.Size([2, 3, 16, 224, 224])\n",
      "torch.Size([2, 3, 16, 224, 224])\n",
      "torch.Size([2, 3, 16, 224, 224])\n"
     ]
    },
    {
     "name": "stderr",
     "output_type": "stream",
     "text": [
      "2024-03-21 20:47:43,013 - mmaction - INFO - Epoch [34][35/43]\tlr: 2.024e-07, eta: 0:06:45, time: 0.469, data_time: 0.001, memory: 9832, top1_acc: 0.5000, top5_acc: 1.0000, loss_cls: 1.0463, loss: 1.0463\n"
     ]
    },
    {
     "name": "stdout",
     "output_type": "stream",
     "text": [
      "torch.Size([2, 3, 16, 224, 224])\n",
      "torch.Size([2, 3, 16, 224, 224])\n",
      "torch.Size([2, 3, 16, 224, 224])\n",
      "torch.Size([2, 3, 16, 224, 224])\n",
      "torch.Size([2, 3, 16, 224, 224])\n"
     ]
    },
    {
     "name": "stderr",
     "output_type": "stream",
     "text": [
      "2024-03-21 20:47:45,344 - mmaction - INFO - Epoch [34][40/43]\tlr: 2.024e-07, eta: 0:06:42, time: 0.466, data_time: 0.001, memory: 9832, top1_acc: 0.5000, top5_acc: 1.0000, loss_cls: 1.0864, loss: 1.0864\n"
     ]
    },
    {
     "name": "stdout",
     "output_type": "stream",
     "text": [
      "torch.Size([2, 3, 16, 224, 224])\n",
      "torch.Size([2, 3, 16, 224, 224])\n",
      "torch.Size([2, 3, 16, 224, 224])\n",
      "torch.Size([2, 3, 16, 224, 224])\n",
      "torch.Size([2, 3, 16, 224, 224])\n",
      "torch.Size([2, 3, 16, 224, 224])\n",
      "torch.Size([2, 3, 16, 224, 224])\n",
      "torch.Size([2, 3, 16, 224, 224])\n"
     ]
    },
    {
     "name": "stderr",
     "output_type": "stream",
     "text": [
      "2024-03-21 20:47:55,173 - mmaction - INFO - Epoch [35][5/43]\tlr: 1.813e-07, eta: 0:06:39, time: 1.603, data_time: 1.090, memory: 9832, top1_acc: 0.7000, top5_acc: 1.0000, loss_cls: 0.9573, loss: 0.9573\n"
     ]
    },
    {
     "name": "stdout",
     "output_type": "stream",
     "text": [
      "torch.Size([2, 3, 16, 224, 224])\n",
      "torch.Size([2, 3, 16, 224, 224])\n",
      "torch.Size([2, 3, 16, 224, 224])\n",
      "torch.Size([2, 3, 16, 224, 224])\n",
      "torch.Size([2, 3, 16, 224, 224])\n"
     ]
    },
    {
     "name": "stderr",
     "output_type": "stream",
     "text": [
      "2024-03-21 20:47:57,584 - mmaction - INFO - Epoch [35][10/43]\tlr: 1.813e-07, eta: 0:06:36, time: 0.482, data_time: 0.001, memory: 9832, top1_acc: 0.4000, top5_acc: 1.0000, loss_cls: 0.9813, loss: 0.9813\n"
     ]
    },
    {
     "name": "stdout",
     "output_type": "stream",
     "text": [
      "torch.Size([2, 3, 16, 224, 224])\n",
      "torch.Size([2, 3, 16, 224, 224])\n",
      "torch.Size([2, 3, 16, 224, 224])\n",
      "torch.Size([2, 3, 16, 224, 224])\n",
      "torch.Size([2, 3, 16, 224, 224])\n"
     ]
    },
    {
     "name": "stderr",
     "output_type": "stream",
     "text": [
      "2024-03-21 20:47:59,963 - mmaction - INFO - Epoch [35][15/43]\tlr: 1.813e-07, eta: 0:06:33, time: 0.477, data_time: 0.002, memory: 9832, top1_acc: 0.5000, top5_acc: 1.0000, loss_cls: 1.0281, loss: 1.0281\n"
     ]
    },
    {
     "name": "stdout",
     "output_type": "stream",
     "text": [
      "torch.Size([2, 3, 16, 224, 224])\n",
      "torch.Size([2, 3, 16, 224, 224])\n",
      "torch.Size([2, 3, 16, 224, 224])\n",
      "torch.Size([2, 3, 16, 224, 224])\n",
      "torch.Size([2, 3, 16, 224, 224])\n"
     ]
    },
    {
     "name": "stderr",
     "output_type": "stream",
     "text": [
      "2024-03-21 20:48:02,336 - mmaction - INFO - Epoch [35][20/43]\tlr: 1.813e-07, eta: 0:06:30, time: 0.475, data_time: 0.001, memory: 9832, top1_acc: 0.5000, top5_acc: 1.0000, loss_cls: 0.9770, loss: 0.9770\n"
     ]
    },
    {
     "name": "stdout",
     "output_type": "stream",
     "text": [
      "torch.Size([2, 3, 16, 224, 224])\n",
      "torch.Size([2, 3, 16, 224, 224])\n",
      "torch.Size([2, 3, 16, 224, 224])\n",
      "torch.Size([2, 3, 16, 224, 224])\n",
      "torch.Size([2, 3, 16, 224, 224])\n"
     ]
    },
    {
     "name": "stderr",
     "output_type": "stream",
     "text": [
      "2024-03-21 20:48:04,694 - mmaction - INFO - Epoch [35][25/43]\tlr: 1.813e-07, eta: 0:06:26, time: 0.471, data_time: 0.001, memory: 9832, top1_acc: 0.4000, top5_acc: 1.0000, loss_cls: 1.0601, loss: 1.0601\n"
     ]
    },
    {
     "name": "stdout",
     "output_type": "stream",
     "text": [
      "torch.Size([2, 3, 16, 224, 224])\n",
      "torch.Size([2, 3, 16, 224, 224])\n",
      "torch.Size([2, 3, 16, 224, 224])\n",
      "torch.Size([2, 3, 16, 224, 224])\n",
      "torch.Size([2, 3, 16, 224, 224])\n"
     ]
    },
    {
     "name": "stderr",
     "output_type": "stream",
     "text": [
      "2024-03-21 20:48:07,095 - mmaction - INFO - Epoch [35][30/43]\tlr: 1.813e-07, eta: 0:06:23, time: 0.480, data_time: 0.001, memory: 9832, top1_acc: 0.3000, top5_acc: 1.0000, loss_cls: 1.0704, loss: 1.0704\n"
     ]
    },
    {
     "name": "stdout",
     "output_type": "stream",
     "text": [
      "torch.Size([2, 3, 16, 224, 224])\n",
      "torch.Size([2, 3, 16, 224, 224])\n",
      "torch.Size([2, 3, 16, 224, 224])\n",
      "torch.Size([2, 3, 16, 224, 224])\n",
      "torch.Size([2, 3, 16, 224, 224])\n"
     ]
    },
    {
     "name": "stderr",
     "output_type": "stream",
     "text": [
      "2024-03-21 20:48:09,543 - mmaction - INFO - Epoch [35][35/43]\tlr: 1.813e-07, eta: 0:06:20, time: 0.490, data_time: 0.001, memory: 9832, top1_acc: 0.8000, top5_acc: 1.0000, loss_cls: 0.9573, loss: 0.9573\n"
     ]
    },
    {
     "name": "stdout",
     "output_type": "stream",
     "text": [
      "torch.Size([2, 3, 16, 224, 224])\n",
      "torch.Size([2, 3, 16, 224, 224])\n",
      "torch.Size([2, 3, 16, 224, 224])\n",
      "torch.Size([2, 3, 16, 224, 224])\n",
      "torch.Size([2, 3, 16, 224, 224])\n"
     ]
    },
    {
     "name": "stderr",
     "output_type": "stream",
     "text": [
      "2024-03-21 20:48:11,852 - mmaction - INFO - Epoch [35][40/43]\tlr: 1.813e-07, eta: 0:06:17, time: 0.462, data_time: 0.001, memory: 9832, top1_acc: 0.5000, top5_acc: 1.0000, loss_cls: 1.1133, loss: 1.1133\n"
     ]
    },
    {
     "name": "stdout",
     "output_type": "stream",
     "text": [
      "torch.Size([2, 3, 16, 224, 224])\n",
      "torch.Size([2, 3, 16, 224, 224])\n",
      "torch.Size([2, 3, 16, 224, 224])\n",
      "[>>>>>>>>>>>>>>>>>>>>>>>>>>>>>>>>>>>>>>>>>>>>>>>>>>] 23/23, 3.1 task/s, elapsed: 7s, ETA:     0s"
     ]
    },
    {
     "name": "stderr",
     "output_type": "stream",
     "text": [
      "2024-03-21 20:48:21,183 - mmaction - INFO - Evaluating top_k_accuracy ...\n",
      "2024-03-21 20:48:21,184 - mmaction - INFO - \n",
      "top1_acc\t0.5652\n",
      "top5_acc\t1.0000\n",
      "2024-03-21 20:48:21,185 - mmaction - INFO - Evaluating mean_class_accuracy ...\n",
      "2024-03-21 20:48:21,185 - mmaction - INFO - \n",
      "mean_acc\t0.4508\n",
      "2024-03-21 20:48:21,186 - mmaction - INFO - Epoch(val) [35][23]\ttop1_acc: 0.5652, top5_acc: 1.0000, mean_class_accuracy: 0.4508\n"
     ]
    },
    {
     "name": "stdout",
     "output_type": "stream",
     "text": [
      "mean_class_accuracy\n",
      "[1 1 0 1 0 1 0 1 1 0 0 0 1 1 0 0 1 0 0 0 0 1 0]\n",
      "[0, 1, 1, 0, 0, 2, 1, 1, 1, 0, 0, 0, 0, 1, 0, 0, 1, 0, 0, 2, 1, 2, 2]\n",
      "torch.Size([2, 3, 16, 224, 224])\n",
      "torch.Size([2, 3, 16, 224, 224])\n",
      "torch.Size([2, 3, 16, 224, 224])\n",
      "torch.Size([2, 3, 16, 224, 224])\n",
      "torch.Size([2, 3, 16, 224, 224])\n"
     ]
    },
    {
     "name": "stderr",
     "output_type": "stream",
     "text": [
      "2024-03-21 20:48:29,329 - mmaction - INFO - Epoch [36][5/43]\tlr: 1.610e-07, eta: 0:06:14, time: 1.628, data_time: 1.105, memory: 9832, top1_acc: 0.5000, top5_acc: 1.0000, loss_cls: 1.0286, loss: 1.0286\n"
     ]
    },
    {
     "name": "stdout",
     "output_type": "stream",
     "text": [
      "torch.Size([2, 3, 16, 224, 224])\n",
      "torch.Size([2, 3, 16, 224, 224])\n",
      "torch.Size([2, 3, 16, 224, 224])\n",
      "torch.Size([2, 3, 16, 224, 224])\n",
      "torch.Size([2, 3, 16, 224, 224])\n"
     ]
    },
    {
     "name": "stderr",
     "output_type": "stream",
     "text": [
      "2024-03-21 20:48:31,705 - mmaction - INFO - Epoch [36][10/43]\tlr: 1.610e-07, eta: 0:06:11, time: 0.475, data_time: 0.001, memory: 9832, top1_acc: 0.1000, top5_acc: 1.0000, loss_cls: 1.1357, loss: 1.1357\n"
     ]
    },
    {
     "name": "stdout",
     "output_type": "stream",
     "text": [
      "torch.Size([2, 3, 16, 224, 224])\n",
      "torch.Size([2, 3, 16, 224, 224])\n",
      "torch.Size([2, 3, 16, 224, 224])\n",
      "torch.Size([2, 3, 16, 224, 224])\n",
      "torch.Size([2, 3, 16, 224, 224])\n"
     ]
    },
    {
     "name": "stderr",
     "output_type": "stream",
     "text": [
      "2024-03-21 20:48:34,084 - mmaction - INFO - Epoch [36][15/43]\tlr: 1.610e-07, eta: 0:06:08, time: 0.475, data_time: 0.002, memory: 9832, top1_acc: 0.5000, top5_acc: 1.0000, loss_cls: 1.0110, loss: 1.0110\n"
     ]
    },
    {
     "name": "stdout",
     "output_type": "stream",
     "text": [
      "torch.Size([2, 3, 16, 224, 224])\n",
      "torch.Size([2, 3, 16, 224, 224])\n",
      "torch.Size([2, 3, 16, 224, 224])\n",
      "torch.Size([2, 3, 16, 224, 224])\n",
      "torch.Size([2, 3, 16, 224, 224])\n"
     ]
    },
    {
     "name": "stderr",
     "output_type": "stream",
     "text": [
      "2024-03-21 20:48:36,423 - mmaction - INFO - Epoch [36][20/43]\tlr: 1.610e-07, eta: 0:06:04, time: 0.469, data_time: 0.002, memory: 9832, top1_acc: 0.7000, top5_acc: 1.0000, loss_cls: 0.9949, loss: 0.9949\n"
     ]
    },
    {
     "name": "stdout",
     "output_type": "stream",
     "text": [
      "torch.Size([2, 3, 16, 224, 224])\n",
      "torch.Size([2, 3, 16, 224, 224])\n",
      "torch.Size([2, 3, 16, 224, 224])\n",
      "torch.Size([2, 3, 16, 224, 224])\n",
      "torch.Size([2, 3, 16, 224, 224])\n"
     ]
    },
    {
     "name": "stderr",
     "output_type": "stream",
     "text": [
      "2024-03-21 20:48:38,824 - mmaction - INFO - Epoch [36][25/43]\tlr: 1.610e-07, eta: 0:06:01, time: 0.481, data_time: 0.002, memory: 9832, top1_acc: 0.7000, top5_acc: 1.0000, loss_cls: 0.9501, loss: 0.9501\n"
     ]
    },
    {
     "name": "stdout",
     "output_type": "stream",
     "text": [
      "torch.Size([2, 3, 16, 224, 224])\n",
      "torch.Size([2, 3, 16, 224, 224])\n",
      "torch.Size([2, 3, 16, 224, 224])\n",
      "torch.Size([2, 3, 16, 224, 224])\n",
      "torch.Size([2, 3, 16, 224, 224])\n"
     ]
    },
    {
     "name": "stderr",
     "output_type": "stream",
     "text": [
      "2024-03-21 20:48:41,177 - mmaction - INFO - Epoch [36][30/43]\tlr: 1.610e-07, eta: 0:05:58, time: 0.471, data_time: 0.001, memory: 9832, top1_acc: 0.6000, top5_acc: 1.0000, loss_cls: 1.0934, loss: 1.0934\n"
     ]
    },
    {
     "name": "stdout",
     "output_type": "stream",
     "text": [
      "torch.Size([2, 3, 16, 224, 224])\n",
      "torch.Size([2, 3, 16, 224, 224])\n",
      "torch.Size([2, 3, 16, 224, 224])\n",
      "torch.Size([2, 3, 16, 224, 224])\n",
      "torch.Size([2, 3, 16, 224, 224])\n"
     ]
    },
    {
     "name": "stderr",
     "output_type": "stream",
     "text": [
      "2024-03-21 20:48:43,579 - mmaction - INFO - Epoch [36][35/43]\tlr: 1.610e-07, eta: 0:05:55, time: 0.480, data_time: 0.001, memory: 9832, top1_acc: 0.3000, top5_acc: 1.0000, loss_cls: 1.0267, loss: 1.0267\n"
     ]
    },
    {
     "name": "stdout",
     "output_type": "stream",
     "text": [
      "torch.Size([2, 3, 16, 224, 224])\n",
      "torch.Size([2, 3, 16, 224, 224])\n",
      "torch.Size([2, 3, 16, 224, 224])\n",
      "torch.Size([2, 3, 16, 224, 224])\n",
      "torch.Size([2, 3, 16, 224, 224])\n"
     ]
    },
    {
     "name": "stderr",
     "output_type": "stream",
     "text": [
      "2024-03-21 20:48:45,972 - mmaction - INFO - Epoch [36][40/43]\tlr: 1.610e-07, eta: 0:05:52, time: 0.479, data_time: 0.001, memory: 9832, top1_acc: 0.7000, top5_acc: 1.0000, loss_cls: 0.9264, loss: 0.9264\n"
     ]
    },
    {
     "name": "stdout",
     "output_type": "stream",
     "text": [
      "torch.Size([2, 3, 16, 224, 224])\n",
      "torch.Size([2, 3, 16, 224, 224])\n",
      "torch.Size([2, 3, 16, 224, 224])\n",
      "torch.Size([2, 3, 16, 224, 224])\n",
      "torch.Size([2, 3, 16, 224, 224])\n",
      "torch.Size([2, 3, 16, 224, 224])\n",
      "torch.Size([2, 3, 16, 224, 224])\n",
      "torch.Size([2, 3, 16, 224, 224])\n"
     ]
    },
    {
     "name": "stderr",
     "output_type": "stream",
     "text": [
      "2024-03-21 20:48:55,728 - mmaction - INFO - Epoch [37][5/43]\tlr: 1.416e-07, eta: 0:05:49, time: 1.599, data_time: 1.065, memory: 9832, top1_acc: 0.4000, top5_acc: 1.0000, loss_cls: 1.0963, loss: 1.0963\n"
     ]
    },
    {
     "name": "stdout",
     "output_type": "stream",
     "text": [
      "torch.Size([2, 3, 16, 224, 224])\n",
      "torch.Size([2, 3, 16, 224, 224])\n",
      "torch.Size([2, 3, 16, 224, 224])\n",
      "torch.Size([2, 3, 16, 224, 224])\n",
      "torch.Size([2, 3, 16, 224, 224])\n"
     ]
    },
    {
     "name": "stderr",
     "output_type": "stream",
     "text": [
      "2024-03-21 20:48:58,038 - mmaction - INFO - Epoch [37][10/43]\tlr: 1.416e-07, eta: 0:05:45, time: 0.462, data_time: 0.001, memory: 9832, top1_acc: 0.5000, top5_acc: 1.0000, loss_cls: 1.0310, loss: 1.0310\n"
     ]
    },
    {
     "name": "stdout",
     "output_type": "stream",
     "text": [
      "torch.Size([2, 3, 16, 224, 224])\n",
      "torch.Size([2, 3, 16, 224, 224])\n",
      "torch.Size([2, 3, 16, 224, 224])\n",
      "torch.Size([2, 3, 16, 224, 224])\n",
      "torch.Size([2, 3, 16, 224, 224])\n"
     ]
    },
    {
     "name": "stderr",
     "output_type": "stream",
     "text": [
      "2024-03-21 20:49:00,420 - mmaction - INFO - Epoch [37][15/43]\tlr: 1.416e-07, eta: 0:05:42, time: 0.477, data_time: 0.001, memory: 9832, top1_acc: 0.4000, top5_acc: 1.0000, loss_cls: 1.0144, loss: 1.0144\n"
     ]
    },
    {
     "name": "stdout",
     "output_type": "stream",
     "text": [
      "torch.Size([2, 3, 16, 224, 224])\n",
      "torch.Size([2, 3, 16, 224, 224])\n",
      "torch.Size([2, 3, 16, 224, 224])\n",
      "torch.Size([2, 3, 16, 224, 224])\n",
      "torch.Size([2, 3, 16, 224, 224])\n"
     ]
    },
    {
     "name": "stderr",
     "output_type": "stream",
     "text": [
      "2024-03-21 20:49:02,809 - mmaction - INFO - Epoch [37][20/43]\tlr: 1.416e-07, eta: 0:05:39, time: 0.477, data_time: 0.001, memory: 9832, top1_acc: 0.7000, top5_acc: 1.0000, loss_cls: 0.9839, loss: 0.9839\n"
     ]
    },
    {
     "name": "stdout",
     "output_type": "stream",
     "text": [
      "torch.Size([2, 3, 16, 224, 224])\n",
      "torch.Size([2, 3, 16, 224, 224])\n",
      "torch.Size([2, 3, 16, 224, 224])\n",
      "torch.Size([2, 3, 16, 224, 224])\n",
      "torch.Size([2, 3, 16, 224, 224])\n"
     ]
    },
    {
     "name": "stderr",
     "output_type": "stream",
     "text": [
      "2024-03-21 20:49:05,157 - mmaction - INFO - Epoch [37][25/43]\tlr: 1.416e-07, eta: 0:05:36, time: 0.470, data_time: 0.002, memory: 9832, top1_acc: 0.4000, top5_acc: 1.0000, loss_cls: 1.0636, loss: 1.0636\n"
     ]
    },
    {
     "name": "stdout",
     "output_type": "stream",
     "text": [
      "torch.Size([2, 3, 16, 224, 224])\n",
      "torch.Size([2, 3, 16, 224, 224])\n",
      "torch.Size([2, 3, 16, 224, 224])\n",
      "torch.Size([2, 3, 16, 224, 224])\n",
      "torch.Size([2, 3, 16, 224, 224])\n"
     ]
    },
    {
     "name": "stderr",
     "output_type": "stream",
     "text": [
      "2024-03-21 20:49:07,542 - mmaction - INFO - Epoch [37][30/43]\tlr: 1.416e-07, eta: 0:05:33, time: 0.477, data_time: 0.001, memory: 9832, top1_acc: 0.5000, top5_acc: 1.0000, loss_cls: 1.0407, loss: 1.0407\n"
     ]
    },
    {
     "name": "stdout",
     "output_type": "stream",
     "text": [
      "torch.Size([2, 3, 16, 224, 224])\n",
      "torch.Size([2, 3, 16, 224, 224])\n",
      "torch.Size([2, 3, 16, 224, 224])\n",
      "torch.Size([2, 3, 16, 224, 224])\n",
      "torch.Size([2, 3, 16, 224, 224])\n"
     ]
    },
    {
     "name": "stderr",
     "output_type": "stream",
     "text": [
      "2024-03-21 20:49:09,878 - mmaction - INFO - Epoch [37][35/43]\tlr: 1.416e-07, eta: 0:05:30, time: 0.468, data_time: 0.002, memory: 9832, top1_acc: 0.5000, top5_acc: 1.0000, loss_cls: 1.0339, loss: 1.0339\n"
     ]
    },
    {
     "name": "stdout",
     "output_type": "stream",
     "text": [
      "torch.Size([2, 3, 16, 224, 224])\n",
      "torch.Size([2, 3, 16, 224, 224])\n",
      "torch.Size([2, 3, 16, 224, 224])\n",
      "torch.Size([2, 3, 16, 224, 224])\n",
      "torch.Size([2, 3, 16, 224, 224])\n"
     ]
    },
    {
     "name": "stderr",
     "output_type": "stream",
     "text": [
      "2024-03-21 20:49:12,229 - mmaction - INFO - Epoch [37][40/43]\tlr: 1.416e-07, eta: 0:05:27, time: 0.470, data_time: 0.001, memory: 9832, top1_acc: 0.5000, top5_acc: 1.0000, loss_cls: 0.9765, loss: 0.9765\n"
     ]
    },
    {
     "name": "stdout",
     "output_type": "stream",
     "text": [
      "torch.Size([2, 3, 16, 224, 224])\n",
      "torch.Size([2, 3, 16, 224, 224])\n",
      "torch.Size([2, 3, 16, 224, 224])\n",
      "torch.Size([2, 3, 16, 224, 224])\n",
      "torch.Size([2, 3, 16, 224, 224])\n",
      "torch.Size([2, 3, 16, 224, 224])\n",
      "torch.Size([2, 3, 16, 224, 224])\n",
      "torch.Size([2, 3, 16, 224, 224])\n"
     ]
    },
    {
     "name": "stderr",
     "output_type": "stream",
     "text": [
      "2024-03-21 20:49:21,956 - mmaction - INFO - Epoch [38][5/43]\tlr: 1.232e-07, eta: 0:05:23, time: 1.583, data_time: 1.060, memory: 9832, top1_acc: 0.2000, top5_acc: 1.0000, loss_cls: 1.1636, loss: 1.1636\n"
     ]
    },
    {
     "name": "stdout",
     "output_type": "stream",
     "text": [
      "torch.Size([2, 3, 16, 224, 224])\n",
      "torch.Size([2, 3, 16, 224, 224])\n",
      "torch.Size([2, 3, 16, 224, 224])\n",
      "torch.Size([2, 3, 16, 224, 224])\n",
      "torch.Size([2, 3, 16, 224, 224])\n"
     ]
    },
    {
     "name": "stderr",
     "output_type": "stream",
     "text": [
      "2024-03-21 20:49:24,309 - mmaction - INFO - Epoch [38][10/43]\tlr: 1.232e-07, eta: 0:05:20, time: 0.471, data_time: 0.001, memory: 9832, top1_acc: 0.5000, top5_acc: 1.0000, loss_cls: 1.0142, loss: 1.0142\n"
     ]
    },
    {
     "name": "stdout",
     "output_type": "stream",
     "text": [
      "torch.Size([2, 3, 16, 224, 224])\n",
      "torch.Size([2, 3, 16, 224, 224])\n",
      "torch.Size([2, 3, 16, 224, 224])\n",
      "torch.Size([2, 3, 16, 224, 224])\n",
      "torch.Size([2, 3, 16, 224, 224])\n"
     ]
    },
    {
     "name": "stderr",
     "output_type": "stream",
     "text": [
      "2024-03-21 20:49:26,729 - mmaction - INFO - Epoch [38][15/43]\tlr: 1.232e-07, eta: 0:05:17, time: 0.484, data_time: 0.001, memory: 9832, top1_acc: 0.3000, top5_acc: 1.0000, loss_cls: 1.0818, loss: 1.0818\n"
     ]
    },
    {
     "name": "stdout",
     "output_type": "stream",
     "text": [
      "torch.Size([2, 3, 16, 224, 224])\n",
      "torch.Size([2, 3, 16, 224, 224])\n",
      "torch.Size([2, 3, 16, 224, 224])\n",
      "torch.Size([2, 3, 16, 224, 224])\n",
      "torch.Size([2, 3, 16, 224, 224])\n"
     ]
    },
    {
     "name": "stderr",
     "output_type": "stream",
     "text": [
      "2024-03-21 20:49:29,117 - mmaction - INFO - Epoch [38][20/43]\tlr: 1.232e-07, eta: 0:05:14, time: 0.477, data_time: 0.001, memory: 9832, top1_acc: 0.4000, top5_acc: 1.0000, loss_cls: 1.0751, loss: 1.0751\n"
     ]
    },
    {
     "name": "stdout",
     "output_type": "stream",
     "text": [
      "torch.Size([2, 3, 16, 224, 224])\n",
      "torch.Size([2, 3, 16, 224, 224])\n",
      "torch.Size([2, 3, 16, 224, 224])\n",
      "torch.Size([2, 3, 16, 224, 224])\n",
      "torch.Size([2, 3, 16, 224, 224])\n"
     ]
    },
    {
     "name": "stderr",
     "output_type": "stream",
     "text": [
      "2024-03-21 20:49:31,515 - mmaction - INFO - Epoch [38][25/43]\tlr: 1.232e-07, eta: 0:05:11, time: 0.479, data_time: 0.001, memory: 9832, top1_acc: 0.6000, top5_acc: 1.0000, loss_cls: 0.9607, loss: 0.9607\n"
     ]
    },
    {
     "name": "stdout",
     "output_type": "stream",
     "text": [
      "torch.Size([2, 3, 16, 224, 224])\n",
      "torch.Size([2, 3, 16, 224, 224])\n",
      "torch.Size([2, 3, 16, 224, 224])\n",
      "torch.Size([2, 3, 16, 224, 224])\n",
      "torch.Size([2, 3, 16, 224, 224])\n"
     ]
    },
    {
     "name": "stderr",
     "output_type": "stream",
     "text": [
      "2024-03-21 20:49:33,842 - mmaction - INFO - Epoch [38][30/43]\tlr: 1.232e-07, eta: 0:05:08, time: 0.467, data_time: 0.002, memory: 9832, top1_acc: 0.5000, top5_acc: 1.0000, loss_cls: 1.0116, loss: 1.0116\n"
     ]
    },
    {
     "name": "stdout",
     "output_type": "stream",
     "text": [
      "torch.Size([2, 3, 16, 224, 224])\n",
      "torch.Size([2, 3, 16, 224, 224])\n",
      "torch.Size([2, 3, 16, 224, 224])\n",
      "torch.Size([2, 3, 16, 224, 224])\n",
      "torch.Size([2, 3, 16, 224, 224])\n"
     ]
    },
    {
     "name": "stderr",
     "output_type": "stream",
     "text": [
      "2024-03-21 20:49:36,228 - mmaction - INFO - Epoch [38][35/43]\tlr: 1.232e-07, eta: 0:05:05, time: 0.477, data_time: 0.001, memory: 9832, top1_acc: 0.5000, top5_acc: 1.0000, loss_cls: 1.0327, loss: 1.0327\n"
     ]
    },
    {
     "name": "stdout",
     "output_type": "stream",
     "text": [
      "torch.Size([2, 3, 16, 224, 224])\n",
      "torch.Size([2, 3, 16, 224, 224])\n",
      "torch.Size([2, 3, 16, 224, 224])\n",
      "torch.Size([2, 3, 16, 224, 224])\n",
      "torch.Size([2, 3, 16, 224, 224])\n"
     ]
    },
    {
     "name": "stderr",
     "output_type": "stream",
     "text": [
      "2024-03-21 20:49:38,604 - mmaction - INFO - Epoch [38][40/43]\tlr: 1.232e-07, eta: 0:05:01, time: 0.475, data_time: 0.001, memory: 9832, top1_acc: 0.6000, top5_acc: 1.0000, loss_cls: 1.0040, loss: 1.0040\n"
     ]
    },
    {
     "name": "stdout",
     "output_type": "stream",
     "text": [
      "torch.Size([2, 3, 16, 224, 224])\n",
      "torch.Size([2, 3, 16, 224, 224])\n",
      "torch.Size([2, 3, 16, 224, 224])\n",
      "torch.Size([2, 3, 16, 224, 224])\n",
      "torch.Size([2, 3, 16, 224, 224])\n",
      "torch.Size([2, 3, 16, 224, 224])\n",
      "torch.Size([2, 3, 16, 224, 224])\n",
      "torch.Size([2, 3, 16, 224, 224])\n"
     ]
    },
    {
     "name": "stderr",
     "output_type": "stream",
     "text": [
      "2024-03-21 20:49:48,297 - mmaction - INFO - Epoch [39][5/43]\tlr: 1.059e-07, eta: 0:04:58, time: 1.575, data_time: 1.039, memory: 9832, top1_acc: 0.8000, top5_acc: 1.0000, loss_cls: 0.9859, loss: 0.9859\n"
     ]
    },
    {
     "name": "stdout",
     "output_type": "stream",
     "text": [
      "torch.Size([2, 3, 16, 224, 224])\n",
      "torch.Size([2, 3, 16, 224, 224])\n",
      "torch.Size([2, 3, 16, 224, 224])\n",
      "torch.Size([2, 3, 16, 224, 224])\n",
      "torch.Size([2, 3, 16, 224, 224])\n"
     ]
    },
    {
     "name": "stderr",
     "output_type": "stream",
     "text": [
      "2024-03-21 20:49:50,680 - mmaction - INFO - Epoch [39][10/43]\tlr: 1.059e-07, eta: 0:04:55, time: 0.477, data_time: 0.001, memory: 9832, top1_acc: 0.5000, top5_acc: 1.0000, loss_cls: 1.0184, loss: 1.0184\n"
     ]
    },
    {
     "name": "stdout",
     "output_type": "stream",
     "text": [
      "torch.Size([2, 3, 16, 224, 224])\n",
      "torch.Size([2, 3, 16, 224, 224])\n",
      "torch.Size([2, 3, 16, 224, 224])\n",
      "torch.Size([2, 3, 16, 224, 224])\n",
      "torch.Size([2, 3, 16, 224, 224])\n"
     ]
    },
    {
     "name": "stderr",
     "output_type": "stream",
     "text": [
      "2024-03-21 20:49:53,079 - mmaction - INFO - Epoch [39][15/43]\tlr: 1.059e-07, eta: 0:04:52, time: 0.480, data_time: 0.002, memory: 9832, top1_acc: 0.6000, top5_acc: 1.0000, loss_cls: 1.0116, loss: 1.0116\n"
     ]
    },
    {
     "name": "stdout",
     "output_type": "stream",
     "text": [
      "torch.Size([2, 3, 16, 224, 224])\n",
      "torch.Size([2, 3, 16, 224, 224])\n",
      "torch.Size([2, 3, 16, 224, 224])\n",
      "torch.Size([2, 3, 16, 224, 224])\n",
      "torch.Size([2, 3, 16, 224, 224])\n"
     ]
    },
    {
     "name": "stderr",
     "output_type": "stream",
     "text": [
      "2024-03-21 20:49:55,430 - mmaction - INFO - Epoch [39][20/43]\tlr: 1.059e-07, eta: 0:04:49, time: 0.470, data_time: 0.001, memory: 9832, top1_acc: 0.5000, top5_acc: 1.0000, loss_cls: 1.0259, loss: 1.0259\n"
     ]
    },
    {
     "name": "stdout",
     "output_type": "stream",
     "text": [
      "torch.Size([2, 3, 16, 224, 224])\n",
      "torch.Size([2, 3, 16, 224, 224])\n",
      "torch.Size([2, 3, 16, 224, 224])\n",
      "torch.Size([2, 3, 16, 224, 224])\n",
      "torch.Size([2, 3, 16, 224, 224])\n"
     ]
    },
    {
     "name": "stderr",
     "output_type": "stream",
     "text": [
      "2024-03-21 20:49:57,839 - mmaction - INFO - Epoch [39][25/43]\tlr: 1.059e-07, eta: 0:04:46, time: 0.482, data_time: 0.001, memory: 9832, top1_acc: 0.3000, top5_acc: 1.0000, loss_cls: 1.0408, loss: 1.0408\n"
     ]
    },
    {
     "name": "stdout",
     "output_type": "stream",
     "text": [
      "torch.Size([2, 3, 16, 224, 224])\n",
      "torch.Size([2, 3, 16, 224, 224])\n",
      "torch.Size([2, 3, 16, 224, 224])\n",
      "torch.Size([2, 3, 16, 224, 224])\n",
      "torch.Size([2, 3, 16, 224, 224])\n"
     ]
    },
    {
     "name": "stderr",
     "output_type": "stream",
     "text": [
      "2024-03-21 20:50:00,214 - mmaction - INFO - Epoch [39][30/43]\tlr: 1.059e-07, eta: 0:04:42, time: 0.474, data_time: 0.001, memory: 9832, top1_acc: 0.5000, top5_acc: 1.0000, loss_cls: 1.0117, loss: 1.0117\n"
     ]
    },
    {
     "name": "stdout",
     "output_type": "stream",
     "text": [
      "torch.Size([2, 3, 16, 224, 224])\n",
      "torch.Size([2, 3, 16, 224, 224])\n",
      "torch.Size([2, 3, 16, 224, 224])\n",
      "torch.Size([2, 3, 16, 224, 224])\n",
      "torch.Size([2, 3, 16, 224, 224])\n"
     ]
    },
    {
     "name": "stderr",
     "output_type": "stream",
     "text": [
      "2024-03-21 20:50:02,590 - mmaction - INFO - Epoch [39][35/43]\tlr: 1.059e-07, eta: 0:04:39, time: 0.476, data_time: 0.002, memory: 9832, top1_acc: 0.8000, top5_acc: 1.0000, loss_cls: 1.0361, loss: 1.0361\n"
     ]
    },
    {
     "name": "stdout",
     "output_type": "stream",
     "text": [
      "torch.Size([2, 3, 16, 224, 224])\n",
      "torch.Size([2, 3, 16, 224, 224])\n",
      "torch.Size([2, 3, 16, 224, 224])\n",
      "torch.Size([2, 3, 16, 224, 224])\n",
      "torch.Size([2, 3, 16, 224, 224])\n"
     ]
    },
    {
     "name": "stderr",
     "output_type": "stream",
     "text": [
      "2024-03-21 20:50:04,979 - mmaction - INFO - Epoch [39][40/43]\tlr: 1.059e-07, eta: 0:04:36, time: 0.478, data_time: 0.001, memory: 9832, top1_acc: 0.5000, top5_acc: 1.0000, loss_cls: 1.1542, loss: 1.1542\n"
     ]
    },
    {
     "name": "stdout",
     "output_type": "stream",
     "text": [
      "torch.Size([2, 3, 16, 224, 224])\n",
      "torch.Size([2, 3, 16, 224, 224])\n",
      "torch.Size([2, 3, 16, 224, 224])\n",
      "torch.Size([2, 3, 16, 224, 224])\n",
      "torch.Size([2, 3, 16, 224, 224])\n",
      "torch.Size([2, 3, 16, 224, 224])\n",
      "torch.Size([2, 3, 16, 224, 224])\n",
      "torch.Size([2, 3, 16, 224, 224])\n"
     ]
    },
    {
     "name": "stderr",
     "output_type": "stream",
     "text": [
      "2024-03-21 20:50:14,522 - mmaction - INFO - Epoch [40][5/43]\tlr: 8.964e-08, eta: 0:04:33, time: 1.549, data_time: 1.041, memory: 9832, top1_acc: 0.5000, top5_acc: 1.0000, loss_cls: 1.0995, loss: 1.0995\n"
     ]
    },
    {
     "name": "stdout",
     "output_type": "stream",
     "text": [
      "torch.Size([2, 3, 16, 224, 224])\n",
      "torch.Size([2, 3, 16, 224, 224])\n",
      "torch.Size([2, 3, 16, 224, 224])\n",
      "torch.Size([2, 3, 16, 224, 224])\n",
      "torch.Size([2, 3, 16, 224, 224])\n"
     ]
    },
    {
     "name": "stderr",
     "output_type": "stream",
     "text": [
      "2024-03-21 20:50:16,846 - mmaction - INFO - Epoch [40][10/43]\tlr: 8.964e-08, eta: 0:04:29, time: 0.465, data_time: 0.001, memory: 9832, top1_acc: 0.5000, top5_acc: 1.0000, loss_cls: 1.0451, loss: 1.0451\n"
     ]
    },
    {
     "name": "stdout",
     "output_type": "stream",
     "text": [
      "torch.Size([2, 3, 16, 224, 224])\n",
      "torch.Size([2, 3, 16, 224, 224])\n",
      "torch.Size([2, 3, 16, 224, 224])\n",
      "torch.Size([2, 3, 16, 224, 224])\n",
      "torch.Size([2, 3, 16, 224, 224])\n"
     ]
    },
    {
     "name": "stderr",
     "output_type": "stream",
     "text": [
      "2024-03-21 20:50:19,267 - mmaction - INFO - Epoch [40][15/43]\tlr: 8.964e-08, eta: 0:04:26, time: 0.484, data_time: 0.001, memory: 9832, top1_acc: 0.7000, top5_acc: 1.0000, loss_cls: 0.9963, loss: 0.9963\n"
     ]
    },
    {
     "name": "stdout",
     "output_type": "stream",
     "text": [
      "torch.Size([2, 3, 16, 224, 224])\n",
      "torch.Size([2, 3, 16, 224, 224])\n",
      "torch.Size([2, 3, 16, 224, 224])\n",
      "torch.Size([2, 3, 16, 224, 224])\n",
      "torch.Size([2, 3, 16, 224, 224])\n"
     ]
    },
    {
     "name": "stderr",
     "output_type": "stream",
     "text": [
      "2024-03-21 20:50:21,679 - mmaction - INFO - Epoch [40][20/43]\tlr: 8.964e-08, eta: 0:04:23, time: 0.482, data_time: 0.001, memory: 9832, top1_acc: 0.2000, top5_acc: 1.0000, loss_cls: 1.1214, loss: 1.1214\n"
     ]
    },
    {
     "name": "stdout",
     "output_type": "stream",
     "text": [
      "torch.Size([2, 3, 16, 224, 224])\n",
      "torch.Size([2, 3, 16, 224, 224])\n",
      "torch.Size([2, 3, 16, 224, 224])\n",
      "torch.Size([2, 3, 16, 224, 224])\n",
      "torch.Size([2, 3, 16, 224, 224])\n"
     ]
    },
    {
     "name": "stderr",
     "output_type": "stream",
     "text": [
      "2024-03-21 20:50:24,030 - mmaction - INFO - Epoch [40][25/43]\tlr: 8.964e-08, eta: 0:04:20, time: 0.470, data_time: 0.001, memory: 9832, top1_acc: 0.7000, top5_acc: 1.0000, loss_cls: 1.0122, loss: 1.0122\n"
     ]
    },
    {
     "name": "stdout",
     "output_type": "stream",
     "text": [
      "torch.Size([2, 3, 16, 224, 224])\n",
      "torch.Size([2, 3, 16, 224, 224])\n",
      "torch.Size([2, 3, 16, 224, 224])\n",
      "torch.Size([2, 3, 16, 224, 224])\n",
      "torch.Size([2, 3, 16, 224, 224])\n"
     ]
    },
    {
     "name": "stderr",
     "output_type": "stream",
     "text": [
      "2024-03-21 20:50:26,436 - mmaction - INFO - Epoch [40][30/43]\tlr: 8.964e-08, eta: 0:04:17, time: 0.481, data_time: 0.001, memory: 9832, top1_acc: 0.5000, top5_acc: 1.0000, loss_cls: 1.0546, loss: 1.0546\n"
     ]
    },
    {
     "name": "stdout",
     "output_type": "stream",
     "text": [
      "torch.Size([2, 3, 16, 224, 224])\n",
      "torch.Size([2, 3, 16, 224, 224])\n",
      "torch.Size([2, 3, 16, 224, 224])\n",
      "torch.Size([2, 3, 16, 224, 224])\n",
      "torch.Size([2, 3, 16, 224, 224])\n"
     ]
    },
    {
     "name": "stderr",
     "output_type": "stream",
     "text": [
      "2024-03-21 20:50:28,822 - mmaction - INFO - Epoch [40][35/43]\tlr: 8.964e-08, eta: 0:04:14, time: 0.477, data_time: 0.001, memory: 9832, top1_acc: 0.6000, top5_acc: 1.0000, loss_cls: 1.0123, loss: 1.0123\n"
     ]
    },
    {
     "name": "stdout",
     "output_type": "stream",
     "text": [
      "torch.Size([2, 3, 16, 224, 224])\n",
      "torch.Size([2, 3, 16, 224, 224])\n",
      "torch.Size([2, 3, 16, 224, 224])\n",
      "torch.Size([2, 3, 16, 224, 224])\n",
      "torch.Size([2, 3, 16, 224, 224])\n"
     ]
    },
    {
     "name": "stderr",
     "output_type": "stream",
     "text": [
      "2024-03-21 20:50:31,162 - mmaction - INFO - Epoch [40][40/43]\tlr: 8.964e-08, eta: 0:04:11, time: 0.469, data_time: 0.002, memory: 9832, top1_acc: 0.3000, top5_acc: 1.0000, loss_cls: 1.0680, loss: 1.0680\n"
     ]
    },
    {
     "name": "stdout",
     "output_type": "stream",
     "text": [
      "torch.Size([2, 3, 16, 224, 224])\n",
      "torch.Size([2, 3, 16, 224, 224])\n",
      "torch.Size([2, 3, 16, 224, 224])\n"
     ]
    },
    {
     "name": "stderr",
     "output_type": "stream",
     "text": [
      "2024-03-21 20:50:33,030 - mmaction - INFO - Saving checkpoint at 40 epochs\n"
     ]
    },
    {
     "name": "stdout",
     "output_type": "stream",
     "text": [
      "[>>>>>>>>>>>>>>>>>>>>>>>>>>>>>>>>>>>>>>>>>>>>>>>>>>] 23/23, 3.0 task/s, elapsed: 8s, ETA:     0s"
     ]
    },
    {
     "name": "stderr",
     "output_type": "stream",
     "text": [
      "2024-03-21 20:50:43,264 - mmaction - INFO - Evaluating top_k_accuracy ...\n",
      "2024-03-21 20:50:43,264 - mmaction - INFO - \n",
      "top1_acc\t0.5652\n",
      "top5_acc\t1.0000\n",
      "2024-03-21 20:50:43,264 - mmaction - INFO - Evaluating mean_class_accuracy ...\n",
      "2024-03-21 20:50:43,265 - mmaction - INFO - \n",
      "mean_acc\t0.4508\n",
      "2024-03-21 20:50:43,265 - mmaction - INFO - Epoch(val) [40][23]\ttop1_acc: 0.5652, top5_acc: 1.0000, mean_class_accuracy: 0.4508\n"
     ]
    },
    {
     "name": "stdout",
     "output_type": "stream",
     "text": [
      "mean_class_accuracy\n",
      "[1 1 0 1 0 1 0 1 1 0 0 0 1 1 0 0 1 0 0 0 0 1 0]\n",
      "[0, 1, 1, 0, 0, 2, 1, 1, 1, 0, 0, 0, 0, 1, 0, 0, 1, 0, 0, 2, 1, 2, 2]\n",
      "torch.Size([2, 3, 16, 224, 224])\n",
      "torch.Size([2, 3, 16, 224, 224])\n",
      "torch.Size([2, 3, 16, 224, 224])\n",
      "torch.Size([2, 3, 16, 224, 224])\n",
      "torch.Size([2, 3, 16, 224, 224])\n"
     ]
    },
    {
     "name": "stderr",
     "output_type": "stream",
     "text": [
      "2024-03-21 20:50:51,445 - mmaction - INFO - Epoch [41][5/43]\tlr: 7.460e-08, eta: 0:04:07, time: 1.635, data_time: 1.142, memory: 9832, top1_acc: 0.4000, top5_acc: 1.0000, loss_cls: 1.1316, loss: 1.1316\n"
     ]
    },
    {
     "name": "stdout",
     "output_type": "stream",
     "text": [
      "torch.Size([2, 3, 16, 224, 224])\n",
      "torch.Size([2, 3, 16, 224, 224])\n",
      "torch.Size([2, 3, 16, 224, 224])\n",
      "torch.Size([2, 3, 16, 224, 224])\n",
      "torch.Size([2, 3, 16, 224, 224])\n"
     ]
    },
    {
     "name": "stderr",
     "output_type": "stream",
     "text": [
      "2024-03-21 20:50:53,814 - mmaction - INFO - Epoch [41][10/43]\tlr: 7.460e-08, eta: 0:04:04, time: 0.474, data_time: 0.001, memory: 9832, top1_acc: 0.7000, top5_acc: 1.0000, loss_cls: 1.0053, loss: 1.0053\n"
     ]
    },
    {
     "name": "stdout",
     "output_type": "stream",
     "text": [
      "torch.Size([2, 3, 16, 224, 224])\n",
      "torch.Size([2, 3, 16, 224, 224])\n",
      "torch.Size([2, 3, 16, 224, 224])\n",
      "torch.Size([2, 3, 16, 224, 224])\n",
      "torch.Size([2, 3, 16, 224, 224])\n"
     ]
    },
    {
     "name": "stderr",
     "output_type": "stream",
     "text": [
      "2024-03-21 20:50:56,176 - mmaction - INFO - Epoch [41][15/43]\tlr: 7.460e-08, eta: 0:04:01, time: 0.472, data_time: 0.001, memory: 9832, top1_acc: 0.6000, top5_acc: 1.0000, loss_cls: 0.9512, loss: 0.9512\n"
     ]
    },
    {
     "name": "stdout",
     "output_type": "stream",
     "text": [
      "torch.Size([2, 3, 16, 224, 224])\n",
      "torch.Size([2, 3, 16, 224, 224])\n",
      "torch.Size([2, 3, 16, 224, 224])\n",
      "torch.Size([2, 3, 16, 224, 224])\n",
      "torch.Size([2, 3, 16, 224, 224])\n"
     ]
    },
    {
     "name": "stderr",
     "output_type": "stream",
     "text": [
      "2024-03-21 20:50:58,611 - mmaction - INFO - Epoch [41][20/43]\tlr: 7.460e-08, eta: 0:03:58, time: 0.487, data_time: 0.001, memory: 9832, top1_acc: 0.6000, top5_acc: 1.0000, loss_cls: 1.0256, loss: 1.0256\n"
     ]
    },
    {
     "name": "stdout",
     "output_type": "stream",
     "text": [
      "torch.Size([2, 3, 16, 224, 224])\n",
      "torch.Size([2, 3, 16, 224, 224])\n",
      "torch.Size([2, 3, 16, 224, 224])\n",
      "torch.Size([2, 3, 16, 224, 224])\n",
      "torch.Size([2, 3, 16, 224, 224])\n"
     ]
    },
    {
     "name": "stderr",
     "output_type": "stream",
     "text": [
      "2024-03-21 20:51:00,978 - mmaction - INFO - Epoch [41][25/43]\tlr: 7.460e-08, eta: 0:03:55, time: 0.473, data_time: 0.001, memory: 9832, top1_acc: 0.6000, top5_acc: 1.0000, loss_cls: 1.0166, loss: 1.0166\n"
     ]
    },
    {
     "name": "stdout",
     "output_type": "stream",
     "text": [
      "torch.Size([2, 3, 16, 224, 224])\n",
      "torch.Size([2, 3, 16, 224, 224])\n",
      "torch.Size([2, 3, 16, 224, 224])\n",
      "torch.Size([2, 3, 16, 224, 224])\n",
      "torch.Size([2, 3, 16, 224, 224])\n"
     ]
    },
    {
     "name": "stderr",
     "output_type": "stream",
     "text": [
      "2024-03-21 20:51:03,307 - mmaction - INFO - Epoch [41][30/43]\tlr: 7.460e-08, eta: 0:03:52, time: 0.466, data_time: 0.001, memory: 9832, top1_acc: 0.6000, top5_acc: 1.0000, loss_cls: 0.9436, loss: 0.9436\n"
     ]
    },
    {
     "name": "stdout",
     "output_type": "stream",
     "text": [
      "torch.Size([2, 3, 16, 224, 224])\n",
      "torch.Size([2, 3, 16, 224, 224])\n",
      "torch.Size([2, 3, 16, 224, 224])\n",
      "torch.Size([2, 3, 16, 224, 224])\n",
      "torch.Size([2, 3, 16, 224, 224])\n"
     ]
    },
    {
     "name": "stderr",
     "output_type": "stream",
     "text": [
      "2024-03-21 20:51:05,712 - mmaction - INFO - Epoch [41][35/43]\tlr: 7.460e-08, eta: 0:03:49, time: 0.481, data_time: 0.001, memory: 9832, top1_acc: 0.3000, top5_acc: 1.0000, loss_cls: 1.1201, loss: 1.1201\n"
     ]
    },
    {
     "name": "stdout",
     "output_type": "stream",
     "text": [
      "torch.Size([2, 3, 16, 224, 224])\n",
      "torch.Size([2, 3, 16, 224, 224])\n",
      "torch.Size([2, 3, 16, 224, 224])\n",
      "torch.Size([2, 3, 16, 224, 224])\n",
      "torch.Size([2, 3, 16, 224, 224])\n"
     ]
    },
    {
     "name": "stderr",
     "output_type": "stream",
     "text": [
      "2024-03-21 20:51:08,107 - mmaction - INFO - Epoch [41][40/43]\tlr: 7.460e-08, eta: 0:03:46, time: 0.478, data_time: 0.001, memory: 9832, top1_acc: 0.4000, top5_acc: 1.0000, loss_cls: 1.1105, loss: 1.1105\n"
     ]
    },
    {
     "name": "stdout",
     "output_type": "stream",
     "text": [
      "torch.Size([2, 3, 16, 224, 224])\n",
      "torch.Size([2, 3, 16, 224, 224])\n",
      "torch.Size([2, 3, 16, 224, 224])\n",
      "torch.Size([2, 3, 16, 224, 224])\n",
      "torch.Size([2, 3, 16, 224, 224])\n",
      "torch.Size([2, 3, 16, 224, 224])\n",
      "torch.Size([2, 3, 16, 224, 224])\n",
      "torch.Size([2, 3, 16, 224, 224])\n"
     ]
    },
    {
     "name": "stderr",
     "output_type": "stream",
     "text": [
      "2024-03-21 20:51:18,321 - mmaction - INFO - Epoch [42][5/43]\tlr: 6.081e-08, eta: 0:03:42, time: 1.675, data_time: 1.135, memory: 9832, top1_acc: 0.5000, top5_acc: 1.0000, loss_cls: 0.9993, loss: 0.9993\n"
     ]
    },
    {
     "name": "stdout",
     "output_type": "stream",
     "text": [
      "torch.Size([2, 3, 16, 224, 224])\n",
      "torch.Size([2, 3, 16, 224, 224])\n",
      "torch.Size([2, 3, 16, 224, 224])\n",
      "torch.Size([2, 3, 16, 224, 224])\n",
      "torch.Size([2, 3, 16, 224, 224])\n"
     ]
    },
    {
     "name": "stderr",
     "output_type": "stream",
     "text": [
      "2024-03-21 20:51:20,695 - mmaction - INFO - Epoch [42][10/43]\tlr: 6.081e-08, eta: 0:03:39, time: 0.476, data_time: 0.002, memory: 9832, top1_acc: 0.7000, top5_acc: 1.0000, loss_cls: 0.9570, loss: 0.9570\n"
     ]
    },
    {
     "name": "stdout",
     "output_type": "stream",
     "text": [
      "torch.Size([2, 3, 16, 224, 224])\n",
      "torch.Size([2, 3, 16, 224, 224])\n",
      "torch.Size([2, 3, 16, 224, 224])\n",
      "torch.Size([2, 3, 16, 224, 224])\n",
      "torch.Size([2, 3, 16, 224, 224])\n"
     ]
    },
    {
     "name": "stderr",
     "output_type": "stream",
     "text": [
      "2024-03-21 20:51:23,091 - mmaction - INFO - Epoch [42][15/43]\tlr: 6.081e-08, eta: 0:03:36, time: 0.479, data_time: 0.001, memory: 9832, top1_acc: 0.3000, top5_acc: 1.0000, loss_cls: 1.0882, loss: 1.0882\n"
     ]
    },
    {
     "name": "stdout",
     "output_type": "stream",
     "text": [
      "torch.Size([2, 3, 16, 224, 224])\n",
      "torch.Size([2, 3, 16, 224, 224])\n",
      "torch.Size([2, 3, 16, 224, 224])\n",
      "torch.Size([2, 3, 16, 224, 224])\n",
      "torch.Size([2, 3, 16, 224, 224])\n"
     ]
    },
    {
     "name": "stderr",
     "output_type": "stream",
     "text": [
      "2024-03-21 20:51:25,438 - mmaction - INFO - Epoch [42][20/43]\tlr: 6.081e-08, eta: 0:03:33, time: 0.469, data_time: 0.002, memory: 9832, top1_acc: 0.3000, top5_acc: 1.0000, loss_cls: 1.1167, loss: 1.1167\n"
     ]
    },
    {
     "name": "stdout",
     "output_type": "stream",
     "text": [
      "torch.Size([2, 3, 16, 224, 224])\n",
      "torch.Size([2, 3, 16, 224, 224])\n",
      "torch.Size([2, 3, 16, 224, 224])\n",
      "torch.Size([2, 3, 16, 224, 224])\n",
      "torch.Size([2, 3, 16, 224, 224])\n"
     ]
    },
    {
     "name": "stderr",
     "output_type": "stream",
     "text": [
      "2024-03-21 20:51:27,810 - mmaction - INFO - Epoch [42][25/43]\tlr: 6.081e-08, eta: 0:03:30, time: 0.475, data_time: 0.001, memory: 9832, top1_acc: 0.4000, top5_acc: 1.0000, loss_cls: 1.0859, loss: 1.0859\n"
     ]
    },
    {
     "name": "stdout",
     "output_type": "stream",
     "text": [
      "torch.Size([2, 3, 16, 224, 224])\n",
      "torch.Size([2, 3, 16, 224, 224])\n",
      "torch.Size([2, 3, 16, 224, 224])\n",
      "torch.Size([2, 3, 16, 224, 224])\n",
      "torch.Size([2, 3, 16, 224, 224])\n"
     ]
    },
    {
     "name": "stderr",
     "output_type": "stream",
     "text": [
      "2024-03-21 20:51:30,185 - mmaction - INFO - Epoch [42][30/43]\tlr: 6.081e-08, eta: 0:03:27, time: 0.475, data_time: 0.001, memory: 9832, top1_acc: 0.5000, top5_acc: 1.0000, loss_cls: 0.9976, loss: 0.9976\n"
     ]
    },
    {
     "name": "stdout",
     "output_type": "stream",
     "text": [
      "torch.Size([2, 3, 16, 224, 224])\n",
      "torch.Size([2, 3, 16, 224, 224])\n",
      "torch.Size([2, 3, 16, 224, 224])\n",
      "torch.Size([2, 3, 16, 224, 224])\n",
      "torch.Size([2, 3, 16, 224, 224])\n"
     ]
    },
    {
     "name": "stderr",
     "output_type": "stream",
     "text": [
      "2024-03-21 20:51:32,500 - mmaction - INFO - Epoch [42][35/43]\tlr: 6.081e-08, eta: 0:03:24, time: 0.463, data_time: 0.001, memory: 9832, top1_acc: 0.6000, top5_acc: 1.0000, loss_cls: 0.9968, loss: 0.9968\n"
     ]
    },
    {
     "name": "stdout",
     "output_type": "stream",
     "text": [
      "torch.Size([2, 3, 16, 224, 224])\n",
      "torch.Size([2, 3, 16, 224, 224])\n",
      "torch.Size([2, 3, 16, 224, 224])\n",
      "torch.Size([2, 3, 16, 224, 224])\n",
      "torch.Size([2, 3, 16, 224, 224])\n"
     ]
    },
    {
     "name": "stderr",
     "output_type": "stream",
     "text": [
      "2024-03-21 20:51:34,831 - mmaction - INFO - Epoch [42][40/43]\tlr: 6.081e-08, eta: 0:03:21, time: 0.466, data_time: 0.002, memory: 9832, top1_acc: 0.4000, top5_acc: 1.0000, loss_cls: 1.0194, loss: 1.0194\n"
     ]
    },
    {
     "name": "stdout",
     "output_type": "stream",
     "text": [
      "torch.Size([2, 3, 16, 224, 224])\n",
      "torch.Size([2, 3, 16, 224, 224])\n",
      "torch.Size([2, 3, 16, 224, 224])\n",
      "torch.Size([2, 3, 16, 224, 224])\n",
      "torch.Size([2, 3, 16, 224, 224])\n",
      "torch.Size([2, 3, 16, 224, 224])\n",
      "torch.Size([2, 3, 16, 224, 224])\n",
      "torch.Size([2, 3, 16, 224, 224])\n"
     ]
    },
    {
     "name": "stderr",
     "output_type": "stream",
     "text": [
      "2024-03-21 20:51:44,474 - mmaction - INFO - Epoch [43][5/43]\tlr: 4.832e-08, eta: 0:03:17, time: 1.573, data_time: 1.066, memory: 9832, top1_acc: 0.4000, top5_acc: 1.0000, loss_cls: 1.0562, loss: 1.0562\n"
     ]
    },
    {
     "name": "stdout",
     "output_type": "stream",
     "text": [
      "torch.Size([2, 3, 16, 224, 224])\n",
      "torch.Size([2, 3, 16, 224, 224])\n",
      "torch.Size([2, 3, 16, 224, 224])\n",
      "torch.Size([2, 3, 16, 224, 224])\n",
      "torch.Size([2, 3, 16, 224, 224])\n"
     ]
    },
    {
     "name": "stderr",
     "output_type": "stream",
     "text": [
      "2024-03-21 20:51:46,830 - mmaction - INFO - Epoch [43][10/43]\tlr: 4.832e-08, eta: 0:03:14, time: 0.470, data_time: 0.001, memory: 9832, top1_acc: 0.4000, top5_acc: 1.0000, loss_cls: 1.0701, loss: 1.0701\n"
     ]
    },
    {
     "name": "stdout",
     "output_type": "stream",
     "text": [
      "torch.Size([2, 3, 16, 224, 224])\n",
      "torch.Size([2, 3, 16, 224, 224])\n",
      "torch.Size([2, 3, 16, 224, 224])\n",
      "torch.Size([2, 3, 16, 224, 224])\n",
      "torch.Size([2, 3, 16, 224, 224])\n"
     ]
    },
    {
     "name": "stderr",
     "output_type": "stream",
     "text": [
      "2024-03-21 20:51:49,150 - mmaction - INFO - Epoch [43][15/43]\tlr: 4.832e-08, eta: 0:03:11, time: 0.465, data_time: 0.002, memory: 9832, top1_acc: 0.6000, top5_acc: 1.0000, loss_cls: 0.9685, loss: 0.9685\n"
     ]
    },
    {
     "name": "stdout",
     "output_type": "stream",
     "text": [
      "torch.Size([2, 3, 16, 224, 224])\n",
      "torch.Size([2, 3, 16, 224, 224])\n",
      "torch.Size([2, 3, 16, 224, 224])\n",
      "torch.Size([2, 3, 16, 224, 224])\n",
      "torch.Size([2, 3, 16, 224, 224])\n"
     ]
    },
    {
     "name": "stderr",
     "output_type": "stream",
     "text": [
      "2024-03-21 20:51:51,589 - mmaction - INFO - Epoch [43][20/43]\tlr: 4.832e-08, eta: 0:03:08, time: 0.488, data_time: 0.002, memory: 9832, top1_acc: 0.8000, top5_acc: 1.0000, loss_cls: 0.9150, loss: 0.9150\n"
     ]
    },
    {
     "name": "stdout",
     "output_type": "stream",
     "text": [
      "torch.Size([2, 3, 16, 224, 224])\n",
      "torch.Size([2, 3, 16, 224, 224])\n",
      "torch.Size([2, 3, 16, 224, 224])\n",
      "torch.Size([2, 3, 16, 224, 224])\n",
      "torch.Size([2, 3, 16, 224, 224])\n"
     ]
    },
    {
     "name": "stderr",
     "output_type": "stream",
     "text": [
      "2024-03-21 20:51:53,908 - mmaction - INFO - Epoch [43][25/43]\tlr: 4.832e-08, eta: 0:03:05, time: 0.464, data_time: 0.001, memory: 9832, top1_acc: 0.4000, top5_acc: 1.0000, loss_cls: 1.1234, loss: 1.1234\n"
     ]
    },
    {
     "name": "stdout",
     "output_type": "stream",
     "text": [
      "torch.Size([2, 3, 16, 224, 224])\n",
      "torch.Size([2, 3, 16, 224, 224])\n",
      "torch.Size([2, 3, 16, 224, 224])\n",
      "torch.Size([2, 3, 16, 224, 224])\n",
      "torch.Size([2, 3, 16, 224, 224])\n"
     ]
    },
    {
     "name": "stderr",
     "output_type": "stream",
     "text": [
      "2024-03-21 20:51:56,252 - mmaction - INFO - Epoch [43][30/43]\tlr: 4.832e-08, eta: 0:03:02, time: 0.468, data_time: 0.001, memory: 9832, top1_acc: 0.5000, top5_acc: 1.0000, loss_cls: 1.0497, loss: 1.0497\n"
     ]
    },
    {
     "name": "stdout",
     "output_type": "stream",
     "text": [
      "torch.Size([2, 3, 16, 224, 224])\n",
      "torch.Size([2, 3, 16, 224, 224])\n",
      "torch.Size([2, 3, 16, 224, 224])\n",
      "torch.Size([2, 3, 16, 224, 224])\n",
      "torch.Size([2, 3, 16, 224, 224])\n"
     ]
    },
    {
     "name": "stderr",
     "output_type": "stream",
     "text": [
      "2024-03-21 20:51:58,594 - mmaction - INFO - Epoch [43][35/43]\tlr: 4.832e-08, eta: 0:02:59, time: 0.469, data_time: 0.001, memory: 9832, top1_acc: 0.6000, top5_acc: 1.0000, loss_cls: 1.0507, loss: 1.0507\n"
     ]
    },
    {
     "name": "stdout",
     "output_type": "stream",
     "text": [
      "torch.Size([2, 3, 16, 224, 224])\n",
      "torch.Size([2, 3, 16, 224, 224])\n",
      "torch.Size([2, 3, 16, 224, 224])\n",
      "torch.Size([2, 3, 16, 224, 224])\n",
      "torch.Size([2, 3, 16, 224, 224])\n"
     ]
    },
    {
     "name": "stderr",
     "output_type": "stream",
     "text": [
      "2024-03-21 20:52:00,881 - mmaction - INFO - Epoch [43][40/43]\tlr: 4.832e-08, eta: 0:02:56, time: 0.457, data_time: 0.001, memory: 9832, top1_acc: 0.3000, top5_acc: 1.0000, loss_cls: 1.1269, loss: 1.1269\n"
     ]
    },
    {
     "name": "stdout",
     "output_type": "stream",
     "text": [
      "torch.Size([2, 3, 16, 224, 224])\n",
      "torch.Size([2, 3, 16, 224, 224])\n",
      "torch.Size([2, 3, 16, 224, 224])\n",
      "torch.Size([2, 3, 16, 224, 224])\n",
      "torch.Size([2, 3, 16, 224, 224])\n",
      "torch.Size([2, 3, 16, 224, 224])\n",
      "torch.Size([2, 3, 16, 224, 224])\n",
      "torch.Size([2, 3, 16, 224, 224])\n"
     ]
    },
    {
     "name": "stderr",
     "output_type": "stream",
     "text": [
      "2024-03-21 20:52:10,683 - mmaction - INFO - Epoch [44][5/43]\tlr: 3.718e-08, eta: 0:02:52, time: 1.602, data_time: 1.079, memory: 9832, top1_acc: 0.4000, top5_acc: 1.0000, loss_cls: 1.0375, loss: 1.0375\n"
     ]
    },
    {
     "name": "stdout",
     "output_type": "stream",
     "text": [
      "torch.Size([2, 3, 16, 224, 224])\n",
      "torch.Size([2, 3, 16, 224, 224])\n",
      "torch.Size([2, 3, 16, 224, 224])\n",
      "torch.Size([2, 3, 16, 224, 224])\n",
      "torch.Size([2, 3, 16, 224, 224])\n"
     ]
    },
    {
     "name": "stderr",
     "output_type": "stream",
     "text": [
      "2024-03-21 20:52:13,023 - mmaction - INFO - Epoch [44][10/43]\tlr: 3.718e-08, eta: 0:02:49, time: 0.468, data_time: 0.002, memory: 9832, top1_acc: 0.5000, top5_acc: 1.0000, loss_cls: 1.0150, loss: 1.0150\n"
     ]
    },
    {
     "name": "stdout",
     "output_type": "stream",
     "text": [
      "torch.Size([2, 3, 16, 224, 224])\n",
      "torch.Size([2, 3, 16, 224, 224])\n",
      "torch.Size([2, 3, 16, 224, 224])\n",
      "torch.Size([2, 3, 16, 224, 224])\n",
      "torch.Size([2, 3, 16, 224, 224])\n"
     ]
    },
    {
     "name": "stderr",
     "output_type": "stream",
     "text": [
      "2024-03-21 20:52:15,372 - mmaction - INFO - Epoch [44][15/43]\tlr: 3.718e-08, eta: 0:02:46, time: 0.469, data_time: 0.001, memory: 9832, top1_acc: 0.5000, top5_acc: 1.0000, loss_cls: 1.0494, loss: 1.0494\n"
     ]
    },
    {
     "name": "stdout",
     "output_type": "stream",
     "text": [
      "torch.Size([2, 3, 16, 224, 224])\n",
      "torch.Size([2, 3, 16, 224, 224])\n",
      "torch.Size([2, 3, 16, 224, 224])\n",
      "torch.Size([2, 3, 16, 224, 224])\n",
      "torch.Size([2, 3, 16, 224, 224])\n"
     ]
    },
    {
     "name": "stderr",
     "output_type": "stream",
     "text": [
      "2024-03-21 20:52:17,697 - mmaction - INFO - Epoch [44][20/43]\tlr: 3.718e-08, eta: 0:02:43, time: 0.466, data_time: 0.002, memory: 9832, top1_acc: 0.3000, top5_acc: 1.0000, loss_cls: 1.0913, loss: 1.0913\n"
     ]
    },
    {
     "name": "stdout",
     "output_type": "stream",
     "text": [
      "torch.Size([2, 3, 16, 224, 224])\n",
      "torch.Size([2, 3, 16, 224, 224])\n",
      "torch.Size([2, 3, 16, 224, 224])\n",
      "torch.Size([2, 3, 16, 224, 224])\n",
      "torch.Size([2, 3, 16, 224, 224])\n"
     ]
    },
    {
     "name": "stderr",
     "output_type": "stream",
     "text": [
      "2024-03-21 20:52:20,070 - mmaction - INFO - Epoch [44][25/43]\tlr: 3.718e-08, eta: 0:02:40, time: 0.475, data_time: 0.001, memory: 9832, top1_acc: 0.6000, top5_acc: 1.0000, loss_cls: 0.9481, loss: 0.9481\n"
     ]
    },
    {
     "name": "stdout",
     "output_type": "stream",
     "text": [
      "torch.Size([2, 3, 16, 224, 224])\n",
      "torch.Size([2, 3, 16, 224, 224])\n",
      "torch.Size([2, 3, 16, 224, 224])\n",
      "torch.Size([2, 3, 16, 224, 224])\n",
      "torch.Size([2, 3, 16, 224, 224])\n"
     ]
    },
    {
     "name": "stderr",
     "output_type": "stream",
     "text": [
      "2024-03-21 20:52:22,385 - mmaction - INFO - Epoch [44][30/43]\tlr: 3.718e-08, eta: 0:02:37, time: 0.463, data_time: 0.001, memory: 9832, top1_acc: 0.7000, top5_acc: 1.0000, loss_cls: 0.9718, loss: 0.9718\n"
     ]
    },
    {
     "name": "stdout",
     "output_type": "stream",
     "text": [
      "torch.Size([2, 3, 16, 224, 224])\n",
      "torch.Size([2, 3, 16, 224, 224])\n",
      "torch.Size([2, 3, 16, 224, 224])\n",
      "torch.Size([2, 3, 16, 224, 224])\n",
      "torch.Size([2, 3, 16, 224, 224])\n"
     ]
    },
    {
     "name": "stderr",
     "output_type": "stream",
     "text": [
      "2024-03-21 20:52:24,742 - mmaction - INFO - Epoch [44][35/43]\tlr: 3.718e-08, eta: 0:02:34, time: 0.471, data_time: 0.001, memory: 9832, top1_acc: 0.6000, top5_acc: 1.0000, loss_cls: 1.0561, loss: 1.0561\n"
     ]
    },
    {
     "name": "stdout",
     "output_type": "stream",
     "text": [
      "torch.Size([2, 3, 16, 224, 224])\n",
      "torch.Size([2, 3, 16, 224, 224])\n",
      "torch.Size([2, 3, 16, 224, 224])\n",
      "torch.Size([2, 3, 16, 224, 224])\n",
      "torch.Size([2, 3, 16, 224, 224])\n"
     ]
    },
    {
     "name": "stderr",
     "output_type": "stream",
     "text": [
      "2024-03-21 20:52:27,067 - mmaction - INFO - Epoch [44][40/43]\tlr: 3.718e-08, eta: 0:02:31, time: 0.465, data_time: 0.001, memory: 9832, top1_acc: 0.4000, top5_acc: 1.0000, loss_cls: 1.0548, loss: 1.0548\n"
     ]
    },
    {
     "name": "stdout",
     "output_type": "stream",
     "text": [
      "torch.Size([2, 3, 16, 224, 224])\n",
      "torch.Size([2, 3, 16, 224, 224])\n",
      "torch.Size([2, 3, 16, 224, 224])\n",
      "torch.Size([2, 3, 16, 224, 224])\n",
      "torch.Size([2, 3, 16, 224, 224])\n",
      "torch.Size([2, 3, 16, 224, 224])\n",
      "torch.Size([2, 3, 16, 224, 224])\n",
      "torch.Size([2, 3, 16, 224, 224])\n"
     ]
    },
    {
     "name": "stderr",
     "output_type": "stream",
     "text": [
      "2024-03-21 20:52:36,661 - mmaction - INFO - Epoch [45][5/43]\tlr: 2.743e-08, eta: 0:02:27, time: 1.570, data_time: 1.059, memory: 9832, top1_acc: 0.3000, top5_acc: 1.0000, loss_cls: 1.0794, loss: 1.0794\n"
     ]
    },
    {
     "name": "stdout",
     "output_type": "stream",
     "text": [
      "torch.Size([2, 3, 16, 224, 224])\n",
      "torch.Size([2, 3, 16, 224, 224])\n",
      "torch.Size([2, 3, 16, 224, 224])\n",
      "torch.Size([2, 3, 16, 224, 224])\n",
      "torch.Size([2, 3, 16, 224, 224])\n"
     ]
    },
    {
     "name": "stderr",
     "output_type": "stream",
     "text": [
      "2024-03-21 20:52:38,954 - mmaction - INFO - Epoch [45][10/43]\tlr: 2.743e-08, eta: 0:02:24, time: 0.459, data_time: 0.001, memory: 9832, top1_acc: 0.6000, top5_acc: 1.0000, loss_cls: 0.9336, loss: 0.9336\n"
     ]
    },
    {
     "name": "stdout",
     "output_type": "stream",
     "text": [
      "torch.Size([2, 3, 16, 224, 224])\n",
      "torch.Size([2, 3, 16, 224, 224])\n",
      "torch.Size([2, 3, 16, 224, 224])\n",
      "torch.Size([2, 3, 16, 224, 224])\n",
      "torch.Size([2, 3, 16, 224, 224])\n"
     ]
    },
    {
     "name": "stderr",
     "output_type": "stream",
     "text": [
      "2024-03-21 20:52:41,315 - mmaction - INFO - Epoch [45][15/43]\tlr: 2.743e-08, eta: 0:02:21, time: 0.472, data_time: 0.001, memory: 9832, top1_acc: 0.3000, top5_acc: 1.0000, loss_cls: 1.0630, loss: 1.0630\n"
     ]
    },
    {
     "name": "stdout",
     "output_type": "stream",
     "text": [
      "torch.Size([2, 3, 16, 224, 224])\n",
      "torch.Size([2, 3, 16, 224, 224])\n",
      "torch.Size([2, 3, 16, 224, 224])\n",
      "torch.Size([2, 3, 16, 224, 224])\n",
      "torch.Size([2, 3, 16, 224, 224])\n"
     ]
    },
    {
     "name": "stderr",
     "output_type": "stream",
     "text": [
      "2024-03-21 20:52:43,676 - mmaction - INFO - Epoch [45][20/43]\tlr: 2.743e-08, eta: 0:02:18, time: 0.471, data_time: 0.001, memory: 9832, top1_acc: 0.7000, top5_acc: 1.0000, loss_cls: 0.9653, loss: 0.9653\n"
     ]
    },
    {
     "name": "stdout",
     "output_type": "stream",
     "text": [
      "torch.Size([2, 3, 16, 224, 224])\n",
      "torch.Size([2, 3, 16, 224, 224])\n",
      "torch.Size([2, 3, 16, 224, 224])\n",
      "torch.Size([2, 3, 16, 224, 224])\n",
      "torch.Size([2, 3, 16, 224, 224])\n"
     ]
    },
    {
     "name": "stderr",
     "output_type": "stream",
     "text": [
      "2024-03-21 20:52:45,991 - mmaction - INFO - Epoch [45][25/43]\tlr: 2.743e-08, eta: 0:02:15, time: 0.464, data_time: 0.002, memory: 9832, top1_acc: 0.3000, top5_acc: 1.0000, loss_cls: 1.1101, loss: 1.1101\n"
     ]
    },
    {
     "name": "stdout",
     "output_type": "stream",
     "text": [
      "torch.Size([2, 3, 16, 224, 224])\n",
      "torch.Size([2, 3, 16, 224, 224])\n",
      "torch.Size([2, 3, 16, 224, 224])\n",
      "torch.Size([2, 3, 16, 224, 224])\n",
      "torch.Size([2, 3, 16, 224, 224])\n"
     ]
    },
    {
     "name": "stderr",
     "output_type": "stream",
     "text": [
      "2024-03-21 20:52:48,384 - mmaction - INFO - Epoch [45][30/43]\tlr: 2.743e-08, eta: 0:02:12, time: 0.479, data_time: 0.001, memory: 9832, top1_acc: 0.3000, top5_acc: 1.0000, loss_cls: 1.0842, loss: 1.0842\n"
     ]
    },
    {
     "name": "stdout",
     "output_type": "stream",
     "text": [
      "torch.Size([2, 3, 16, 224, 224])\n",
      "torch.Size([2, 3, 16, 224, 224])\n",
      "torch.Size([2, 3, 16, 224, 224])\n",
      "torch.Size([2, 3, 16, 224, 224])\n",
      "torch.Size([2, 3, 16, 224, 224])\n"
     ]
    },
    {
     "name": "stderr",
     "output_type": "stream",
     "text": [
      "2024-03-21 20:52:50,686 - mmaction - INFO - Epoch [45][35/43]\tlr: 2.743e-08, eta: 0:02:09, time: 0.460, data_time: 0.001, memory: 9832, top1_acc: 0.4000, top5_acc: 1.0000, loss_cls: 1.0078, loss: 1.0078\n"
     ]
    },
    {
     "name": "stdout",
     "output_type": "stream",
     "text": [
      "torch.Size([2, 3, 16, 224, 224])\n",
      "torch.Size([2, 3, 16, 224, 224])\n",
      "torch.Size([2, 3, 16, 224, 224])\n",
      "torch.Size([2, 3, 16, 224, 224])\n",
      "torch.Size([2, 3, 16, 224, 224])\n"
     ]
    },
    {
     "name": "stderr",
     "output_type": "stream",
     "text": [
      "2024-03-21 20:52:53,005 - mmaction - INFO - Epoch [45][40/43]\tlr: 2.743e-08, eta: 0:02:06, time: 0.464, data_time: 0.001, memory: 9832, top1_acc: 0.7000, top5_acc: 1.0000, loss_cls: 1.0055, loss: 1.0055\n"
     ]
    },
    {
     "name": "stdout",
     "output_type": "stream",
     "text": [
      "torch.Size([2, 3, 16, 224, 224])\n",
      "torch.Size([2, 3, 16, 224, 224])\n",
      "torch.Size([2, 3, 16, 224, 224])\n",
      "[>>>>>>>>>>>>>>>>>>>>>>>>>>>>>>>>>>>>>>>>>>>>>>>>>>] 23/23, 3.1 task/s, elapsed: 7s, ETA:     0s"
     ]
    },
    {
     "name": "stderr",
     "output_type": "stream",
     "text": [
      "2024-03-21 20:53:02,293 - mmaction - INFO - Evaluating top_k_accuracy ...\n",
      "2024-03-21 20:53:02,294 - mmaction - INFO - \n",
      "top1_acc\t0.5652\n",
      "top5_acc\t1.0000\n",
      "2024-03-21 20:53:02,294 - mmaction - INFO - Evaluating mean_class_accuracy ...\n",
      "2024-03-21 20:53:02,295 - mmaction - INFO - \n",
      "mean_acc\t0.4508\n",
      "2024-03-21 20:53:02,296 - mmaction - INFO - Epoch(val) [45][23]\ttop1_acc: 0.5652, top5_acc: 1.0000, mean_class_accuracy: 0.4508\n"
     ]
    },
    {
     "name": "stdout",
     "output_type": "stream",
     "text": [
      "mean_class_accuracy\n",
      "[1 1 0 1 0 1 0 1 1 0 0 0 1 1 0 0 1 0 0 0 0 1 0]\n",
      "[0, 1, 1, 0, 0, 2, 1, 1, 1, 0, 0, 0, 0, 1, 0, 0, 1, 0, 0, 2, 1, 2, 2]\n",
      "torch.Size([2, 3, 16, 224, 224])\n",
      "torch.Size([2, 3, 16, 224, 224])\n",
      "torch.Size([2, 3, 16, 224, 224])\n",
      "torch.Size([2, 3, 16, 224, 224])\n",
      "torch.Size([2, 3, 16, 224, 224])\n"
     ]
    },
    {
     "name": "stderr",
     "output_type": "stream",
     "text": [
      "2024-03-21 20:53:10,210 - mmaction - INFO - Epoch [46][5/43]\tlr: 1.912e-08, eta: 0:02:02, time: 1.581, data_time: 1.071, memory: 9832, top1_acc: 0.3000, top5_acc: 1.0000, loss_cls: 1.0652, loss: 1.0652\n"
     ]
    },
    {
     "name": "stdout",
     "output_type": "stream",
     "text": [
      "torch.Size([2, 3, 16, 224, 224])\n",
      "torch.Size([2, 3, 16, 224, 224])\n",
      "torch.Size([2, 3, 16, 224, 224])\n",
      "torch.Size([2, 3, 16, 224, 224])\n",
      "torch.Size([2, 3, 16, 224, 224])\n"
     ]
    },
    {
     "name": "stderr",
     "output_type": "stream",
     "text": [
      "2024-03-21 20:53:12,533 - mmaction - INFO - Epoch [46][10/43]\tlr: 1.912e-08, eta: 0:01:59, time: 0.465, data_time: 0.002, memory: 9832, top1_acc: 0.3000, top5_acc: 1.0000, loss_cls: 1.0520, loss: 1.0520\n"
     ]
    },
    {
     "name": "stdout",
     "output_type": "stream",
     "text": [
      "torch.Size([2, 3, 16, 224, 224])\n",
      "torch.Size([2, 3, 16, 224, 224])\n",
      "torch.Size([2, 3, 16, 224, 224])\n",
      "torch.Size([2, 3, 16, 224, 224])\n",
      "torch.Size([2, 3, 16, 224, 224])\n"
     ]
    },
    {
     "name": "stderr",
     "output_type": "stream",
     "text": [
      "2024-03-21 20:53:14,840 - mmaction - INFO - Epoch [46][15/43]\tlr: 1.912e-08, eta: 0:01:56, time: 0.461, data_time: 0.001, memory: 9832, top1_acc: 0.5000, top5_acc: 1.0000, loss_cls: 1.0265, loss: 1.0265\n"
     ]
    },
    {
     "name": "stdout",
     "output_type": "stream",
     "text": [
      "torch.Size([2, 3, 16, 224, 224])\n",
      "torch.Size([2, 3, 16, 224, 224])\n",
      "torch.Size([2, 3, 16, 224, 224])\n",
      "torch.Size([2, 3, 16, 224, 224])\n",
      "torch.Size([2, 3, 16, 224, 224])\n"
     ]
    },
    {
     "name": "stderr",
     "output_type": "stream",
     "text": [
      "2024-03-21 20:53:17,196 - mmaction - INFO - Epoch [46][20/43]\tlr: 1.912e-08, eta: 0:01:53, time: 0.471, data_time: 0.001, memory: 9832, top1_acc: 0.5000, top5_acc: 1.0000, loss_cls: 0.9886, loss: 0.9886\n"
     ]
    },
    {
     "name": "stdout",
     "output_type": "stream",
     "text": [
      "torch.Size([2, 3, 16, 224, 224])\n",
      "torch.Size([2, 3, 16, 224, 224])\n",
      "torch.Size([2, 3, 16, 224, 224])\n",
      "torch.Size([2, 3, 16, 224, 224])\n",
      "torch.Size([2, 3, 16, 224, 224])\n"
     ]
    },
    {
     "name": "stderr",
     "output_type": "stream",
     "text": [
      "2024-03-21 20:53:19,552 - mmaction - INFO - Epoch [46][25/43]\tlr: 1.912e-08, eta: 0:01:50, time: 0.470, data_time: 0.001, memory: 9832, top1_acc: 0.8000, top5_acc: 1.0000, loss_cls: 1.0111, loss: 1.0111\n"
     ]
    },
    {
     "name": "stdout",
     "output_type": "stream",
     "text": [
      "torch.Size([2, 3, 16, 224, 224])\n",
      "torch.Size([2, 3, 16, 224, 224])\n",
      "torch.Size([2, 3, 16, 224, 224])\n",
      "torch.Size([2, 3, 16, 224, 224])\n",
      "torch.Size([2, 3, 16, 224, 224])\n"
     ]
    },
    {
     "name": "stderr",
     "output_type": "stream",
     "text": [
      "2024-03-21 20:53:21,863 - mmaction - INFO - Epoch [46][30/43]\tlr: 1.912e-08, eta: 0:01:47, time: 0.463, data_time: 0.002, memory: 9832, top1_acc: 0.6000, top5_acc: 1.0000, loss_cls: 0.9749, loss: 0.9749\n"
     ]
    },
    {
     "name": "stdout",
     "output_type": "stream",
     "text": [
      "torch.Size([2, 3, 16, 224, 224])\n",
      "torch.Size([2, 3, 16, 224, 224])\n",
      "torch.Size([2, 3, 16, 224, 224])\n",
      "torch.Size([2, 3, 16, 224, 224])\n",
      "torch.Size([2, 3, 16, 224, 224])\n"
     ]
    },
    {
     "name": "stderr",
     "output_type": "stream",
     "text": [
      "2024-03-21 20:53:24,217 - mmaction - INFO - Epoch [46][35/43]\tlr: 1.912e-08, eta: 0:01:44, time: 0.471, data_time: 0.001, memory: 9832, top1_acc: 0.4000, top5_acc: 1.0000, loss_cls: 0.9817, loss: 0.9817\n"
     ]
    },
    {
     "name": "stdout",
     "output_type": "stream",
     "text": [
      "torch.Size([2, 3, 16, 224, 224])\n",
      "torch.Size([2, 3, 16, 224, 224])\n",
      "torch.Size([2, 3, 16, 224, 224])\n",
      "torch.Size([2, 3, 16, 224, 224])\n",
      "torch.Size([2, 3, 16, 224, 224])\n"
     ]
    },
    {
     "name": "stderr",
     "output_type": "stream",
     "text": [
      "2024-03-21 20:53:26,512 - mmaction - INFO - Epoch [46][40/43]\tlr: 1.912e-08, eta: 0:01:41, time: 0.459, data_time: 0.001, memory: 9832, top1_acc: 0.6000, top5_acc: 1.0000, loss_cls: 0.9853, loss: 0.9853\n"
     ]
    },
    {
     "name": "stdout",
     "output_type": "stream",
     "text": [
      "torch.Size([2, 3, 16, 224, 224])\n",
      "torch.Size([2, 3, 16, 224, 224])\n",
      "torch.Size([2, 3, 16, 224, 224])\n",
      "torch.Size([2, 3, 16, 224, 224])\n",
      "torch.Size([2, 3, 16, 224, 224])\n",
      "torch.Size([2, 3, 16, 224, 224])\n",
      "torch.Size([2, 3, 16, 224, 224])\n",
      "torch.Size([2, 3, 16, 224, 224])\n"
     ]
    },
    {
     "name": "stderr",
     "output_type": "stream",
     "text": [
      "2024-03-21 20:53:36,231 - mmaction - INFO - Epoch [47][5/43]\tlr: 1.227e-08, eta: 0:01:37, time: 1.594, data_time: 1.072, memory: 9832, top1_acc: 0.5000, top5_acc: 1.0000, loss_cls: 1.0666, loss: 1.0666\n"
     ]
    },
    {
     "name": "stdout",
     "output_type": "stream",
     "text": [
      "torch.Size([2, 3, 16, 224, 224])\n",
      "torch.Size([2, 3, 16, 224, 224])\n",
      "torch.Size([2, 3, 16, 224, 224])\n",
      "torch.Size([2, 3, 16, 224, 224])\n",
      "torch.Size([2, 3, 16, 224, 224])\n"
     ]
    },
    {
     "name": "stderr",
     "output_type": "stream",
     "text": [
      "2024-03-21 20:53:38,565 - mmaction - INFO - Epoch [47][10/43]\tlr: 1.227e-08, eta: 0:01:34, time: 0.467, data_time: 0.001, memory: 9832, top1_acc: 0.6000, top5_acc: 1.0000, loss_cls: 1.0058, loss: 1.0058\n"
     ]
    },
    {
     "name": "stdout",
     "output_type": "stream",
     "text": [
      "torch.Size([2, 3, 16, 224, 224])\n",
      "torch.Size([2, 3, 16, 224, 224])\n",
      "torch.Size([2, 3, 16, 224, 224])\n",
      "torch.Size([2, 3, 16, 224, 224])\n",
      "torch.Size([2, 3, 16, 224, 224])\n"
     ]
    },
    {
     "name": "stderr",
     "output_type": "stream",
     "text": [
      "2024-03-21 20:53:40,919 - mmaction - INFO - Epoch [47][15/43]\tlr: 1.227e-08, eta: 0:01:31, time: 0.471, data_time: 0.001, memory: 9832, top1_acc: 0.5000, top5_acc: 1.0000, loss_cls: 0.9871, loss: 0.9871\n"
     ]
    },
    {
     "name": "stdout",
     "output_type": "stream",
     "text": [
      "torch.Size([2, 3, 16, 224, 224])\n",
      "torch.Size([2, 3, 16, 224, 224])\n",
      "torch.Size([2, 3, 16, 224, 224])\n",
      "torch.Size([2, 3, 16, 224, 224])\n",
      "torch.Size([2, 3, 16, 224, 224])\n"
     ]
    },
    {
     "name": "stderr",
     "output_type": "stream",
     "text": [
      "2024-03-21 20:53:43,233 - mmaction - INFO - Epoch [47][20/43]\tlr: 1.227e-08, eta: 0:01:28, time: 0.463, data_time: 0.001, memory: 9832, top1_acc: 0.5000, top5_acc: 1.0000, loss_cls: 0.9708, loss: 0.9708\n"
     ]
    },
    {
     "name": "stdout",
     "output_type": "stream",
     "text": [
      "torch.Size([2, 3, 16, 224, 224])\n",
      "torch.Size([2, 3, 16, 224, 224])\n",
      "torch.Size([2, 3, 16, 224, 224])\n",
      "torch.Size([2, 3, 16, 224, 224])\n",
      "torch.Size([2, 3, 16, 224, 224])\n"
     ]
    },
    {
     "name": "stderr",
     "output_type": "stream",
     "text": [
      "2024-03-21 20:53:45,595 - mmaction - INFO - Epoch [47][25/43]\tlr: 1.227e-08, eta: 0:01:25, time: 0.472, data_time: 0.001, memory: 9832, top1_acc: 0.8000, top5_acc: 1.0000, loss_cls: 0.9281, loss: 0.9281\n"
     ]
    },
    {
     "name": "stdout",
     "output_type": "stream",
     "text": [
      "torch.Size([2, 3, 16, 224, 224])\n",
      "torch.Size([2, 3, 16, 224, 224])\n",
      "torch.Size([2, 3, 16, 224, 224])\n",
      "torch.Size([2, 3, 16, 224, 224])\n",
      "torch.Size([2, 3, 16, 224, 224])\n"
     ]
    },
    {
     "name": "stderr",
     "output_type": "stream",
     "text": [
      "2024-03-21 20:53:47,975 - mmaction - INFO - Epoch [47][30/43]\tlr: 1.227e-08, eta: 0:01:22, time: 0.475, data_time: 0.001, memory: 9832, top1_acc: 0.4000, top5_acc: 1.0000, loss_cls: 1.0417, loss: 1.0417\n"
     ]
    },
    {
     "name": "stdout",
     "output_type": "stream",
     "text": [
      "torch.Size([2, 3, 16, 224, 224])\n",
      "torch.Size([2, 3, 16, 224, 224])\n",
      "torch.Size([2, 3, 16, 224, 224])\n",
      "torch.Size([2, 3, 16, 224, 224])\n",
      "torch.Size([2, 3, 16, 224, 224])\n"
     ]
    },
    {
     "name": "stderr",
     "output_type": "stream",
     "text": [
      "2024-03-21 20:53:50,290 - mmaction - INFO - Epoch [47][35/43]\tlr: 1.227e-08, eta: 0:01:19, time: 0.464, data_time: 0.002, memory: 9832, top1_acc: 0.2000, top5_acc: 1.0000, loss_cls: 1.0580, loss: 1.0580\n"
     ]
    },
    {
     "name": "stdout",
     "output_type": "stream",
     "text": [
      "torch.Size([2, 3, 16, 224, 224])\n",
      "torch.Size([2, 3, 16, 224, 224])\n",
      "torch.Size([2, 3, 16, 224, 224])\n",
      "torch.Size([2, 3, 16, 224, 224])\n",
      "torch.Size([2, 3, 16, 224, 224])\n"
     ]
    },
    {
     "name": "stderr",
     "output_type": "stream",
     "text": [
      "2024-03-21 20:53:52,618 - mmaction - INFO - Epoch [47][40/43]\tlr: 1.227e-08, eta: 0:01:16, time: 0.466, data_time: 0.001, memory: 9832, top1_acc: 0.5000, top5_acc: 1.0000, loss_cls: 1.0463, loss: 1.0463\n"
     ]
    },
    {
     "name": "stdout",
     "output_type": "stream",
     "text": [
      "torch.Size([2, 3, 16, 224, 224])\n",
      "torch.Size([2, 3, 16, 224, 224])\n",
      "torch.Size([2, 3, 16, 224, 224])\n",
      "torch.Size([2, 3, 16, 224, 224])\n",
      "torch.Size([2, 3, 16, 224, 224])\n",
      "torch.Size([2, 3, 16, 224, 224])\n",
      "torch.Size([2, 3, 16, 224, 224])\n",
      "torch.Size([2, 3, 16, 224, 224])\n"
     ]
    },
    {
     "name": "stderr",
     "output_type": "stream",
     "text": [
      "2024-03-21 20:54:02,425 - mmaction - INFO - Epoch [48][5/43]\tlr: 6.919e-09, eta: 0:01:12, time: 1.619, data_time: 1.083, memory: 9832, top1_acc: 0.5000, top5_acc: 1.0000, loss_cls: 0.9704, loss: 0.9704\n"
     ]
    },
    {
     "name": "stdout",
     "output_type": "stream",
     "text": [
      "torch.Size([2, 3, 16, 224, 224])\n",
      "torch.Size([2, 3, 16, 224, 224])\n",
      "torch.Size([2, 3, 16, 224, 224])\n",
      "torch.Size([2, 3, 16, 224, 224])\n",
      "torch.Size([2, 3, 16, 224, 224])\n"
     ]
    },
    {
     "name": "stderr",
     "output_type": "stream",
     "text": [
      "2024-03-21 20:54:04,727 - mmaction - INFO - Epoch [48][10/43]\tlr: 6.919e-09, eta: 0:01:09, time: 0.460, data_time: 0.001, memory: 9832, top1_acc: 0.3000, top5_acc: 1.0000, loss_cls: 1.0553, loss: 1.0553\n"
     ]
    },
    {
     "name": "stdout",
     "output_type": "stream",
     "text": [
      "torch.Size([2, 3, 16, 224, 224])\n",
      "torch.Size([2, 3, 16, 224, 224])\n",
      "torch.Size([2, 3, 16, 224, 224])\n",
      "torch.Size([2, 3, 16, 224, 224])\n",
      "torch.Size([2, 3, 16, 224, 224])\n"
     ]
    },
    {
     "name": "stderr",
     "output_type": "stream",
     "text": [
      "2024-03-21 20:54:07,085 - mmaction - INFO - Epoch [48][15/43]\tlr: 6.919e-09, eta: 0:01:06, time: 0.472, data_time: 0.001, memory: 9832, top1_acc: 0.6000, top5_acc: 1.0000, loss_cls: 1.0380, loss: 1.0380\n"
     ]
    },
    {
     "name": "stdout",
     "output_type": "stream",
     "text": [
      "torch.Size([2, 3, 16, 224, 224])\n",
      "torch.Size([2, 3, 16, 224, 224])\n",
      "torch.Size([2, 3, 16, 224, 224])\n",
      "torch.Size([2, 3, 16, 224, 224])\n",
      "torch.Size([2, 3, 16, 224, 224])\n"
     ]
    },
    {
     "name": "stderr",
     "output_type": "stream",
     "text": [
      "2024-03-21 20:54:09,460 - mmaction - INFO - Epoch [48][20/43]\tlr: 6.919e-09, eta: 0:01:03, time: 0.475, data_time: 0.001, memory: 9832, top1_acc: 0.3000, top5_acc: 1.0000, loss_cls: 1.0203, loss: 1.0203\n"
     ]
    },
    {
     "name": "stdout",
     "output_type": "stream",
     "text": [
      "torch.Size([2, 3, 16, 224, 224])\n",
      "torch.Size([2, 3, 16, 224, 224])\n",
      "torch.Size([2, 3, 16, 224, 224])\n",
      "torch.Size([2, 3, 16, 224, 224])\n",
      "torch.Size([2, 3, 16, 224, 224])\n"
     ]
    },
    {
     "name": "stderr",
     "output_type": "stream",
     "text": [
      "2024-03-21 20:54:11,793 - mmaction - INFO - Epoch [48][25/43]\tlr: 6.919e-09, eta: 0:01:00, time: 0.467, data_time: 0.001, memory: 9832, top1_acc: 0.5000, top5_acc: 1.0000, loss_cls: 1.0193, loss: 1.0193\n"
     ]
    },
    {
     "name": "stdout",
     "output_type": "stream",
     "text": [
      "torch.Size([2, 3, 16, 224, 224])\n",
      "torch.Size([2, 3, 16, 224, 224])\n",
      "torch.Size([2, 3, 16, 224, 224])\n",
      "torch.Size([2, 3, 16, 224, 224])\n",
      "torch.Size([2, 3, 16, 224, 224])\n"
     ]
    },
    {
     "name": "stderr",
     "output_type": "stream",
     "text": [
      "2024-03-21 20:54:14,169 - mmaction - INFO - Epoch [48][30/43]\tlr: 6.919e-09, eta: 0:00:57, time: 0.475, data_time: 0.001, memory: 9832, top1_acc: 0.5000, top5_acc: 1.0000, loss_cls: 1.0675, loss: 1.0675\n"
     ]
    },
    {
     "name": "stdout",
     "output_type": "stream",
     "text": [
      "torch.Size([2, 3, 16, 224, 224])\n",
      "torch.Size([2, 3, 16, 224, 224])\n",
      "torch.Size([2, 3, 16, 224, 224])\n",
      "torch.Size([2, 3, 16, 224, 224])\n",
      "torch.Size([2, 3, 16, 224, 224])\n"
     ]
    },
    {
     "name": "stderr",
     "output_type": "stream",
     "text": [
      "2024-03-21 20:54:16,532 - mmaction - INFO - Epoch [48][35/43]\tlr: 6.919e-09, eta: 0:00:54, time: 0.471, data_time: 0.001, memory: 9832, top1_acc: 0.6000, top5_acc: 1.0000, loss_cls: 1.0171, loss: 1.0171\n"
     ]
    },
    {
     "name": "stdout",
     "output_type": "stream",
     "text": [
      "torch.Size([2, 3, 16, 224, 224])\n",
      "torch.Size([2, 3, 16, 224, 224])\n",
      "torch.Size([2, 3, 16, 224, 224])\n",
      "torch.Size([2, 3, 16, 224, 224])\n",
      "torch.Size([2, 3, 16, 224, 224])\n"
     ]
    },
    {
     "name": "stderr",
     "output_type": "stream",
     "text": [
      "2024-03-21 20:54:18,819 - mmaction - INFO - Epoch [48][40/43]\tlr: 6.919e-09, eta: 0:00:51, time: 0.458, data_time: 0.002, memory: 9832, top1_acc: 0.4000, top5_acc: 1.0000, loss_cls: 1.1404, loss: 1.1404\n"
     ]
    },
    {
     "name": "stdout",
     "output_type": "stream",
     "text": [
      "torch.Size([2, 3, 16, 224, 224])\n",
      "torch.Size([2, 3, 16, 224, 224])\n",
      "torch.Size([2, 3, 16, 224, 224])\n",
      "torch.Size([2, 3, 16, 224, 224])\n",
      "torch.Size([2, 3, 16, 224, 224])\n",
      "torch.Size([2, 3, 16, 224, 224])\n",
      "torch.Size([2, 3, 16, 224, 224])\n",
      "torch.Size([2, 3, 16, 224, 224])\n"
     ]
    },
    {
     "name": "stderr",
     "output_type": "stream",
     "text": [
      "2024-03-21 20:54:28,604 - mmaction - INFO - Epoch [49][5/43]\tlr: 3.080e-09, eta: 0:00:47, time: 1.602, data_time: 1.067, memory: 9832, top1_acc: 0.6000, top5_acc: 1.0000, loss_cls: 1.0323, loss: 1.0323\n"
     ]
    },
    {
     "name": "stdout",
     "output_type": "stream",
     "text": [
      "torch.Size([2, 3, 16, 224, 224])\n",
      "torch.Size([2, 3, 16, 224, 224])\n",
      "torch.Size([2, 3, 16, 224, 224])\n",
      "torch.Size([2, 3, 16, 224, 224])\n",
      "torch.Size([2, 3, 16, 224, 224])\n"
     ]
    },
    {
     "name": "stderr",
     "output_type": "stream",
     "text": [
      "2024-03-21 20:54:30,939 - mmaction - INFO - Epoch [49][10/43]\tlr: 3.080e-09, eta: 0:00:44, time: 0.467, data_time: 0.001, memory: 9832, top1_acc: 0.2000, top5_acc: 1.0000, loss_cls: 1.1597, loss: 1.1597\n"
     ]
    },
    {
     "name": "stdout",
     "output_type": "stream",
     "text": [
      "torch.Size([2, 3, 16, 224, 224])\n",
      "torch.Size([2, 3, 16, 224, 224])\n",
      "torch.Size([2, 3, 16, 224, 224])\n",
      "torch.Size([2, 3, 16, 224, 224])\n",
      "torch.Size([2, 3, 16, 224, 224])\n"
     ]
    },
    {
     "name": "stderr",
     "output_type": "stream",
     "text": [
      "2024-03-21 20:54:33,254 - mmaction - INFO - Epoch [49][15/43]\tlr: 3.080e-09, eta: 0:00:41, time: 0.463, data_time: 0.001, memory: 9832, top1_acc: 0.5000, top5_acc: 1.0000, loss_cls: 1.0157, loss: 1.0157\n"
     ]
    },
    {
     "name": "stdout",
     "output_type": "stream",
     "text": [
      "torch.Size([2, 3, 16, 224, 224])\n",
      "torch.Size([2, 3, 16, 224, 224])\n",
      "torch.Size([2, 3, 16, 224, 224])\n",
      "torch.Size([2, 3, 16, 224, 224])\n",
      "torch.Size([2, 3, 16, 224, 224])\n"
     ]
    },
    {
     "name": "stderr",
     "output_type": "stream",
     "text": [
      "2024-03-21 20:54:35,612 - mmaction - INFO - Epoch [49][20/43]\tlr: 3.080e-09, eta: 0:00:38, time: 0.471, data_time: 0.001, memory: 9832, top1_acc: 0.3000, top5_acc: 1.0000, loss_cls: 1.1155, loss: 1.1155\n"
     ]
    },
    {
     "name": "stdout",
     "output_type": "stream",
     "text": [
      "torch.Size([2, 3, 16, 224, 224])\n",
      "torch.Size([2, 3, 16, 224, 224])\n",
      "torch.Size([2, 3, 16, 224, 224])\n",
      "torch.Size([2, 3, 16, 224, 224])\n",
      "torch.Size([2, 3, 16, 224, 224])\n"
     ]
    },
    {
     "name": "stderr",
     "output_type": "stream",
     "text": [
      "2024-03-21 20:54:37,963 - mmaction - INFO - Epoch [49][25/43]\tlr: 3.080e-09, eta: 0:00:35, time: 0.470, data_time: 0.001, memory: 9832, top1_acc: 0.7000, top5_acc: 1.0000, loss_cls: 0.9840, loss: 0.9840\n"
     ]
    },
    {
     "name": "stdout",
     "output_type": "stream",
     "text": [
      "torch.Size([2, 3, 16, 224, 224])\n",
      "torch.Size([2, 3, 16, 224, 224])\n",
      "torch.Size([2, 3, 16, 224, 224])\n",
      "torch.Size([2, 3, 16, 224, 224])\n",
      "torch.Size([2, 3, 16, 224, 224])\n"
     ]
    },
    {
     "name": "stderr",
     "output_type": "stream",
     "text": [
      "2024-03-21 20:54:40,276 - mmaction - INFO - Epoch [49][30/43]\tlr: 3.080e-09, eta: 0:00:32, time: 0.463, data_time: 0.002, memory: 9832, top1_acc: 0.5000, top5_acc: 1.0000, loss_cls: 1.0697, loss: 1.0697\n"
     ]
    },
    {
     "name": "stdout",
     "output_type": "stream",
     "text": [
      "torch.Size([2, 3, 16, 224, 224])\n",
      "torch.Size([2, 3, 16, 224, 224])\n",
      "torch.Size([2, 3, 16, 224, 224])\n",
      "torch.Size([2, 3, 16, 224, 224])\n",
      "torch.Size([2, 3, 16, 224, 224])\n"
     ]
    },
    {
     "name": "stderr",
     "output_type": "stream",
     "text": [
      "2024-03-21 20:54:42,621 - mmaction - INFO - Epoch [49][35/43]\tlr: 3.080e-09, eta: 0:00:29, time: 0.469, data_time: 0.001, memory: 9832, top1_acc: 0.5000, top5_acc: 1.0000, loss_cls: 1.0061, loss: 1.0061\n"
     ]
    },
    {
     "name": "stdout",
     "output_type": "stream",
     "text": [
      "torch.Size([2, 3, 16, 224, 224])\n",
      "torch.Size([2, 3, 16, 224, 224])\n",
      "torch.Size([2, 3, 16, 224, 224])\n",
      "torch.Size([2, 3, 16, 224, 224])\n",
      "torch.Size([2, 3, 16, 224, 224])\n"
     ]
    },
    {
     "name": "stderr",
     "output_type": "stream",
     "text": [
      "2024-03-21 20:54:44,958 - mmaction - INFO - Epoch [49][40/43]\tlr: 3.080e-09, eta: 0:00:26, time: 0.467, data_time: 0.001, memory: 9832, top1_acc: 0.7000, top5_acc: 1.0000, loss_cls: 0.9134, loss: 0.9134\n"
     ]
    },
    {
     "name": "stdout",
     "output_type": "stream",
     "text": [
      "torch.Size([2, 3, 16, 224, 224])\n",
      "torch.Size([2, 3, 16, 224, 224])\n",
      "torch.Size([2, 3, 16, 224, 224])\n",
      "torch.Size([2, 3, 16, 224, 224])\n",
      "torch.Size([2, 3, 16, 224, 224])\n",
      "torch.Size([2, 3, 16, 224, 224])\n",
      "torch.Size([2, 3, 16, 224, 224])\n",
      "torch.Size([2, 3, 16, 224, 224])\n"
     ]
    },
    {
     "name": "stderr",
     "output_type": "stream",
     "text": [
      "2024-03-21 20:54:54,597 - mmaction - INFO - Epoch [50][5/43]\tlr: 7.708e-10, eta: 0:00:22, time: 1.581, data_time: 1.069, memory: 9832, top1_acc: 0.1000, top5_acc: 1.0000, loss_cls: 1.1342, loss: 1.1342\n"
     ]
    },
    {
     "name": "stdout",
     "output_type": "stream",
     "text": [
      "torch.Size([2, 3, 16, 224, 224])\n",
      "torch.Size([2, 3, 16, 224, 224])\n",
      "torch.Size([2, 3, 16, 224, 224])\n",
      "torch.Size([2, 3, 16, 224, 224])\n",
      "torch.Size([2, 3, 16, 224, 224])\n"
     ]
    },
    {
     "name": "stderr",
     "output_type": "stream",
     "text": [
      "2024-03-21 20:54:56,881 - mmaction - INFO - Epoch [50][10/43]\tlr: 7.708e-10, eta: 0:00:19, time: 0.458, data_time: 0.002, memory: 9832, top1_acc: 0.7000, top5_acc: 1.0000, loss_cls: 1.0153, loss: 1.0153\n"
     ]
    },
    {
     "name": "stdout",
     "output_type": "stream",
     "text": [
      "torch.Size([2, 3, 16, 224, 224])\n",
      "torch.Size([2, 3, 16, 224, 224])\n",
      "torch.Size([2, 3, 16, 224, 224])\n",
      "torch.Size([2, 3, 16, 224, 224])\n",
      "torch.Size([2, 3, 16, 224, 224])\n"
     ]
    },
    {
     "name": "stderr",
     "output_type": "stream",
     "text": [
      "2024-03-21 20:54:59,235 - mmaction - INFO - Epoch [50][15/43]\tlr: 7.708e-10, eta: 0:00:16, time: 0.471, data_time: 0.001, memory: 9832, top1_acc: 0.4000, top5_acc: 1.0000, loss_cls: 1.1225, loss: 1.1225\n"
     ]
    },
    {
     "name": "stdout",
     "output_type": "stream",
     "text": [
      "torch.Size([2, 3, 16, 224, 224])\n",
      "torch.Size([2, 3, 16, 224, 224])\n",
      "torch.Size([2, 3, 16, 224, 224])\n",
      "torch.Size([2, 3, 16, 224, 224])\n",
      "torch.Size([2, 3, 16, 224, 224])\n"
     ]
    },
    {
     "name": "stderr",
     "output_type": "stream",
     "text": [
      "2024-03-21 20:55:01,546 - mmaction - INFO - Epoch [50][20/43]\tlr: 7.708e-10, eta: 0:00:13, time: 0.462, data_time: 0.001, memory: 9832, top1_acc: 0.5000, top5_acc: 1.0000, loss_cls: 1.0191, loss: 1.0191\n"
     ]
    },
    {
     "name": "stdout",
     "output_type": "stream",
     "text": [
      "torch.Size([2, 3, 16, 224, 224])\n",
      "torch.Size([2, 3, 16, 224, 224])\n",
      "torch.Size([2, 3, 16, 224, 224])\n",
      "torch.Size([2, 3, 16, 224, 224])\n",
      "torch.Size([2, 3, 16, 224, 224])\n"
     ]
    },
    {
     "name": "stderr",
     "output_type": "stream",
     "text": [
      "2024-03-21 20:55:03,901 - mmaction - INFO - Epoch [50][25/43]\tlr: 7.708e-10, eta: 0:00:10, time: 0.471, data_time: 0.001, memory: 9832, top1_acc: 0.5000, top5_acc: 1.0000, loss_cls: 0.9815, loss: 0.9815\n"
     ]
    },
    {
     "name": "stdout",
     "output_type": "stream",
     "text": [
      "torch.Size([2, 3, 16, 224, 224])\n",
      "torch.Size([2, 3, 16, 224, 224])\n",
      "torch.Size([2, 3, 16, 224, 224])\n",
      "torch.Size([2, 3, 16, 224, 224])\n",
      "torch.Size([2, 3, 16, 224, 224])\n"
     ]
    },
    {
     "name": "stderr",
     "output_type": "stream",
     "text": [
      "2024-03-21 20:55:06,253 - mmaction - INFO - Epoch [50][30/43]\tlr: 7.708e-10, eta: 0:00:07, time: 0.470, data_time: 0.001, memory: 9832, top1_acc: 0.6000, top5_acc: 1.0000, loss_cls: 0.9884, loss: 0.9884\n"
     ]
    },
    {
     "name": "stdout",
     "output_type": "stream",
     "text": [
      "torch.Size([2, 3, 16, 224, 224])\n",
      "torch.Size([2, 3, 16, 224, 224])\n",
      "torch.Size([2, 3, 16, 224, 224])\n",
      "torch.Size([2, 3, 16, 224, 224])\n",
      "torch.Size([2, 3, 16, 224, 224])\n"
     ]
    },
    {
     "name": "stderr",
     "output_type": "stream",
     "text": [
      "2024-03-21 20:55:08,560 - mmaction - INFO - Epoch [50][35/43]\tlr: 7.708e-10, eta: 0:00:04, time: 0.461, data_time: 0.002, memory: 9832, top1_acc: 0.6000, top5_acc: 1.0000, loss_cls: 1.0294, loss: 1.0294\n"
     ]
    },
    {
     "name": "stdout",
     "output_type": "stream",
     "text": [
      "torch.Size([2, 3, 16, 224, 224])\n",
      "torch.Size([2, 3, 16, 224, 224])\n",
      "torch.Size([2, 3, 16, 224, 224])\n",
      "torch.Size([2, 3, 16, 224, 224])\n",
      "torch.Size([2, 3, 16, 224, 224])\n"
     ]
    },
    {
     "name": "stderr",
     "output_type": "stream",
     "text": [
      "2024-03-21 20:55:10,888 - mmaction - INFO - Epoch [50][40/43]\tlr: 7.708e-10, eta: 0:00:01, time: 0.466, data_time: 0.001, memory: 9832, top1_acc: 0.6000, top5_acc: 1.0000, loss_cls: 1.0088, loss: 1.0088\n"
     ]
    },
    {
     "name": "stdout",
     "output_type": "stream",
     "text": [
      "torch.Size([2, 3, 16, 224, 224])\n",
      "torch.Size([2, 3, 16, 224, 224])\n",
      "torch.Size([2, 3, 16, 224, 224])\n"
     ]
    },
    {
     "name": "stderr",
     "output_type": "stream",
     "text": [
      "2024-03-21 20:55:12,628 - mmaction - INFO - Saving checkpoint at 50 epochs\n"
     ]
    },
    {
     "name": "stdout",
     "output_type": "stream",
     "text": [
      "[>>>>>>>>>>>>>>>>>>>>>>>>>>>>>>>>>>>>>>>>>>>>>>>>>>] 23/23, 3.1 task/s, elapsed: 7s, ETA:     0s"
     ]
    },
    {
     "name": "stderr",
     "output_type": "stream",
     "text": [
      "2024-03-21 20:55:21,595 - mmaction - INFO - Evaluating top_k_accuracy ...\n",
      "2024-03-21 20:55:21,596 - mmaction - INFO - \n",
      "top1_acc\t0.5652\n",
      "top5_acc\t1.0000\n",
      "2024-03-21 20:55:21,596 - mmaction - INFO - Evaluating mean_class_accuracy ...\n",
      "2024-03-21 20:55:21,597 - mmaction - INFO - \n",
      "mean_acc\t0.4508\n",
      "2024-03-21 20:55:21,598 - mmaction - INFO - Epoch(val) [50][23]\ttop1_acc: 0.5652, top5_acc: 1.0000, mean_class_accuracy: 0.4508\n"
     ]
    },
    {
     "name": "stdout",
     "output_type": "stream",
     "text": [
      "mean_class_accuracy\n",
      "[1 1 0 1 0 1 0 1 1 0 0 0 1 1 0 0 1 0 0 0 0 1 0]\n",
      "[0, 1, 1, 0, 0, 2, 1, 1, 1, 0, 0, 0, 0, 1, 0, 0, 1, 0, 0, 2, 1, 2, 2]\n"
     ]
    }
   ],
   "source": [
    "import os.path as osp\n",
    "\n",
    "from mmaction.datasets import build_dataset\n",
    "from mmaction.models import build_model\n",
    "from mmaction.apis import train_model\n",
    "\n",
    "import mmcv\n",
    "import os\n",
    "\n",
    "# Get a list of all files in the current directory\n",
    "files_in_directory = os.listdir()\n",
    "filtered_files = [file for file in files_in_directory if file.endswith(\".pt\")]\n",
    "\n",
    "# Loop through the list and remove each file\n",
    "for file in filtered_files:\n",
    "    os.remove(file)\n",
    "    #print(f\"Removed {file}\")\n",
    "# 构建数据集\n",
    "datasets = [build_dataset(cfg.data.train)]\n",
    "# 构建动作识别模型\n",
    "model = build_model(cfg.model, train_cfg=cfg.get('train_cfg'), test_cfg=cfg.get('test_cfg'))\n",
    "\n",
    "# 创建工作目录并训练模型\n",
    "mmcv.mkdir_or_exist(osp.abspath(cfg.work_dir))\n",
    "train_model(model, datasets, cfg, distributed=False, validate= True)"
   ]
  },
  {
   "cell_type": "code",
   "execution_count": null,
   "id": "9da3c44f",
   "metadata": {},
   "outputs": [],
   "source": []
  }
 ],
 "metadata": {
  "kernelspec": {
   "display_name": "Python 3",
   "language": "python",
   "name": "python3"
  },
  "language_info": {
   "codemirror_mode": {
    "name": "ipython",
    "version": 3
   },
   "file_extension": ".py",
   "mimetype": "text/x-python",
   "name": "python",
   "nbconvert_exporter": "python",
   "pygments_lexer": "ipython3",
   "version": "3.8.8"
  }
 },
 "nbformat": 4,
 "nbformat_minor": 5
}
